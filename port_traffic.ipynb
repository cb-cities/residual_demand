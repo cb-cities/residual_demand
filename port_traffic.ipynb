{
 "metadata": {
  "language_info": {
   "codemirror_mode": {
    "name": "ipython",
    "version": 3
   },
   "file_extension": ".py",
   "mimetype": "text/x-python",
   "name": "python",
   "nbconvert_exporter": "python",
   "pygments_lexer": "ipython3",
   "version": 3
  },
  "orig_nbformat": 2,
  "kernelspec": {
   "name": "python_defaultSpec_1597268248391",
   "display_name": "Python 3.7.7 64-bit ('geo': conda)"
  }
 },
 "nbformat": 4,
 "nbformat_minor": 2,
 "cells": [
  {
   "cell_type": "code",
   "execution_count": null,
   "metadata": {},
   "outputs": [],
   "source": [
    "import json\n",
    "import sys\n",
    "import numpy as np\n",
    "import scipy.sparse as ssparse\n",
    "import scipy.io as sio\n",
    "import multiprocessing\n",
    "from multiprocessing import Pool \n",
    "import time \n",
    "import os\n",
    "import datetime\n",
    "import warnings\n",
    "import pandas as pd \n",
    "from ctypes import *\n",
    "import gc \n",
    "from heapq import nlargest\n",
    "import shapely.wkt\n",
    "\n",
    "pd.set_option('display.max_columns', 10)\n",
    "sys.setrecursionlimit(2000)\n",
    "\n",
    "absolute_path = '.'\n",
    "sys.path.insert(0, absolute_path+'/../')\n",
    "sys.path.insert(0, '/home/bingyu/')\n",
    "from sp import interface \n"
   ]
  },
  {
   "cell_type": "code",
   "execution_count": 12,
   "metadata": {
    "tags": []
   },
   "outputs": [],
   "source": [
    "project_folder='los_angeles'\n",
    "\n",
    "### Read in the edge attribute for volume delay calculation later\n",
    "edges_df = pd.read_csv(absolute_path+'/projects/{}/network_inputs/osm_edges_scag.csv'.format(project_folder))\n",
    "nodes_df = pd.read_csv(absolute_path+'/projects/{}/network_inputs/osm_nodes_scag.csv'.format(project_folder))\n",
    "\n",
    "### results df\n",
    "### ATTENTION: consider which result file to use\n",
    "results_df = pd.read_csv(absolute_path+'/projects/{}/simulation_outputs/edges_df/edges_df_scenscag_5pct_bc30_r0_DYna_HR0_QT1.csv'.format(project_folder))\n",
    "results_df = results_df.replace([np.inf, -np.inf], np.nan)\n",
    "edges_df = edges_df.merge(results_df[['edge_id_igraph', 't_avg']], how='left', on='edge_id_igraph')\n",
    "edges_df['fft'] = np.where(np.isnan(edges_df['t_avg']), edges_df['fft'], edges_df['t_avg'])\n",
    "edges_df = edges_df.drop(columns=['t_avg'])\n",
    "\n",
    "## damage df\n",
    "damage_df0 = pd.read_csv(absolute_path+'/projects/{}/network_inputs/bridge_closure/bridge_closure_day90.csv'.format(project_folder))\n",
    "damage_links = damage_df0['OSMWayID1'].values.tolist() + damage_df0.dropna(subset=['OSMWayID2'])['OSMWayID2'].values.tolist()\n",
    "damage_df = pd.DataFrame({'edge_osmid': damage_links})\n",
    "damage_df = damage_df.merge(edges_df[['edge_osmid', 'edge_id_igraph']], how='left', on='edge_osmid')\n",
    "edges_df.loc[edges_df['edge_id_igraph'].isin(damage_df['edge_id_igraph']), 'fft'] = 10e7\n",
    "\n",
    "node_count = max(len(np.unique(edges_df['start_igraph'])), len(np.unique(edges_df['end_igraph'])))\n",
    "g_coo = ssparse.coo_matrix((edges_df['fft']*1.2, (edges_df['start_igraph'], edges_df['end_igraph'])), shape=(node_count, node_count))\n",
    "edges_df = edges_df[['edge_id_igraph', 'start_sp', 'end_sp', 'length', 'capacity', 'fft', 'type']]\n",
    "sio.mmwrite(absolute_path+'/projects/{}/simulation_outputs/network_sparse_port_traffic.mtx'.format(project_folder), g_coo)\n"
   ]
  },
  {
   "cell_type": "code",
   "execution_count": 16,
   "metadata": {
    "tags": []
   },
   "outputs": [
    {
     "output_type": "stream",
     "name": "stdout",
     "text": "origin osmid  123156182\ndestin osmid  87739120\nod straigtline distance (m) is  261534.8961740201\ntravel time (s) is  20211.624835573428\n"
    }
   ],
   "source": [
    "### read in the new graph for computing travel time of port traffic\n",
    "g = interface.readgraph(bytes(absolute_path+'/projects/{}/simulation_outputs/network_sparse_port_traffic.mtx'.format(project_folder), encoding='utf-8'))\n",
    "\n",
    "### port traffic od\n",
    "port_ods = pd.read_csv(absolute_path+'/projects/{}/demand_inputs/port_to_outside_zone_od.csv'.format(project_folder))\n",
    "port_ods = pd.merge(port_ods, nodes_df[['node_osmid', 'node_id_igraph']], how='left', left_on='port_origin_osmid', right_on='node_osmid')\n",
    "port_ods = pd.merge(port_ods, nodes_df[['node_osmid', 'node_id_igraph']], how='left', left_on='outside_destin_osmid', right_on='node_osmid', suffixes=['_O', '_D'])\n",
    "port_ods['origin_sp'] = port_ods['node_id_igraph_O'] + 1 ### the node id in module sp is 1 higher than igraph id\n",
    "port_ods['destin_sp'] = port_ods['node_id_igraph_D'] + 1\n",
    "\n",
    "for od in port_ods.itertuples():\n",
    "    print('origin osmid ', getattr(od, 'port_origin_osmid'))\n",
    "    print('destin osmid ', getattr(od, 'outside_destin_osmid'))\n",
    "    origin_ID = getattr(od, 'origin_sp')\n",
    "    destin_ID = getattr(od, 'destin_sp')\n",
    "    od_straight_line_dist = getattr(od, 'straight_line_dist')\n",
    "    print('od straigtline distance (m) is ', od_straight_line_dist)\n",
    "\n",
    "    sp = g.dijkstra(origin_ID, destin_ID) \n",
    "    sp_dist = sp.distance(destin_ID) \n",
    "    print('travel time (s) is ', sp_dist)\n",
    "    break\n",
    "\n",
    "    ### the rest should follow the main code"
   ]
  },
  {
   "cell_type": "code",
   "execution_count": null,
   "metadata": {},
   "outputs": [],
   "source": []
  }
 ]
}