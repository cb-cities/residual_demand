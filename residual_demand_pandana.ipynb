{
 "metadata": {
  "language_info": {
   "codemirror_mode": {
    "name": "ipython",
    "version": 3
   },
   "file_extension": ".py",
   "mimetype": "text/x-python",
   "name": "python",
   "nbconvert_exporter": "python",
   "pygments_lexer": "ipython3",
   "version": "3.8.5-final"
  },
  "orig_nbformat": 2,
  "kernelspec": {
   "name": "python_defaultSpec_1599623593796",
   "display_name": "Python 3.8.5 64-bit ('py38': conda)"
  }
 },
 "nbformat": 4,
 "nbformat_minor": 2,
 "cells": [
  {
   "cell_type": "code",
   "execution_count": 1,
   "metadata": {},
   "outputs": [],
   "source": [
    "from __future__ import print_function\n",
    "\n",
    "import os.path\n",
    "import sys\n",
    "import time\n",
    "\n",
    "import numpy as np\n",
    "import pandas as pd\n",
    "import pandana.network as pdna"
   ]
  },
  {
   "cell_type": "code",
   "execution_count": 2,
   "metadata": {},
   "outputs": [
    {
     "output_type": "display_data",
     "data": {
      "text/plain": "   edge_id_igraph  start_igraph  end_igraph  edge_osmid  start_osm    end_osm  \\\n0               0        622771      255192     4847506   31236733  621545900   \n1               1        643227      643226     4847507   31300417   31300416   \n\n       length  lanes     maxmph oneway      type  capacity  crossings_stops  \\\n0  680.577196      2  62.137274    yes  motorway      5400                0   \n1   83.662617      2  37.282364    yes  motorway      4600                0   \n\n   traffic_signals                                           geometry  \\\n0                0  LINESTRING (139.7578 35.6437952,139.7578196 35...   \n1                0  LINESTRING (139.8013447 35.6402988,139.8005495...   \n\n   start_sp  end_sp  traffic_signals_delay  crossings_stops_delay        fft  \n0    622772  255193                      0                    0.0  29.400911  \n1    643228  643227                      0                    0.0   6.023703  ",
      "text/html": "<div>\n<style scoped>\n    .dataframe tbody tr th:only-of-type {\n        vertical-align: middle;\n    }\n\n    .dataframe tbody tr th {\n        vertical-align: top;\n    }\n\n    .dataframe thead th {\n        text-align: right;\n    }\n</style>\n<table border=\"1\" class=\"dataframe\">\n  <thead>\n    <tr style=\"text-align: right;\">\n      <th></th>\n      <th>edge_id_igraph</th>\n      <th>start_igraph</th>\n      <th>end_igraph</th>\n      <th>edge_osmid</th>\n      <th>start_osm</th>\n      <th>end_osm</th>\n      <th>length</th>\n      <th>lanes</th>\n      <th>maxmph</th>\n      <th>oneway</th>\n      <th>type</th>\n      <th>capacity</th>\n      <th>crossings_stops</th>\n      <th>traffic_signals</th>\n      <th>geometry</th>\n      <th>start_sp</th>\n      <th>end_sp</th>\n      <th>traffic_signals_delay</th>\n      <th>crossings_stops_delay</th>\n      <th>fft</th>\n    </tr>\n  </thead>\n  <tbody>\n    <tr>\n      <th>0</th>\n      <td>0</td>\n      <td>622771</td>\n      <td>255192</td>\n      <td>4847506</td>\n      <td>31236733</td>\n      <td>621545900</td>\n      <td>680.577196</td>\n      <td>2</td>\n      <td>62.137274</td>\n      <td>yes</td>\n      <td>motorway</td>\n      <td>5400</td>\n      <td>0</td>\n      <td>0</td>\n      <td>LINESTRING (139.7578 35.6437952,139.7578196 35...</td>\n      <td>622772</td>\n      <td>255193</td>\n      <td>0</td>\n      <td>0.0</td>\n      <td>29.400911</td>\n    </tr>\n    <tr>\n      <th>1</th>\n      <td>1</td>\n      <td>643227</td>\n      <td>643226</td>\n      <td>4847507</td>\n      <td>31300417</td>\n      <td>31300416</td>\n      <td>83.662617</td>\n      <td>2</td>\n      <td>37.282364</td>\n      <td>yes</td>\n      <td>motorway</td>\n      <td>4600</td>\n      <td>0</td>\n      <td>0</td>\n      <td>LINESTRING (139.8013447 35.6402988,139.8005495...</td>\n      <td>643228</td>\n      <td>643227</td>\n      <td>0</td>\n      <td>0.0</td>\n      <td>6.023703</td>\n    </tr>\n  </tbody>\n</table>\n</div>"
     },
     "metadata": {}
    },
    {
     "output_type": "display_data",
     "data": {
      "text/plain": "   node_id_igraph  node_osmid         lon        lat signal\n0               0  4599666550  139.529430  35.777736    NaN\n1               1  4395630603  139.711021  36.286796    NaN",
      "text/html": "<div>\n<style scoped>\n    .dataframe tbody tr th:only-of-type {\n        vertical-align: middle;\n    }\n\n    .dataframe tbody tr th {\n        vertical-align: top;\n    }\n\n    .dataframe thead th {\n        text-align: right;\n    }\n</style>\n<table border=\"1\" class=\"dataframe\">\n  <thead>\n    <tr style=\"text-align: right;\">\n      <th></th>\n      <th>node_id_igraph</th>\n      <th>node_osmid</th>\n      <th>lon</th>\n      <th>lat</th>\n      <th>signal</th>\n    </tr>\n  </thead>\n  <tbody>\n    <tr>\n      <th>0</th>\n      <td>0</td>\n      <td>4599666550</td>\n      <td>139.529430</td>\n      <td>35.777736</td>\n      <td>NaN</td>\n    </tr>\n    <tr>\n      <th>1</th>\n      <td>1</td>\n      <td>4395630603</td>\n      <td>139.711021</td>\n      <td>36.286796</td>\n      <td>NaN</td>\n    </tr>\n  </tbody>\n</table>\n</div>"
     },
     "metadata": {}
    },
    {
     "output_type": "display_data",
     "data": {
      "text/plain": "   agent_id  node_id_igraph_O  node_id_igraph_D  hour\n0         0            249916            131594    10\n1         1            661402            525963    11",
      "text/html": "<div>\n<style scoped>\n    .dataframe tbody tr th:only-of-type {\n        vertical-align: middle;\n    }\n\n    .dataframe tbody tr th {\n        vertical-align: top;\n    }\n\n    .dataframe thead th {\n        text-align: right;\n    }\n</style>\n<table border=\"1\" class=\"dataframe\">\n  <thead>\n    <tr style=\"text-align: right;\">\n      <th></th>\n      <th>agent_id</th>\n      <th>node_id_igraph_O</th>\n      <th>node_id_igraph_D</th>\n      <th>hour</th>\n    </tr>\n  </thead>\n  <tbody>\n    <tr>\n      <th>0</th>\n      <td>0</td>\n      <td>249916</td>\n      <td>131594</td>\n      <td>10</td>\n    </tr>\n    <tr>\n      <th>1</th>\n      <td>1</td>\n      <td>661402</td>\n      <td>525963</td>\n      <td>11</td>\n    </tr>\n  </tbody>\n</table>\n</div>"
     },
     "metadata": {}
    }
   ],
   "source": [
    "edges = pd.read_csv('projects/tokyo_residential_above/network_inputs/edges_residual_demand.csv')\n",
    "nodes = pd.read_csv('projects/tokyo_residential_above/network_inputs/nodes_residual_demand.csv')\n",
    "display(edges.head(2))\n",
    "display(nodes.head(2))\n",
    "\n",
    "od = pd.read_csv('projects/tokyo_residential_above/demand_inputs/od_residual_demand_0.csv')\n",
    "display(od.head(2))"
   ]
  },
  {
   "cell_type": "code",
   "execution_count": 6,
   "metadata": {
    "tags": []
   },
   "outputs": [],
   "source": [
    "nodes_index = nodes.set_index('node_id_igraph')\n",
    "net = pdna.Network(nodes_index[\"lon\"], nodes_index[\"lat\"], edges[\"start_igraph\"], edges[\"end_igraph\"], edges[[\"fft\"]])"
   ]
  },
  {
   "cell_type": "code",
   "execution_count": 7,
   "metadata": {
    "tags": []
   },
   "outputs": [],
   "source": [
    "net.set(pd.Series(net.node_ids))\n",
    "# s = net.aggregate(1, type='count')\n",
    "# print(s.sort_values(ascending=False).head())"
   ]
  },
  {
   "cell_type": "code",
   "execution_count": 24,
   "metadata": {
    "tags": []
   },
   "outputs": [
    {
     "output_type": "stream",
     "name": "stdout",
     "text": "[249916 661402] [131594 525963]\n"
    }
   ],
   "source": [
    "nodes_a = od.iloc[0:1000]['node_id_igraph_O'].values\n",
    "nodes_b = od.iloc[0:1000]['node_id_igraph_D'].values\n",
    "print(nodes_a[0:2], nodes_b[0:2])"
   ]
  },
  {
   "cell_type": "code",
   "execution_count": 13,
   "metadata": {
    "tags": []
   },
   "outputs": [
    {
     "output_type": "stream",
     "name": "stdout",
     "text": "[array([249916, 249961, 492632, 492757, 492770, 131668, 492635, 492668,\n       131615, 131607, 493043, 131605, 131611, 530740, 131602, 131593,\n       131594]), array([661402, 661388, 495402, 495414, 495371, 495393, 495413,  97564,\n       495424, 495381, 495439, 212224, 212122, 212118, 212204, 402974,\n       402961, 212135, 214535, 402918, 214668, 214568, 214553, 402921,\n       402977, 403000, 402931, 402922, 403005, 403015,  42648, 402954,\n       402967, 402917, 402998, 402929, 212212, 212249, 402935, 212143,\n       402950, 403035, 115395, 676766, 402022, 401937, 401955, 402006,\n       174173, 173069, 401987, 525950, 525916, 240129, 495374, 525931,\n       525935, 525927, 525963])]\n"
    }
   ],
   "source": [
    "print(net.shortest_paths(nodes_a[0:2],nodes_b[0:2]))"
   ]
  },
  {
   "cell_type": "code",
   "execution_count": 19,
   "metadata": {
    "tags": []
   },
   "outputs": [
    {
     "output_type": "stream",
     "name": "stdout",
     "text": "Route vectorized time = 0.05193161964416504 sec\n"
    }
   ],
   "source": [
    "t0 = time.time()\n",
    "path = net.shortest_paths(nodes_a, nodes_b)\n",
    "print('Route vectorized time = {} sec'.format(time.time() - t0))"
   ]
  },
  {
   "cell_type": "code",
   "execution_count": null,
   "metadata": {},
   "outputs": [],
   "source": []
  }
 ]
}