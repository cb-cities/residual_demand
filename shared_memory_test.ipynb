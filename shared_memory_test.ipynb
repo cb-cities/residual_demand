{
 "metadata": {
  "language_info": {
   "codemirror_mode": {
    "name": "ipython",
    "version": 3
   },
   "file_extension": ".py",
   "mimetype": "text/x-python",
   "name": "python",
   "nbconvert_exporter": "python",
   "pygments_lexer": "ipython3",
   "version": "3.8.5-final"
  },
  "orig_nbformat": 2,
  "kernelspec": {
   "name": "python_defaultSpec_1599771100272",
   "display_name": "Python 3.8.5 64-bit ('py38': conda)"
  }
 },
 "nbformat": 4,
 "nbformat_minor": 2,
 "cells": [
  {
   "cell_type": "code",
   "execution_count": 86,
   "metadata": {},
   "outputs": [],
   "source": [
    "import os\n",
    "import sys\n",
    "import array\n",
    "import numpy as np\n",
    "import pandas as pd\n",
    "import io\n",
    "from multiprocessing import shared_memory\n",
    "\n",
    "sys.path.insert(0, '/home/bingyu/Documents')\n",
    "from sp import interface"
   ]
  },
  {
   "cell_type": "code",
   "execution_count": 11,
   "metadata": {},
   "outputs": [],
   "source": [
    "edges = pd.read_csv('projects/tokyo_residential_above/network_inputs/edges_residual_demand.csv')\n",
    "g = interface.from_dataframe(edges, 'start_igraph', 'end_igraph', 'fft')\n"
   ]
  },
  {
   "cell_type": "code",
   "execution_count": 59,
   "metadata": {},
   "outputs": [],
   "source": [
    "test_df = edges[['start_igraph', 'end_igraph']].iloc[0:4]\n",
    "test_df_b = test_df.to_string().encode()\n"
   ]
  },
  {
   "cell_type": "code",
   "execution_count": 90,
   "metadata": {},
   "outputs": [],
   "source": [
    "# shm_a.unlink()\n",
    "shm_a = shared_memory.SharedMemory(create=True, size=sys.getsizeof(test_df_b))\n",
    "buffer = shm_a.buf\n",
    "# buffer[:3]=bytearray([0,1,100])\n",
    "buffer = test_df_b"
   ]
  },
  {
   "cell_type": "code",
   "execution_count": 91,
   "metadata": {},
   "outputs": [
    {
     "output_type": "execute_result",
     "data": {
      "text/plain": "array('b', [0, 0, 0])"
     },
     "metadata": {},
     "execution_count": 91
    }
   ],
   "source": [
    "shm_b = shared_memory.SharedMemory(shm_a.name)\n",
    "array.array('b', shm_b.buf[:3])\n",
    "# retrieve_b = pd.read_csv(io.StringIO(bytes(shm_b.buf[:172]).decode()), sep='\\s+')"
   ]
  },
  {
   "cell_type": "code",
   "execution_count": 88,
   "metadata": {
    "tags": []
   },
   "outputs": [
    {
     "output_type": "execute_result",
     "data": {
      "text/plain": "b'\\x00\\x01d'"
     },
     "metadata": {},
     "execution_count": 88
    }
   ],
   "source": [
    "bytes(shm_b.buf[:3])"
   ]
  }
 ]
}