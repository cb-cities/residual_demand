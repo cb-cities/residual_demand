{
 "cells": [
  {
   "cell_type": "code",
   "execution_count": 1,
   "metadata": {},
   "outputs": [],
   "source": [
    "import pandas as pd \n",
    "import numpy as np "
   ]
  },
  {
   "cell_type": "code",
   "execution_count": 2,
   "metadata": {},
   "outputs": [],
   "source": [
    "def main(day, hour, quarter, scen, random_seed):\n",
    "\n",
    "    ### Get quarterly flow of a particular snapshot of the day\n",
    "    edge_flow_df = pd.read_csv('outputs/edges_df/edges_df_scen{}_r{}_DY{}_HR{}_QT{}.csv'.format(scen, random_seed, day, hour, quarter))\n",
    "\n",
    "    ### Get attributes and geometry of each edge\n",
    "    network_attr_df = pd.read_csv('edges_residual_demand.csv')\n",
    "    edge_flow_df = pd.merge(edge_flow_df, network_attr_df, on = ['edge_id_igraph'])\n",
    "    edge_flow_df['edge_id_igraph_str'] = edge_flow_df['edge_id_igraph'].astype(str)\n",
    "    edge_flow_df['voc'] = edge_flow_df['true_vol']*quarter/edge_flow_df['capacity']\n",
    "\n",
    "    ### Merge results from two directions\n",
    "    edge_flow_df['undir_uv_igraph'] = pd.DataFrame(np.sort(edge_flow_df[['start_igraph', 'end_igraph']].values, axis=1), columns=['small_igraph', 'large_igraph']).apply(lambda x:'%s_%s' % (x['small_igraph'],x['large_igraph']),axis=1)\n",
    "    edge_flow_df_grp = edge_flow_df.groupby('undir_uv_igraph').agg({\n",
    "            'true_vol': np.sum, \n",
    "            'tot_vol': np.sum, \n",
    "            'voc': np.max,\n",
    "            'edge_id_igraph_str': lambda x: '-'.join(x),\n",
    "            'geometry': 'first'}).reset_index()\n",
    "    edge_flow_df_grp = edge_flow_df_grp.rename(columns={'true_vol': 'undirected_quart_vol', 'tot_vol': 'undirected_tot_vol', 'voc': 'larger_voc'})\n",
    "    print(hour, quarter, np.max(edge_flow_df_grp['undirected_quart_vol']), np.max(edge_flow_df_grp['undirected_tot_vol']))\n",
    "\n",
    "    edge_flow_df_grp.to_csv('outputs/quarterly_traffic/quarterly_traffic_scen{}_r{}_DY{}_HR{}_qt{}.csv'.format(scen, random_seed, day, hour, quarter), index=False)"
   ]
  },
  {
   "cell_type": "code",
   "execution_count": 3,
   "metadata": {},
   "outputs": [
    {
     "name": "stdout",
     "output_type": "stream",
     "text": [
      "0 0 2568.0 2568.0\n",
      "0 1 2649.0 5217.0\n",
      "0 2 2364.0 7581.0\n",
      "0 3 2612.0 10193.0\n",
      "1 0 1987.0 11021.0\n",
      "1 1 1888.0 11746.0\n",
      "1 2 1900.0 12113.0\n",
      "1 3 2168.0 12664.0\n",
      "2 0 1893.0 13096.0\n",
      "2 1 1937.0 13492.0\n",
      "2 2 1716.0 13914.0\n",
      "2 3 1938.0 14424.0\n",
      "3 0 1956.0 14577.0\n",
      "3 1 1556.0 14595.0\n",
      "3 2 1997.0 14597.0\n",
      "3 3 26.0 14597.0\n"
     ]
    }
   ],
   "source": [
    "day='na'\n",
    "scen='base'\n",
    "random_seed = 0\n",
    "for hour in [0,1,2,3]:\n",
    "    for quarter in [0,1,2,3]:\n",
    "        main(day, hour, quarter, scen, random_seed)"
   ]
  }
 ],
 "metadata": {
  "kernelspec": {
   "display_name": "Python [conda env:geo] *",
   "language": "python",
   "name": "conda-env-geo-py"
  },
  "language_info": {
   "codemirror_mode": {
    "name": "ipython",
    "version": 3
   },
   "file_extension": ".py",
   "mimetype": "text/x-python",
   "name": "python",
   "nbconvert_exporter": "python",
   "pygments_lexer": "ipython3",
   "version": "3.7.3"
  }
 },
 "nbformat": 4,
 "nbformat_minor": 2
}
