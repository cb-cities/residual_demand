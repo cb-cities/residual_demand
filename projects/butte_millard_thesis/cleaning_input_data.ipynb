{
 "cells": [
  {
   "cell_type": "code",
   "execution_count": 10,
   "metadata": {},
   "outputs": [],
   "source": [
    "import numpy as np \n",
    "import pandas as pd "
   ]
  },
  {
   "cell_type": "markdown",
   "metadata": {},
   "source": [
    "### Network file"
   ]
  },
  {
   "cell_type": "code",
   "execution_count": 24,
   "metadata": {},
   "outputs": [
    {
     "name": "stdout",
     "output_type": "stream",
     "text": [
      "   edge_id_igraph  start_igraph  end_igraph       length  lanes  maxmph  \\\n",
      "0               0             0        4739   269.012097    1.0    25.0   \n",
      "1               1             1          16   519.801340    1.0    25.0   \n",
      "2               2             1        2316  2649.144981    1.0    25.0   \n",
      "3               3             1        3509  1572.197635    2.0    55.0   \n",
      "4               4             1        8143  5710.875193    2.0    55.0   \n",
      "\n",
      "          type  capacity         fft    store_cap  \\\n",
      "0  residential    1800.0   28.884668    33.626512   \n",
      "1  residential    1800.0   55.812692    64.975168   \n",
      "2  residential    1800.0  284.446962   331.143123   \n",
      "3      primary    3600.0   76.732621   393.049409   \n",
      "4      primary    3600.0  278.724767  1427.718798   \n",
      "\n",
      "                                            geometry  start_sp  end_sp  \n",
      "0  LINESTRING (-121.63318 39.753052,-121.632854 3...         1    4740  \n",
      "1  LINESTRING (-121.589448 40.086024,-121.5900808...         2      17  \n",
      "2  LINESTRING (-121.589448 40.086024,-121.588611 ...         2    2317  \n",
      "3  LINESTRING (-121.589448 40.086024,-121.589351 ...         2    3510  \n",
      "4  LINESTRING (-121.589448 40.086024,-121.589512 ...         2    8144  \n"
     ]
    }
   ],
   "source": [
    "edges = pd.read_csv('edges_fixed_cap_bz.csv')\n",
    "edges['start_sp'] = edges['start_igraph'] + 1\n",
    "edges['end_sp'] = edges['end_igraph'] + 1\n",
    "edges['capacity'] = edges['lanes'] * 1800\n",
    "print(edges.head())\n",
    "edges.to_csv('edges_residual_demand.csv', index=False)"
   ]
  },
  {
   "cell_type": "code",
   "execution_count": 12,
   "metadata": {},
   "outputs": [
    {
     "name": "stdout",
     "output_type": "stream",
     "text": [
      "   node_id_igraph  node_osmid         lon        lat signal\n",
      "0               0    86605824 -121.633180  39.753052    NaN\n",
      "1               1    86376449 -121.589448  40.086024    NaN\n",
      "2               2    86409216 -121.585828  40.066311    NaN\n",
      "3               3    86441987 -121.515778  39.430230    NaN\n",
      "4               4    86409220 -121.370353  39.552002    NaN\n"
     ]
    }
   ],
   "source": [
    "nodes = pd.read_csv('nodes.csv')\n",
    "print(nodes.head())\n",
    "nodes.to_csv('nodes_residual_demand.csv', index=False)"
   ]
  },
  {
   "cell_type": "markdown",
   "metadata": {},
   "source": [
    "### Demand file"
   ]
  },
  {
   "cell_type": "code",
   "execution_count": 23,
   "metadata": {},
   "outputs": [
    {
     "name": "stdout",
     "output_type": "stream",
     "text": [
      "[86430069 86431098 86471091 86502140]\n",
      "[ 86387260 331099200]\n",
      "1\n",
      "Index(['Unnamed: 0', 'O ', 'D ', 'flow'], dtype='object')\n",
      "[ 1455  9071 11239 11989]\n",
      "[4774 5009]\n"
     ]
    }
   ],
   "source": [
    "od = pd.read_csv('Simplified Paradise Evacuation OD.csv')\n",
    "print(np.unique(od['O ']))\n",
    "print(np.unique(od['D ']))\n",
    "print(np.max(od['flow']))\n",
    "print(od.columns)\n",
    "od['O '] = np.where(od['O ']==86430069, 5375953903, od['O '])\n",
    "od = pd.merge(od, nodes[['node_id_igraph', 'node_osmid']], how='left', left_on='O ', right_on='node_osmid')\n",
    "od = pd.merge(od, nodes[['node_id_igraph', 'node_osmid']], how='left', left_on='D ', right_on='node_osmid', suffixes=['_O', '_D'])\n",
    "# print(od.head())\n",
    "print(np.unique(od['node_id_igraph_O']))\n",
    "print(np.unique(od['node_id_igraph_D']))\n",
    "od['node_id_igraph_O'] = od['node_id_igraph_O'].astype(int)\n",
    "od['node_id_igraph_D'] = od['node_id_igraph_D'].astype(int)\n",
    "od[['node_id_igraph_O', 'node_id_igraph_D']].to_csv('od_residual_demand.csv', index=False)"
   ]
  }
 ],
 "metadata": {
  "kernelspec": {
   "display_name": "Python [conda env:geo] *",
   "language": "python",
   "name": "conda-env-geo-py"
  },
  "language_info": {
   "codemirror_mode": {
    "name": "ipython",
    "version": 3
   },
   "file_extension": ".py",
   "mimetype": "text/x-python",
   "name": "python",
   "nbconvert_exporter": "python",
   "pygments_lexer": "ipython3",
   "version": "3.7.3"
  }
 },
 "nbformat": 4,
 "nbformat_minor": 2
}
