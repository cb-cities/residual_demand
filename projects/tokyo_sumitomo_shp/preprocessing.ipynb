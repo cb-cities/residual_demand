{
 "metadata": {
  "language_info": {
   "codemirror_mode": {
    "name": "ipython",
    "version": 3
   },
   "file_extension": ".py",
   "mimetype": "text/x-python",
   "name": "python",
   "nbconvert_exporter": "python",
   "pygments_lexer": "ipython3",
   "version": "3.8.5-final"
  },
  "orig_nbformat": 2,
  "kernelspec": {
   "name": "Python 3.8.5 64-bit ('py38': conda)",
   "display_name": "Python 3.8.5 64-bit ('py38': conda)",
   "metadata": {
    "interpreter": {
     "hash": "d074cdcfa7a954f62bc437ba0c41519fba2b48612aa5ee5da3d3dd7dfcdb1ce7"
    }
   }
  }
 },
 "nbformat": 4,
 "nbformat_minor": 2,
 "cells": [
  {
   "cell_type": "code",
   "execution_count": 11,
   "metadata": {},
   "outputs": [],
   "source": [
    "import numpy as np \n",
    "import pandas as pd \n",
    "import geopandas as gpd \n",
    "from shapely.wkt import loads"
   ]
  },
  {
   "cell_type": "code",
   "execution_count": 7,
   "metadata": {},
   "outputs": [],
   "source": [
    "# network\n",
    "all_nodes = []\n",
    "all_links = []\n",
    "for tile_no in [533935, 533936, 533945, 533946]:\n",
    "    nodes_tile = pd.read_csv('network_inputs/adf_nodes_{}.csv'.format(tile_no))\n",
    "    links_tile = pd.read_csv('network_inputs/adf_links_{}.csv'.format(tile_no))\n",
    "    all_nodes.append(nodes_tile)\n",
    "    all_links.append(links_tile)\n",
    "nodes_df = pd.concat(all_nodes)\n",
    "links_df = pd.concat(all_links)"
   ]
  },
  {
   "cell_type": "code",
   "execution_count": 10,
   "metadata": {},
   "outputs": [
    {
     "output_type": "execute_result",
     "data": {
      "text/plain": [
       "     node_mapid nb_node_mapid  ndatcd  \\\n",
       "0  533935_000C0  533945_0001D       4   \n",
       "1  533935_001EE  533945_00089       4   \n",
       "\n",
       "                                      geometry  nid  tile_no  \n",
       "0  POINT (139.6248409039033 35.66990345670202)   43   533935  \n",
       "1  POINT (139.6278656472181 35.66990353763025)   48   533935  "
      ],
      "text/html": "<div>\n<style scoped>\n    .dataframe tbody tr th:only-of-type {\n        vertical-align: middle;\n    }\n\n    .dataframe tbody tr th {\n        vertical-align: top;\n    }\n\n    .dataframe thead th {\n        text-align: right;\n    }\n</style>\n<table border=\"1\" class=\"dataframe\">\n  <thead>\n    <tr style=\"text-align: right;\">\n      <th></th>\n      <th>node_mapid</th>\n      <th>nb_node_mapid</th>\n      <th>ndatcd</th>\n      <th>geometry</th>\n      <th>nid</th>\n      <th>tile_no</th>\n    </tr>\n  </thead>\n  <tbody>\n    <tr>\n      <th>0</th>\n      <td>533935_000C0</td>\n      <td>533945_0001D</td>\n      <td>4</td>\n      <td>POINT (139.6248409039033 35.66990345670202)</td>\n      <td>43</td>\n      <td>533935</td>\n    </tr>\n    <tr>\n      <th>1</th>\n      <td>533935_001EE</td>\n      <td>533945_00089</td>\n      <td>4</td>\n      <td>POINT (139.6278656472181 35.66990353763025)</td>\n      <td>48</td>\n      <td>533935</td>\n    </tr>\n  </tbody>\n</table>\n</div>"
     },
     "metadata": {},
     "execution_count": 10
    }
   ],
   "source": [
    "nodes_df.head(2)"
   ]
  },
  {
   "cell_type": "code",
   "execution_count": 9,
   "metadata": {},
   "outputs": [
    {
     "output_type": "execute_result",
     "data": {
      "text/plain": [
       "                  link_mapid link_start_mapid link_end_mapid  length  \\\n",
       "0  533935_0001E_533934_0063D     533935_0001E   533934_0063D     167   \n",
       "1  533935_00002_533935_00008     533935_00002   533935_00008      35   \n",
       "\n",
       "   speed_limit_kmph  lanes  rdclasscd  \\\n",
       "0              80.0    3.0        3.0   \n",
       "1              40.0    1.0        7.0   \n",
       "\n",
       "                                            geometry    fft  capacity  \\\n",
       "0  LINESTRING (139.6227818128647 35.5892458020101...  7.515    6000.0   \n",
       "1  LINESTRING (139.6222317991397 35.5907539512060...  3.150    2000.0   \n",
       "\n",
       "   start_nid  end_nid  tile_no  \n",
       "0       1596        0   533935  \n",
       "1       1576     1581   533935  "
      ],
      "text/html": "<div>\n<style scoped>\n    .dataframe tbody tr th:only-of-type {\n        vertical-align: middle;\n    }\n\n    .dataframe tbody tr th {\n        vertical-align: top;\n    }\n\n    .dataframe thead th {\n        text-align: right;\n    }\n</style>\n<table border=\"1\" class=\"dataframe\">\n  <thead>\n    <tr style=\"text-align: right;\">\n      <th></th>\n      <th>link_mapid</th>\n      <th>link_start_mapid</th>\n      <th>link_end_mapid</th>\n      <th>length</th>\n      <th>speed_limit_kmph</th>\n      <th>lanes</th>\n      <th>rdclasscd</th>\n      <th>geometry</th>\n      <th>fft</th>\n      <th>capacity</th>\n      <th>start_nid</th>\n      <th>end_nid</th>\n      <th>tile_no</th>\n    </tr>\n  </thead>\n  <tbody>\n    <tr>\n      <th>0</th>\n      <td>533935_0001E_533934_0063D</td>\n      <td>533935_0001E</td>\n      <td>533934_0063D</td>\n      <td>167</td>\n      <td>80.0</td>\n      <td>3.0</td>\n      <td>3.0</td>\n      <td>LINESTRING (139.6227818128647 35.5892458020101...</td>\n      <td>7.515</td>\n      <td>6000.0</td>\n      <td>1596</td>\n      <td>0</td>\n      <td>533935</td>\n    </tr>\n    <tr>\n      <th>1</th>\n      <td>533935_00002_533935_00008</td>\n      <td>533935_00002</td>\n      <td>533935_00008</td>\n      <td>35</td>\n      <td>40.0</td>\n      <td>1.0</td>\n      <td>7.0</td>\n      <td>LINESTRING (139.6222317991397 35.5907539512060...</td>\n      <td>3.150</td>\n      <td>2000.0</td>\n      <td>1576</td>\n      <td>1581</td>\n      <td>533935</td>\n    </tr>\n  </tbody>\n</table>\n</div>"
     },
     "metadata": {},
     "execution_count": 9
    }
   ],
   "source": [
    "links_df.head(2)"
   ]
  },
  {
   "cell_type": "code",
   "execution_count": 35,
   "metadata": {},
   "outputs": [],
   "source": [
    "nodes_df_sim = nodes_df.copy()\n",
    "nodes_df_sim = gpd.GeoDataFrame(nodes_df_sim, crs='epsg:4326', geometry=nodes_df_sim['geometry'].map(loads))\n",
    "nodes_df_sim['lon'] = nodes_df_sim['geometry'].apply(lambda x: x.x)\n",
    "nodes_df_sim['lat'] = nodes_df_sim['geometry'].apply(lambda x: x.y)\n",
    "nodes_df_sim['node_id_igraph'] = np.arange(nodes_df_sim.shape[0])\n",
    "nodes_df_sim = nodes_df_sim[['node_mapid', 'node_id_igraph', 'lon', 'lat']]\n",
    "nodes_id_dict = {getattr(row, 'node_mapid'): getattr(row, 'node_id_igraph') for row in nodes_df_sim.itertuples()}\n",
    "\n",
    "links_df_sim = links_df.copy()\n",
    "links_df_sim['start_igraph'] = links_df_sim['link_start_mapid'].map(nodes_id_dict)\n",
    "links_df_sim['end_igraph'] = links_df_sim['link_end_mapid'].map(nodes_id_dict)\n",
    "links_df_sim = links_df_sim.dropna(subset=['start_igraph', 'end_igraph'])\n",
    "links_df_sim['start_igraph'] = links_df_sim['start_igraph'].astype(int)\n",
    "links_df_sim['end_igraph'] = links_df_sim['end_igraph'].astype(int)\n",
    "links_df_sim['type'] = links_df_sim['rdclasscd']\n",
    "links_df_sim = links_df_sim[['start_igraph', 'end_igraph', 'length', 'fft', 'capacity', 'type', 'geometry']]\n",
    "\n",
    "nodes_df_sim.to_csv('network_inputs/nodes.csv', index=False)\n",
    "links_df_sim.to_csv('network_inputs/links.csv', index=False)"
   ]
  },
  {
   "cell_type": "code",
   "execution_count": 36,
   "metadata": {},
   "outputs": [
    {
     "output_type": "stream",
     "name": "stdout",
     "text": [
      "(117077, 6) (205748, 13)\n"
     ]
    }
   ],
   "source": [
    "print(nodes_df.shape, links_df.shape)"
   ]
  },
  {
   "cell_type": "code",
   "execution_count": 15,
   "metadata": {},
   "outputs": [],
   "source": [
    "for chunk_num in [0, 1, 2]:\n",
    "    chunk_od = pd.read_csv('demand_inputs/od_osmid_res_above_{}.csv'.format(chunk_num))\n",
    "    od_sim = chunk_od.copy()\n",
    "    od_sim['node_id_igraph_O'] = od_sim['O'].map(nodes_id_dict)\n",
    "    od_sim['node_id_igraph_D'] = od_sim['D'].map(nodes_id_dict)  \n",
    "    od_sim['hour'] = od_sim['trip_hour']\n",
    "    od_sim[['agent_id', 'node_id_igraph_O', 'node_id_igraph_D', 'hour']].to_csv('demand_inputs/od_{}.csv'.format(chunk_num), index=False)\n"
   ]
  },
  {
   "cell_type": "code",
   "execution_count": 31,
   "metadata": {},
   "outputs": [
    {
     "output_type": "execute_result",
     "data": {
      "text/plain": [
       "         node_mapid  node_id_igraph         lon        lat\n",
       "26375  533946_734E2          107161  139.831183  35.743151"
      ],
      "text/html": "<div>\n<style scoped>\n    .dataframe tbody tr th:only-of-type {\n        vertical-align: middle;\n    }\n\n    .dataframe tbody tr th {\n        vertical-align: top;\n    }\n\n    .dataframe thead th {\n        text-align: right;\n    }\n</style>\n<table border=\"1\" class=\"dataframe\">\n  <thead>\n    <tr style=\"text-align: right;\">\n      <th></th>\n      <th>node_mapid</th>\n      <th>node_id_igraph</th>\n      <th>lon</th>\n      <th>lat</th>\n    </tr>\n  </thead>\n  <tbody>\n    <tr>\n      <th>26375</th>\n      <td>533946_734E2</td>\n      <td>107161</td>\n      <td>139.831183</td>\n      <td>35.743151</td>\n    </tr>\n  </tbody>\n</table>\n</div>"
     },
     "metadata": {},
     "execution_count": 31
    }
   ],
   "source": [
    "nodes_df_sim[nodes_df_sim['node_id_igraph']==107161]"
   ]
  },
  {
   "cell_type": "code",
   "execution_count": 34,
   "metadata": {},
   "outputs": [
    {
     "output_type": "execute_result",
     "data": {
      "text/plain": [
       "                      link_mapid link_start_mapid link_end_mapid  length  \\\n",
       "58063  533946_7343B_533946_735B1     533946_7343B   533946_735B1      23   \n",
       "\n",
       "       speed_limit_kmph  lanes  rdclasscd  \\\n",
       "58063              40.0    1.0        NaN   \n",
       "\n",
       "                                                geometry   fft  capacity  \\\n",
       "58063  LINESTRING (139.8307454891833 35.7430924218511...  2.07    2000.0   \n",
       "\n",
       "       start_nid  end_nid  tile_no  start_igraph  end_igraph  \n",
       "58063      97985    98271   533946        107037    107323.0  "
      ],
      "text/html": "<div>\n<style scoped>\n    .dataframe tbody tr th:only-of-type {\n        vertical-align: middle;\n    }\n\n    .dataframe tbody tr th {\n        vertical-align: top;\n    }\n\n    .dataframe thead th {\n        text-align: right;\n    }\n</style>\n<table border=\"1\" class=\"dataframe\">\n  <thead>\n    <tr style=\"text-align: right;\">\n      <th></th>\n      <th>link_mapid</th>\n      <th>link_start_mapid</th>\n      <th>link_end_mapid</th>\n      <th>length</th>\n      <th>speed_limit_kmph</th>\n      <th>lanes</th>\n      <th>rdclasscd</th>\n      <th>geometry</th>\n      <th>fft</th>\n      <th>capacity</th>\n      <th>start_nid</th>\n      <th>end_nid</th>\n      <th>tile_no</th>\n      <th>start_igraph</th>\n      <th>end_igraph</th>\n    </tr>\n  </thead>\n  <tbody>\n    <tr>\n      <th>58063</th>\n      <td>533946_7343B_533946_735B1</td>\n      <td>533946_7343B</td>\n      <td>533946_735B1</td>\n      <td>23</td>\n      <td>40.0</td>\n      <td>1.0</td>\n      <td>NaN</td>\n      <td>LINESTRING (139.8307454891833 35.7430924218511...</td>\n      <td>2.07</td>\n      <td>2000.0</td>\n      <td>97985</td>\n      <td>98271</td>\n      <td>533946</td>\n      <td>107037</td>\n      <td>107323.0</td>\n    </tr>\n  </tbody>\n</table>\n</div>"
     },
     "metadata": {},
     "execution_count": 34
    }
   ],
   "source": [
    "links_df_sim = links_df.copy()\n",
    "links_df_sim['start_igraph'] = links_df_sim['link_start_mapid'].map(nodes_id_dict)\n",
    "links_df_sim['end_igraph'] = links_df_sim['link_end_mapid'].map(nodes_id_dict)\n",
    "links_df_sim = links_df_sim.dropna(subset=['start_igraph', 'end_igraph'])\n",
    "links_df_sim[links_df_sim['link_mapid']=='533946_7343B_533946_735B1']"
   ]
  },
  {
   "cell_type": "code",
   "execution_count": null,
   "metadata": {},
   "outputs": [],
   "source": []
  }
 ]
}