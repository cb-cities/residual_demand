{
 "cells": [
  {
   "cell_type": "code",
   "execution_count": 1,
   "metadata": {},
   "outputs": [],
   "source": [
    "import random\n",
    "import numpy as np\n",
    "import pandas as pd\n",
    "import geopandas as gpd\n",
    "from shapely import wkt \n",
    "from multiprocessing import Pool\n",
    "from shapely.geometry import Point\n",
    "import matplotlib.pyplot as plt"
   ]
  },
  {
   "cell_type": "code",
   "execution_count": 2,
   "metadata": {
    "tags": []
   },
   "outputs": [
    {
     "output_type": "stream",
     "name": "stdout",
     "text": [
      "(1585, 9)\n"
     ]
    },
    {
     "output_type": "execute_result",
     "data": {
      "text/plain": [
       "                 GEO_ID STATE COUNTY   TRACT     NAME   LSAD  CENSUSAREA  \\\n",
       "0  1400000US06001425103    06    001  425103  4251.03  Tract       0.341   \n",
       "1  1400000US06001425104    06    001  425104  4251.04  Tract       0.415   \n",
       "\n",
       "                                            geometry         FIPS  \n",
       "0  MULTIPOLYGON (((-122.29236 37.84936, -122.2895...  06001425103  \n",
       "1  MULTIPOLYGON (((-122.27860 37.82855, -122.2780...  06001425104  "
      ],
      "text/html": "<div>\n<style scoped>\n    .dataframe tbody tr th:only-of-type {\n        vertical-align: middle;\n    }\n\n    .dataframe tbody tr th {\n        vertical-align: top;\n    }\n\n    .dataframe thead th {\n        text-align: right;\n    }\n</style>\n<table border=\"1\" class=\"dataframe\">\n  <thead>\n    <tr style=\"text-align: right;\">\n      <th></th>\n      <th>GEO_ID</th>\n      <th>STATE</th>\n      <th>COUNTY</th>\n      <th>TRACT</th>\n      <th>NAME</th>\n      <th>LSAD</th>\n      <th>CENSUSAREA</th>\n      <th>geometry</th>\n      <th>FIPS</th>\n    </tr>\n  </thead>\n  <tbody>\n    <tr>\n      <th>0</th>\n      <td>1400000US06001425103</td>\n      <td>06</td>\n      <td>001</td>\n      <td>425103</td>\n      <td>4251.03</td>\n      <td>Tract</td>\n      <td>0.341</td>\n      <td>MULTIPOLYGON (((-122.29236 37.84936, -122.2895...</td>\n      <td>06001425103</td>\n    </tr>\n    <tr>\n      <th>1</th>\n      <td>1400000US06001425104</td>\n      <td>06</td>\n      <td>001</td>\n      <td>425104</td>\n      <td>4251.04</td>\n      <td>Tract</td>\n      <td>0.415</td>\n      <td>MULTIPOLYGON (((-122.27860 37.82855, -122.2780...</td>\n      <td>06001425104</td>\n    </tr>\n  </tbody>\n</table>\n</div>"
     },
     "metadata": {},
     "execution_count": 2
    }
   ],
   "source": [
    "### read census tract geometry\n",
    "census_tracts_gdf = gpd.read_file('traffic_inputs/census_tract.geojson')\n",
    "census_tracts_gdf = census_tracts_gdf.to_crs(4326)\n",
    "ba_census_tracts_gdf = census_tracts_gdf.loc[census_tracts_gdf['COUNTY'].isin(['001', '013', '041', '055', '075', '081', '085', '095', '097'])].copy().reset_index(drop=True)\n",
    "# ba_census_tracts_gdf['FIPS'] = ba_census_tracts_gdf['GEO_ID'].apply(lambda x: int(x.split('US')[1]))\n",
    "ba_census_tracts_gdf['FIPS'] = ba_census_tracts_gdf['GEO_ID'].apply(lambda x: x.split('US')[1])\n",
    "print(ba_census_tracts_gdf.shape)\n",
    "ba_census_tracts_gdf.head(2)"
   ]
  },
  {
   "cell_type": "code",
   "execution_count": 3,
   "metadata": {},
   "outputs": [
    {
     "output_type": "execute_result",
     "data": {
      "text/plain": [
       "     0    1    2    3    4    5    6    7    8    9  ...   latitude  stories  \\\n",
       "0  2.0  0.0  0.0  0.0  0.0  0.0  0.0  2.0  0.0  0.0  ...  37.716307        1   \n",
       "1  0.0  1.0  1.0  1.0  0.0  0.0  0.0  1.0  0.0  1.0  ...  37.716702        1   \n",
       "\n",
       "   yearbuilt  occupancy  structure  areafootprint  replacementCost  \\\n",
       "0       1948       RES1         W1      90.423164              1.0   \n",
       "1       1947       RES1         W1     187.357970              1.0   \n",
       "\n",
       "   population     MSID                     geometry  \n",
       "0           1  9794592  POINT (-122.49505 37.71631)  \n",
       "1           1  9794593  POINT (-122.47831 37.71670)  \n",
       "\n",
       "[2 rows x 112 columns]"
      ],
      "text/html": "<div>\n<style scoped>\n    .dataframe tbody tr th:only-of-type {\n        vertical-align: middle;\n    }\n\n    .dataframe tbody tr th {\n        vertical-align: top;\n    }\n\n    .dataframe thead th {\n        text-align: right;\n    }\n</style>\n<table border=\"1\" class=\"dataframe\">\n  <thead>\n    <tr style=\"text-align: right;\">\n      <th></th>\n      <th>0</th>\n      <th>1</th>\n      <th>2</th>\n      <th>3</th>\n      <th>4</th>\n      <th>5</th>\n      <th>6</th>\n      <th>7</th>\n      <th>8</th>\n      <th>9</th>\n      <th>...</th>\n      <th>latitude</th>\n      <th>stories</th>\n      <th>yearbuilt</th>\n      <th>occupancy</th>\n      <th>structure</th>\n      <th>areafootprint</th>\n      <th>replacementCost</th>\n      <th>population</th>\n      <th>MSID</th>\n      <th>geometry</th>\n    </tr>\n  </thead>\n  <tbody>\n    <tr>\n      <th>0</th>\n      <td>2.0</td>\n      <td>0.0</td>\n      <td>0.0</td>\n      <td>0.0</td>\n      <td>0.0</td>\n      <td>0.0</td>\n      <td>0.0</td>\n      <td>2.0</td>\n      <td>0.0</td>\n      <td>0.0</td>\n      <td>...</td>\n      <td>37.716307</td>\n      <td>1</td>\n      <td>1948</td>\n      <td>RES1</td>\n      <td>W1</td>\n      <td>90.423164</td>\n      <td>1.0</td>\n      <td>1</td>\n      <td>9794592</td>\n      <td>POINT (-122.49505 37.71631)</td>\n    </tr>\n    <tr>\n      <th>1</th>\n      <td>0.0</td>\n      <td>1.0</td>\n      <td>1.0</td>\n      <td>1.0</td>\n      <td>0.0</td>\n      <td>0.0</td>\n      <td>0.0</td>\n      <td>1.0</td>\n      <td>0.0</td>\n      <td>1.0</td>\n      <td>...</td>\n      <td>37.716702</td>\n      <td>1</td>\n      <td>1947</td>\n      <td>RES1</td>\n      <td>W1</td>\n      <td>187.357970</td>\n      <td>1.0</td>\n      <td>1</td>\n      <td>9794593</td>\n      <td>POINT (-122.47831 37.71670)</td>\n    </tr>\n  </tbody>\n</table>\n<p>2 rows × 112 columns</p>\n</div>"
     },
     "metadata": {},
     "execution_count": 3
    }
   ],
   "source": [
    "### building\n",
    "building_df = pd.read_csv('BayArea-Buildings-Damage-3.csv')\n",
    "building_gdf = gpd.GeoDataFrame(building_df, crs=4326, geometry=[Point(xy) for xy in zip(building_df.longitude, building_df.latitude)])\n",
    "building_gdf.head(2)"
   ]
  },
  {
   "cell_type": "code",
   "execution_count": 22,
   "metadata": {},
   "outputs": [
    {
     "output_type": "execute_result",
     "data": {
      "text/plain": [
       "(0, 112)"
      ]
     },
     "metadata": {},
     "execution_count": 22
    }
   ],
   "source": [
    "building_threshold = 5\n",
    "building_gdf.loc[building_gdf['0']>=building_threshold].shape"
   ]
  },
  {
   "cell_type": "code",
   "execution_count": 23,
   "metadata": {
    "tags": []
   },
   "outputs": [
    {
     "output_type": "stream",
     "name": "stdout",
     "text": [
      "finish spatial indexing\n"
     ]
    },
    {
     "output_type": "execute_result",
     "data": {
      "text/plain": [
       "                 GEO_ID  total_buildings  damaged_bld_cnts_rep0  \\\n",
       "0  1400000US06001425103              317                      0   \n",
       "1  1400000US06001427800             1207                      0   \n",
       "\n",
       "   damaged_bld_cnts_rep1  damaged_bld_cnts_rep2  damaged_bld_cnts_rep3  \\\n",
       "0                      0                      0                      0   \n",
       "1                      0                      0                      0   \n",
       "\n",
       "   damaged_bld_cnts_rep4  damaged_bld_cnts_rep5  damaged_bld_cnts_rep6  \\\n",
       "0                      0                      0                      0   \n",
       "1                      0                      0                      0   \n",
       "\n",
       "   damaged_bld_cnts_rep7  ...  damaged_bld_cnts_rep90  damaged_bld_cnts_rep91  \\\n",
       "0                      0  ...                       0                       0   \n",
       "1                      0  ...                       0                       0   \n",
       "\n",
       "   damaged_bld_cnts_rep92  damaged_bld_cnts_rep93  damaged_bld_cnts_rep94  \\\n",
       "0                       0                       0                       0   \n",
       "1                       0                       0                       0   \n",
       "\n",
       "   damaged_bld_cnts_rep95  damaged_bld_cnts_rep96  damaged_bld_cnts_rep97  \\\n",
       "0                       0                       0                       0   \n",
       "1                       0                       0                       0   \n",
       "\n",
       "   damaged_bld_cnts_rep98  damaged_bld_cnts_rep99  \n",
       "0                       0                       0  \n",
       "1                       0                       0  \n",
       "\n",
       "[2 rows x 102 columns]"
      ],
      "text/html": "<div>\n<style scoped>\n    .dataframe tbody tr th:only-of-type {\n        vertical-align: middle;\n    }\n\n    .dataframe tbody tr th {\n        vertical-align: top;\n    }\n\n    .dataframe thead th {\n        text-align: right;\n    }\n</style>\n<table border=\"1\" class=\"dataframe\">\n  <thead>\n    <tr style=\"text-align: right;\">\n      <th></th>\n      <th>GEO_ID</th>\n      <th>total_buildings</th>\n      <th>damaged_bld_cnts_rep0</th>\n      <th>damaged_bld_cnts_rep1</th>\n      <th>damaged_bld_cnts_rep2</th>\n      <th>damaged_bld_cnts_rep3</th>\n      <th>damaged_bld_cnts_rep4</th>\n      <th>damaged_bld_cnts_rep5</th>\n      <th>damaged_bld_cnts_rep6</th>\n      <th>damaged_bld_cnts_rep7</th>\n      <th>...</th>\n      <th>damaged_bld_cnts_rep90</th>\n      <th>damaged_bld_cnts_rep91</th>\n      <th>damaged_bld_cnts_rep92</th>\n      <th>damaged_bld_cnts_rep93</th>\n      <th>damaged_bld_cnts_rep94</th>\n      <th>damaged_bld_cnts_rep95</th>\n      <th>damaged_bld_cnts_rep96</th>\n      <th>damaged_bld_cnts_rep97</th>\n      <th>damaged_bld_cnts_rep98</th>\n      <th>damaged_bld_cnts_rep99</th>\n    </tr>\n  </thead>\n  <tbody>\n    <tr>\n      <th>0</th>\n      <td>1400000US06001425103</td>\n      <td>317</td>\n      <td>0</td>\n      <td>0</td>\n      <td>0</td>\n      <td>0</td>\n      <td>0</td>\n      <td>0</td>\n      <td>0</td>\n      <td>0</td>\n      <td>...</td>\n      <td>0</td>\n      <td>0</td>\n      <td>0</td>\n      <td>0</td>\n      <td>0</td>\n      <td>0</td>\n      <td>0</td>\n      <td>0</td>\n      <td>0</td>\n      <td>0</td>\n    </tr>\n    <tr>\n      <th>1</th>\n      <td>1400000US06001427800</td>\n      <td>1207</td>\n      <td>0</td>\n      <td>0</td>\n      <td>0</td>\n      <td>0</td>\n      <td>0</td>\n      <td>0</td>\n      <td>0</td>\n      <td>0</td>\n      <td>...</td>\n      <td>0</td>\n      <td>0</td>\n      <td>0</td>\n      <td>0</td>\n      <td>0</td>\n      <td>0</td>\n      <td>0</td>\n      <td>0</td>\n      <td>0</td>\n      <td>0</td>\n    </tr>\n  </tbody>\n</table>\n<p>2 rows × 102 columns</p>\n</div>"
     },
     "metadata": {},
     "execution_count": 23
    }
   ],
   "source": [
    "def building_damage_ratio(tract_info):\n",
    "    [tract_id, tract_geom] = tract_info\n",
    "    coarse_match_ids = list(building_sindex.intersection(tract_geom.bounds))\n",
    "    coarse_matchs = building_gdf.iloc[coarse_match_ids]\n",
    "    precise_matches = coarse_matchs[coarse_matchs.intersects(tract_geom)]\n",
    "    damage_cnt = [tract_id, precise_matches.shape[0]]\n",
    "    for i in range(100):\n",
    "        damage_cnt.append(precise_matches.loc[precise_matches['{}'.format(i)]>=building_threshold].shape[0])\n",
    "    return damage_cnt\n",
    "\n",
    "building_sindex = building_gdf.sindex\n",
    "print('finish spatial indexing')\n",
    "pool = Pool(processes=5)\n",
    "tract_info_list = ba_census_tracts_gdf[['GEO_ID', 'geometry']].values.tolist()\n",
    "res = pool.imap_unordered(building_damage_ratio, tract_info_list)\n",
    "pool.close()\n",
    "pool.join()\n",
    "\n",
    "tract_building_damage_list = [tract_res for tract_res in res]\n",
    "tract_building_damage_df = pd.DataFrame(tract_building_damage_list, columns=['GEO_ID', 'total_buildings'] + ['damaged_bld_cnts_rep{}'.format(i) for i in range(100)])\n",
    "tract_building_damage_df.head(2)"
   ]
  },
  {
   "cell_type": "code",
   "execution_count": 6,
   "metadata": {},
   "outputs": [
    {
     "output_type": "display_data",
     "data": {
      "text/plain": "   node_id   longitude   latitude  elevation  demand  MM_2018_gp  \\\n0    28989 -122.231164  37.772601      17.95     0.0    0.126254   \n1    28991 -122.230007  37.784708      53.43     0.0    0.580767   \n\n   im_rep31_shrt_ratio  im_rep71_shrt_ratio  im_rep13_shrt_ratio  \\\n0         7.838119e-09         1.362566e-08         1.423329e-08   \n1         9.474165e-09         1.216789e-08         1.260729e-08   \n\n   im_rep89_shrt_ratio  ...  im_rep99_shrt_ratio  im_rep65_shrt_ratio  \\\n0         1.206641e-08  ...         6.052965e-02         6.819959e-09   \n1         1.139006e-08  ...         7.719288e-09         9.520562e-09   \n\n   im_rep78_shrt_ratio  im_rep45_shrt_ratio  im_rep55_shrt_ratio  \\\n0         1.244053e-08         7.015809e-09         9.153809e-09   \n1         1.163023e-08         9.233996e-09         1.037207e-08   \n\n   im_rep29_shrt_ratio  im_rep54_shrt_ratio  im_rep83_shrt_ratio  \\\n0         1.199988e-08         1.049210e-08         1.218443e-08   \n1         1.142281e-08         1.075689e-08         1.137915e-08   \n\n   im_rep58_shrt_ratio                     geometry  \n0         1.012301e-08  POINT (-122.23116 37.77260)  \n1         1.065591e-08  POINT (-122.23001 37.78471)  \n\n[2 rows x 107 columns]",
      "text/html": "<div>\n<style scoped>\n    .dataframe tbody tr th:only-of-type {\n        vertical-align: middle;\n    }\n\n    .dataframe tbody tr th {\n        vertical-align: top;\n    }\n\n    .dataframe thead th {\n        text-align: right;\n    }\n</style>\n<table border=\"1\" class=\"dataframe\">\n  <thead>\n    <tr style=\"text-align: right;\">\n      <th></th>\n      <th>node_id</th>\n      <th>longitude</th>\n      <th>latitude</th>\n      <th>elevation</th>\n      <th>demand</th>\n      <th>MM_2018_gp</th>\n      <th>im_rep31_shrt_ratio</th>\n      <th>im_rep71_shrt_ratio</th>\n      <th>im_rep13_shrt_ratio</th>\n      <th>im_rep89_shrt_ratio</th>\n      <th>...</th>\n      <th>im_rep99_shrt_ratio</th>\n      <th>im_rep65_shrt_ratio</th>\n      <th>im_rep78_shrt_ratio</th>\n      <th>im_rep45_shrt_ratio</th>\n      <th>im_rep55_shrt_ratio</th>\n      <th>im_rep29_shrt_ratio</th>\n      <th>im_rep54_shrt_ratio</th>\n      <th>im_rep83_shrt_ratio</th>\n      <th>im_rep58_shrt_ratio</th>\n      <th>geometry</th>\n    </tr>\n  </thead>\n  <tbody>\n    <tr>\n      <th>0</th>\n      <td>28989</td>\n      <td>-122.231164</td>\n      <td>37.772601</td>\n      <td>17.95</td>\n      <td>0.0</td>\n      <td>0.126254</td>\n      <td>7.838119e-09</td>\n      <td>1.362566e-08</td>\n      <td>1.423329e-08</td>\n      <td>1.206641e-08</td>\n      <td>...</td>\n      <td>6.052965e-02</td>\n      <td>6.819959e-09</td>\n      <td>1.244053e-08</td>\n      <td>7.015809e-09</td>\n      <td>9.153809e-09</td>\n      <td>1.199988e-08</td>\n      <td>1.049210e-08</td>\n      <td>1.218443e-08</td>\n      <td>1.012301e-08</td>\n      <td>POINT (-122.23116 37.77260)</td>\n    </tr>\n    <tr>\n      <th>1</th>\n      <td>28991</td>\n      <td>-122.230007</td>\n      <td>37.784708</td>\n      <td>53.43</td>\n      <td>0.0</td>\n      <td>0.580767</td>\n      <td>9.474165e-09</td>\n      <td>1.216789e-08</td>\n      <td>1.260729e-08</td>\n      <td>1.139006e-08</td>\n      <td>...</td>\n      <td>7.719288e-09</td>\n      <td>9.520562e-09</td>\n      <td>1.163023e-08</td>\n      <td>9.233996e-09</td>\n      <td>1.037207e-08</td>\n      <td>1.142281e-08</td>\n      <td>1.075689e-08</td>\n      <td>1.137915e-08</td>\n      <td>1.065591e-08</td>\n      <td>POINT (-122.23001 37.78471)</td>\n    </tr>\n  </tbody>\n</table>\n<p>2 rows × 107 columns</p>\n</div>"
     },
     "metadata": {}
    }
   ],
   "source": [
    "### pipe_nodes\n",
    "### PEER presentation\n",
    "# pipe_gdf = gpd.read_file('lack_demand_nodes.geojson')\n",
    "# display(pipe_gdf.head(2))\n",
    "### PEER report\n",
    "pipe_gdf = gpd.read_file('supply_shrt_ratio.geojson')\n",
    "display(pipe_gdf.head(2))"
   ]
  },
  {
   "cell_type": "code",
   "execution_count": 24,
   "metadata": {},
   "outputs": [
    {
     "output_type": "execute_result",
     "data": {
      "text/plain": [
       "(0, 107)"
      ]
     },
     "metadata": {},
     "execution_count": 24
    }
   ],
   "source": [
    "pipe_threshold = 100\n",
    "pipe_gdf.loc[pipe_gdf['im_rep0_shrt_ratio']>=pipe_threshold].shape"
   ]
  },
  {
   "cell_type": "code",
   "execution_count": 25,
   "metadata": {
    "tags": []
   },
   "outputs": [
    {
     "output_type": "stream",
     "name": "stdout",
     "text": [
      "finish spatial indexing\n"
     ]
    },
    {
     "output_type": "execute_result",
     "data": {
      "text/plain": [
       "                 GEO_ID  damaged_pipe_cnts_rep0  damaged_pipe_cnts_rep1  \\\n",
       "0  1400000US06001426100                       0                       0   \n",
       "1  1400000US06001425104                       0                       0   \n",
       "\n",
       "   damaged_pipe_cnts_rep2  damaged_pipe_cnts_rep3  damaged_pipe_cnts_rep4  \\\n",
       "0                       0                       0                       0   \n",
       "1                       0                       0                       0   \n",
       "\n",
       "   damaged_pipe_cnts_rep5  damaged_pipe_cnts_rep6  damaged_pipe_cnts_rep7  \\\n",
       "0                       0                       0                       0   \n",
       "1                       0                       0                       0   \n",
       "\n",
       "   damaged_pipe_cnts_rep8  ...  damaged_pipe_cnts_rep90  \\\n",
       "0                       0  ...                        0   \n",
       "1                       0  ...                        0   \n",
       "\n",
       "   damaged_pipe_cnts_rep91  damaged_pipe_cnts_rep92  damaged_pipe_cnts_rep93  \\\n",
       "0                        0                        0                        0   \n",
       "1                        0                        0                        0   \n",
       "\n",
       "   damaged_pipe_cnts_rep94  damaged_pipe_cnts_rep95  damaged_pipe_cnts_rep96  \\\n",
       "0                        0                        0                        0   \n",
       "1                        0                        0                        0   \n",
       "\n",
       "   damaged_pipe_cnts_rep97  damaged_pipe_cnts_rep98  damaged_pipe_cnts_rep99  \n",
       "0                        0                        0                        0  \n",
       "1                        0                        0                        1  \n",
       "\n",
       "[2 rows x 101 columns]"
      ],
      "text/html": "<div>\n<style scoped>\n    .dataframe tbody tr th:only-of-type {\n        vertical-align: middle;\n    }\n\n    .dataframe tbody tr th {\n        vertical-align: top;\n    }\n\n    .dataframe thead th {\n        text-align: right;\n    }\n</style>\n<table border=\"1\" class=\"dataframe\">\n  <thead>\n    <tr style=\"text-align: right;\">\n      <th></th>\n      <th>GEO_ID</th>\n      <th>damaged_pipe_cnts_rep0</th>\n      <th>damaged_pipe_cnts_rep1</th>\n      <th>damaged_pipe_cnts_rep2</th>\n      <th>damaged_pipe_cnts_rep3</th>\n      <th>damaged_pipe_cnts_rep4</th>\n      <th>damaged_pipe_cnts_rep5</th>\n      <th>damaged_pipe_cnts_rep6</th>\n      <th>damaged_pipe_cnts_rep7</th>\n      <th>damaged_pipe_cnts_rep8</th>\n      <th>...</th>\n      <th>damaged_pipe_cnts_rep90</th>\n      <th>damaged_pipe_cnts_rep91</th>\n      <th>damaged_pipe_cnts_rep92</th>\n      <th>damaged_pipe_cnts_rep93</th>\n      <th>damaged_pipe_cnts_rep94</th>\n      <th>damaged_pipe_cnts_rep95</th>\n      <th>damaged_pipe_cnts_rep96</th>\n      <th>damaged_pipe_cnts_rep97</th>\n      <th>damaged_pipe_cnts_rep98</th>\n      <th>damaged_pipe_cnts_rep99</th>\n    </tr>\n  </thead>\n  <tbody>\n    <tr>\n      <th>0</th>\n      <td>1400000US06001426100</td>\n      <td>0</td>\n      <td>0</td>\n      <td>0</td>\n      <td>0</td>\n      <td>0</td>\n      <td>0</td>\n      <td>0</td>\n      <td>0</td>\n      <td>0</td>\n      <td>...</td>\n      <td>0</td>\n      <td>0</td>\n      <td>0</td>\n      <td>0</td>\n      <td>0</td>\n      <td>0</td>\n      <td>0</td>\n      <td>0</td>\n      <td>0</td>\n      <td>0</td>\n    </tr>\n    <tr>\n      <th>1</th>\n      <td>1400000US06001425104</td>\n      <td>0</td>\n      <td>0</td>\n      <td>0</td>\n      <td>0</td>\n      <td>0</td>\n      <td>0</td>\n      <td>0</td>\n      <td>0</td>\n      <td>0</td>\n      <td>...</td>\n      <td>0</td>\n      <td>0</td>\n      <td>0</td>\n      <td>0</td>\n      <td>0</td>\n      <td>0</td>\n      <td>0</td>\n      <td>0</td>\n      <td>0</td>\n      <td>1</td>\n    </tr>\n  </tbody>\n</table>\n<p>2 rows × 101 columns</p>\n</div>"
     },
     "metadata": {},
     "execution_count": 25
    }
   ],
   "source": [
    "def pipe_damage_cnt(tract_info):\n",
    "    [tract_id, tract_geom] = tract_info\n",
    "    coarse_match_ids = list(pipe_sindex.intersection(tract_geom.bounds))\n",
    "    coarse_matchs = pipe_gdf.iloc[coarse_match_ids]\n",
    "    precise_matches = coarse_matchs[coarse_matchs.intersects(tract_geom)]\n",
    "    damage_cnt = [tract_id]\n",
    "    for i in range(100):\n",
    "        damage_cnt.append(precise_matches.loc[precise_matches['im_rep{}_shrt_ratio'.format(i)]>=pipe_threshold].shape[0])\n",
    "    return damage_cnt\n",
    "\n",
    "pipe_sindex = pipe_gdf.sindex\n",
    "print('finish spatial indexing')\n",
    "pool = Pool(processes=4)\n",
    "tract_info_list = ba_census_tracts_gdf[['GEO_ID', 'geometry']].values.tolist()\n",
    "res = pool.imap_unordered(pipe_damage_cnt, tract_info_list)\n",
    "pool.close()\n",
    "pool.join()\n",
    "\n",
    "# tract_pipe_damage_list = [(tract_id, damaged) for (tract_id, damaged) in res]\n",
    "# tract_pipe_damage_df = pd.DataFrame(tract_pipe_damage_list, columns=['GEO_ID', 'damaged_pipe_cnts'])\n",
    "tract_pipe_damage_list = [tract_res for tract_res in res]\n",
    "tract_pipe_damage_df = pd.DataFrame(tract_pipe_damage_list, columns=['GEO_ID'] + ['damaged_pipe_cnts_rep{}'.format(i) for i in range(100)])\n",
    "tract_pipe_damage_df.head(2)"
   ]
  },
  {
   "cell_type": "code",
   "execution_count": 9,
   "metadata": {
    "tags": []
   },
   "outputs": [
    {
     "output_type": "display_data",
     "data": {
      "text/plain": "   node_id_igraph     osmid         lon        lat\n0               0  56098817 -122.769449  38.435336\n1               1  65536002 -122.136780  37.407134",
      "text/html": "<div>\n<style scoped>\n    .dataframe tbody tr th:only-of-type {\n        vertical-align: middle;\n    }\n\n    .dataframe tbody tr th {\n        vertical-align: top;\n    }\n\n    .dataframe thead th {\n        text-align: right;\n    }\n</style>\n<table border=\"1\" class=\"dataframe\">\n  <thead>\n    <tr style=\"text-align: right;\">\n      <th></th>\n      <th>node_id_igraph</th>\n      <th>osmid</th>\n      <th>lon</th>\n      <th>lat</th>\n    </tr>\n  </thead>\n  <tbody>\n    <tr>\n      <th>0</th>\n      <td>0</td>\n      <td>56098817</td>\n      <td>-122.769449</td>\n      <td>38.435336</td>\n    </tr>\n    <tr>\n      <th>1</th>\n      <td>1</td>\n      <td>65536002</td>\n      <td>-122.136780</td>\n      <td>37.407134</td>\n    </tr>\n  </tbody>\n</table>\n</div>"
     },
     "metadata": {}
    },
    {
     "output_type": "stream",
     "name": "stdout",
     "text": [
      "finish spatial indexing\n",
      "209417 (224223, 5)\n"
     ]
    }
   ],
   "source": [
    "### Find nodes inside each tract\n",
    "def nodes_in_tract(tract_info):\n",
    "    [tract_id, tract_geom] = tract_info\n",
    "    coarse_match_ids = list(nodes_sindex.intersection(tract_geom.bounds))\n",
    "    coarse_matchs = nodes_gdf.iloc[coarse_match_ids]\n",
    "    precise_matches = coarse_matchs[coarse_matchs.intersects(tract_geom)]\n",
    "    return (tract_id, precise_matches['osmid'].values.tolist())\n",
    "\n",
    "nodes_df = pd.read_csv('../network_inputs/unique_id_nodes.csv')\n",
    "display(nodes_df.head(2))\n",
    "nodes_gdf = gpd.GeoDataFrame(nodes_df, crs=4326, geometry=[Point(xy) for xy in zip(nodes_df.lon, nodes_df.lat)])\n",
    "nodes_sindex = nodes_gdf.sindex\n",
    "print('finish spatial indexing')\n",
    "pool = Pool(processes=5)\n",
    "tract_info_list = ba_census_tracts_gdf[['FIPS', 'geometry']].values.tolist()\n",
    "res = pool.imap_unordered(nodes_in_tract, tract_info_list)\n",
    "pool.close()\n",
    "pool.join()\n",
    "\n",
    "tract_nodes_dict = {tract_id: nodes_list for (tract_id, nodes_list) in res}\n",
    "print(len([i for v in tract_nodes_dict.values() for i in v]), nodes_gdf.shape)"
   ]
  },
  {
   "cell_type": "code",
   "execution_count": 13,
   "metadata": {
    "tags": []
   },
   "outputs": [
    {
     "output_type": "stream",
     "name": "stdout",
     "text": [
      "(100158, 3) (100158, 4)\nbay area has (1585, 9) census tracts, but only 1577/1577 census tract level OD pairs, 2049284.5 trips\n"
     ]
    },
    {
     "output_type": "execute_result",
     "data": {
      "text/plain": [
       "   index        OFIPS        DFIPS  FLOW\n",
       "0      0  06001400100  06001400500  20.0\n",
       "1      1  06001400100  06001401000  10.0"
      ],
      "text/html": "<div>\n<style scoped>\n    .dataframe tbody tr th:only-of-type {\n        vertical-align: middle;\n    }\n\n    .dataframe tbody tr th {\n        vertical-align: top;\n    }\n\n    .dataframe thead th {\n        text-align: right;\n    }\n</style>\n<table border=\"1\" class=\"dataframe\">\n  <thead>\n    <tr style=\"text-align: right;\">\n      <th></th>\n      <th>index</th>\n      <th>OFIPS</th>\n      <th>DFIPS</th>\n      <th>FLOW</th>\n    </tr>\n  </thead>\n  <tbody>\n    <tr>\n      <th>0</th>\n      <td>0</td>\n      <td>06001400100</td>\n      <td>06001400500</td>\n      <td>20.0</td>\n    </tr>\n    <tr>\n      <th>1</th>\n      <td>1</td>\n      <td>06001400100</td>\n      <td>06001401000</td>\n      <td>10.0</td>\n    </tr>\n  </tbody>\n</table>\n</div>"
     },
     "metadata": {},
     "execution_count": 13
    }
   ],
   "source": [
    "### read commute data\n",
    "# commute_data = pd.read_csv('traffic_inputs/commute_data.csv')\n",
    "commute_data = pd.read_csv('ctpp/ctpp_B302201_bay_area_mode_time.csv', dtype={'origin_state': str, 'origin_county': str, 'origin_tract': str, 'destin_state': str, 'destin_county': str, 'destin_tract': str})\n",
    "commute_data['OFIPS'] = commute_data.apply(lambda x: x['origin_state']+x['origin_county']+x['origin_tract'], axis=1)\n",
    "commute_data['DFIPS'] = commute_data.apply(lambda x: x['destin_state']+x['destin_county']+x['destin_tract'], axis=1)\n",
    "commute_data['FLOW'] = commute_data['vehicles']\n",
    "commute_data = commute_data[['OFIPS', 'DFIPS', 'FLOW']]\n",
    "commute_data.head()\n",
    "\n",
    "## filter to those within Bay Area\n",
    "ba_commute_data = commute_data.loc[(\n",
    "    commute_data['OFIPS'].isin(ba_census_tracts_gdf['FIPS'])) & (\n",
    "    commute_data['DFIPS'].isin(ba_census_tracts_gdf['FIPS']))].reset_index()\n",
    "print(commute_data.shape, ba_commute_data.shape)\n",
    "print('bay area has {} census tracts, but only {}/{} census tract level OD pairs, {} trips'.format(\n",
    "    ba_census_tracts_gdf.shape, len(np.unique(ba_commute_data['OFIPS'])), len(np.unique(ba_commute_data['DFIPS'])), np.sum(ba_commute_data['FLOW'])))\n",
    "ba_commute_data.head(2)"
   ]
  },
  {
   "cell_type": "code",
   "execution_count": 26,
   "metadata": {
    "tags": []
   },
   "outputs": [
    {
     "output_type": "stream",
     "name": "stdout",
     "text": [
      "Scen eq0_bld5_pip100 (100158, 8) 2046655\n"
     ]
    },
    {
     "output_type": "display_data",
     "data": {
      "text/plain": "         OFIPS        DFIPS  flow_c\n0  06001400100  06001400500      20\n1  06001400100  06001401000      10",
      "text/html": "<div>\n<style scoped>\n    .dataframe tbody tr th:only-of-type {\n        vertical-align: middle;\n    }\n\n    .dataframe tbody tr th {\n        vertical-align: top;\n    }\n\n    .dataframe thead th {\n        text-align: right;\n    }\n</style>\n<table border=\"1\" class=\"dataframe\">\n  <thead>\n    <tr style=\"text-align: right;\">\n      <th></th>\n      <th>OFIPS</th>\n      <th>DFIPS</th>\n      <th>flow_c</th>\n    </tr>\n  </thead>\n  <tbody>\n    <tr>\n      <th>0</th>\n      <td>06001400100</td>\n      <td>06001400500</td>\n      <td>20</td>\n    </tr>\n    <tr>\n      <th>1</th>\n      <td>06001400100</td>\n      <td>06001401000</td>\n      <td>10</td>\n    </tr>\n  </tbody>\n</table>\n</div>"
     },
     "metadata": {}
    },
    {
     "output_type": "stream",
     "name": "stdout",
     "text": [
      "Scen eq0_bld5_pip100, total OD pairs 2046655 under damage\n",
      "      Scenario eq0_bld5_pip100: 27/100158 tract OD failed to match to nodes\n",
      "Scen eq1_bld5_pip100 (100158, 8) 2046655\n"
     ]
    },
    {
     "output_type": "display_data",
     "data": {
      "text/plain": "         OFIPS        DFIPS  flow_c\n0  06001400100  06001400500      20\n1  06001400100  06001401000      10",
      "text/html": "<div>\n<style scoped>\n    .dataframe tbody tr th:only-of-type {\n        vertical-align: middle;\n    }\n\n    .dataframe tbody tr th {\n        vertical-align: top;\n    }\n\n    .dataframe thead th {\n        text-align: right;\n    }\n</style>\n<table border=\"1\" class=\"dataframe\">\n  <thead>\n    <tr style=\"text-align: right;\">\n      <th></th>\n      <th>OFIPS</th>\n      <th>DFIPS</th>\n      <th>flow_c</th>\n    </tr>\n  </thead>\n  <tbody>\n    <tr>\n      <th>0</th>\n      <td>06001400100</td>\n      <td>06001400500</td>\n      <td>20</td>\n    </tr>\n    <tr>\n      <th>1</th>\n      <td>06001400100</td>\n      <td>06001401000</td>\n      <td>10</td>\n    </tr>\n  </tbody>\n</table>\n</div>"
     },
     "metadata": {}
    },
    {
     "output_type": "stream",
     "name": "stdout",
     "text": [
      "Scen eq1_bld5_pip100, total OD pairs 2046655 under damage\n",
      "      Scenario eq1_bld5_pip100: 27/100158 tract OD failed to match to nodes\n",
      "Scen eq2_bld5_pip100 (100158, 8) 2046655\n"
     ]
    },
    {
     "output_type": "display_data",
     "data": {
      "text/plain": "         OFIPS        DFIPS  flow_c\n0  06001400100  06001400500      20\n1  06001400100  06001401000      10",
      "text/html": "<div>\n<style scoped>\n    .dataframe tbody tr th:only-of-type {\n        vertical-align: middle;\n    }\n\n    .dataframe tbody tr th {\n        vertical-align: top;\n    }\n\n    .dataframe thead th {\n        text-align: right;\n    }\n</style>\n<table border=\"1\" class=\"dataframe\">\n  <thead>\n    <tr style=\"text-align: right;\">\n      <th></th>\n      <th>OFIPS</th>\n      <th>DFIPS</th>\n      <th>flow_c</th>\n    </tr>\n  </thead>\n  <tbody>\n    <tr>\n      <th>0</th>\n      <td>06001400100</td>\n      <td>06001400500</td>\n      <td>20</td>\n    </tr>\n    <tr>\n      <th>1</th>\n      <td>06001400100</td>\n      <td>06001401000</td>\n      <td>10</td>\n    </tr>\n  </tbody>\n</table>\n</div>"
     },
     "metadata": {}
    },
    {
     "output_type": "stream",
     "name": "stdout",
     "text": [
      "Scen eq2_bld5_pip100, total OD pairs 2046655 under damage\n",
      "      Scenario eq2_bld5_pip100: 27/100158 tract OD failed to match to nodes\n",
      "Scen eq3_bld5_pip100 (100158, 8) 2046655\n"
     ]
    },
    {
     "output_type": "display_data",
     "data": {
      "text/plain": "         OFIPS        DFIPS  flow_c\n0  06001400100  06001400500      20\n1  06001400100  06001401000      10",
      "text/html": "<div>\n<style scoped>\n    .dataframe tbody tr th:only-of-type {\n        vertical-align: middle;\n    }\n\n    .dataframe tbody tr th {\n        vertical-align: top;\n    }\n\n    .dataframe thead th {\n        text-align: right;\n    }\n</style>\n<table border=\"1\" class=\"dataframe\">\n  <thead>\n    <tr style=\"text-align: right;\">\n      <th></th>\n      <th>OFIPS</th>\n      <th>DFIPS</th>\n      <th>flow_c</th>\n    </tr>\n  </thead>\n  <tbody>\n    <tr>\n      <th>0</th>\n      <td>06001400100</td>\n      <td>06001400500</td>\n      <td>20</td>\n    </tr>\n    <tr>\n      <th>1</th>\n      <td>06001400100</td>\n      <td>06001401000</td>\n      <td>10</td>\n    </tr>\n  </tbody>\n</table>\n</div>"
     },
     "metadata": {}
    },
    {
     "output_type": "stream",
     "name": "stdout",
     "text": [
      "Scen eq3_bld5_pip100, total OD pairs 2046655 under damage\n",
      "      Scenario eq3_bld5_pip100: 27/100158 tract OD failed to match to nodes\n",
      "Scen eq4_bld5_pip100 (100158, 8) 2046432\n"
     ]
    },
    {
     "output_type": "display_data",
     "data": {
      "text/plain": "         OFIPS        DFIPS  flow_c\n0  06001400100  06001400500      20\n1  06001400100  06001401000      10",
      "text/html": "<div>\n<style scoped>\n    .dataframe tbody tr th:only-of-type {\n        vertical-align: middle;\n    }\n\n    .dataframe tbody tr th {\n        vertical-align: top;\n    }\n\n    .dataframe thead th {\n        text-align: right;\n    }\n</style>\n<table border=\"1\" class=\"dataframe\">\n  <thead>\n    <tr style=\"text-align: right;\">\n      <th></th>\n      <th>OFIPS</th>\n      <th>DFIPS</th>\n      <th>flow_c</th>\n    </tr>\n  </thead>\n  <tbody>\n    <tr>\n      <th>0</th>\n      <td>06001400100</td>\n      <td>06001400500</td>\n      <td>20</td>\n    </tr>\n    <tr>\n      <th>1</th>\n      <td>06001400100</td>\n      <td>06001401000</td>\n      <td>10</td>\n    </tr>\n  </tbody>\n</table>\n</div>"
     },
     "metadata": {}
    },
    {
     "output_type": "stream",
     "name": "stdout",
     "text": [
      "Scen eq4_bld5_pip100, total OD pairs 2046432 under damage\n",
      "      Scenario eq4_bld5_pip100: 27/100158 tract OD failed to match to nodes\n",
      "Scen eq5_bld5_pip100 (100158, 8) 2046655\n"
     ]
    },
    {
     "output_type": "display_data",
     "data": {
      "text/plain": "         OFIPS        DFIPS  flow_c\n0  06001400100  06001400500      20\n1  06001400100  06001401000      10",
      "text/html": "<div>\n<style scoped>\n    .dataframe tbody tr th:only-of-type {\n        vertical-align: middle;\n    }\n\n    .dataframe tbody tr th {\n        vertical-align: top;\n    }\n\n    .dataframe thead th {\n        text-align: right;\n    }\n</style>\n<table border=\"1\" class=\"dataframe\">\n  <thead>\n    <tr style=\"text-align: right;\">\n      <th></th>\n      <th>OFIPS</th>\n      <th>DFIPS</th>\n      <th>flow_c</th>\n    </tr>\n  </thead>\n  <tbody>\n    <tr>\n      <th>0</th>\n      <td>06001400100</td>\n      <td>06001400500</td>\n      <td>20</td>\n    </tr>\n    <tr>\n      <th>1</th>\n      <td>06001400100</td>\n      <td>06001401000</td>\n      <td>10</td>\n    </tr>\n  </tbody>\n</table>\n</div>"
     },
     "metadata": {}
    },
    {
     "output_type": "stream",
     "name": "stdout",
     "text": [
      "Scen eq5_bld5_pip100, total OD pairs 2046655 under damage\n",
      "      Scenario eq5_bld5_pip100: 27/100158 tract OD failed to match to nodes\n",
      "Scen eq6_bld5_pip100 (100158, 8) 2046655\n"
     ]
    },
    {
     "output_type": "display_data",
     "data": {
      "text/plain": "         OFIPS        DFIPS  flow_c\n0  06001400100  06001400500      20\n1  06001400100  06001401000      10",
      "text/html": "<div>\n<style scoped>\n    .dataframe tbody tr th:only-of-type {\n        vertical-align: middle;\n    }\n\n    .dataframe tbody tr th {\n        vertical-align: top;\n    }\n\n    .dataframe thead th {\n        text-align: right;\n    }\n</style>\n<table border=\"1\" class=\"dataframe\">\n  <thead>\n    <tr style=\"text-align: right;\">\n      <th></th>\n      <th>OFIPS</th>\n      <th>DFIPS</th>\n      <th>flow_c</th>\n    </tr>\n  </thead>\n  <tbody>\n    <tr>\n      <th>0</th>\n      <td>06001400100</td>\n      <td>06001400500</td>\n      <td>20</td>\n    </tr>\n    <tr>\n      <th>1</th>\n      <td>06001400100</td>\n      <td>06001401000</td>\n      <td>10</td>\n    </tr>\n  </tbody>\n</table>\n</div>"
     },
     "metadata": {}
    },
    {
     "output_type": "stream",
     "name": "stdout",
     "text": [
      "Scen eq6_bld5_pip100, total OD pairs 2046655 under damage\n",
      "      Scenario eq6_bld5_pip100: 27/100158 tract OD failed to match to nodes\n",
      "Scen eq7_bld5_pip100 (100158, 8) 2046655\n"
     ]
    },
    {
     "output_type": "display_data",
     "data": {
      "text/plain": "         OFIPS        DFIPS  flow_c\n0  06001400100  06001400500      20\n1  06001400100  06001401000      10",
      "text/html": "<div>\n<style scoped>\n    .dataframe tbody tr th:only-of-type {\n        vertical-align: middle;\n    }\n\n    .dataframe tbody tr th {\n        vertical-align: top;\n    }\n\n    .dataframe thead th {\n        text-align: right;\n    }\n</style>\n<table border=\"1\" class=\"dataframe\">\n  <thead>\n    <tr style=\"text-align: right;\">\n      <th></th>\n      <th>OFIPS</th>\n      <th>DFIPS</th>\n      <th>flow_c</th>\n    </tr>\n  </thead>\n  <tbody>\n    <tr>\n      <th>0</th>\n      <td>06001400100</td>\n      <td>06001400500</td>\n      <td>20</td>\n    </tr>\n    <tr>\n      <th>1</th>\n      <td>06001400100</td>\n      <td>06001401000</td>\n      <td>10</td>\n    </tr>\n  </tbody>\n</table>\n</div>"
     },
     "metadata": {}
    },
    {
     "output_type": "stream",
     "name": "stdout",
     "text": [
      "Scen eq7_bld5_pip100, total OD pairs 2046655 under damage\n",
      "      Scenario eq7_bld5_pip100: 27/100158 tract OD failed to match to nodes\n",
      "Scen eq8_bld5_pip100 (100158, 8) 2046655\n"
     ]
    },
    {
     "output_type": "display_data",
     "data": {
      "text/plain": "         OFIPS        DFIPS  flow_c\n0  06001400100  06001400500      20\n1  06001400100  06001401000      10",
      "text/html": "<div>\n<style scoped>\n    .dataframe tbody tr th:only-of-type {\n        vertical-align: middle;\n    }\n\n    .dataframe tbody tr th {\n        vertical-align: top;\n    }\n\n    .dataframe thead th {\n        text-align: right;\n    }\n</style>\n<table border=\"1\" class=\"dataframe\">\n  <thead>\n    <tr style=\"text-align: right;\">\n      <th></th>\n      <th>OFIPS</th>\n      <th>DFIPS</th>\n      <th>flow_c</th>\n    </tr>\n  </thead>\n  <tbody>\n    <tr>\n      <th>0</th>\n      <td>06001400100</td>\n      <td>06001400500</td>\n      <td>20</td>\n    </tr>\n    <tr>\n      <th>1</th>\n      <td>06001400100</td>\n      <td>06001401000</td>\n      <td>10</td>\n    </tr>\n  </tbody>\n</table>\n</div>"
     },
     "metadata": {}
    },
    {
     "output_type": "stream",
     "name": "stdout",
     "text": [
      "Scen eq8_bld5_pip100, total OD pairs 2046655 under damage\n",
      "      Scenario eq8_bld5_pip100: 27/100158 tract OD failed to match to nodes\n",
      "Scen eq9_bld5_pip100 (100158, 8) 2046346\n"
     ]
    },
    {
     "output_type": "display_data",
     "data": {
      "text/plain": "         OFIPS        DFIPS  flow_c\n0  06001400100  06001400500      20\n1  06001400100  06001401000      10",
      "text/html": "<div>\n<style scoped>\n    .dataframe tbody tr th:only-of-type {\n        vertical-align: middle;\n    }\n\n    .dataframe tbody tr th {\n        vertical-align: top;\n    }\n\n    .dataframe thead th {\n        text-align: right;\n    }\n</style>\n<table border=\"1\" class=\"dataframe\">\n  <thead>\n    <tr style=\"text-align: right;\">\n      <th></th>\n      <th>OFIPS</th>\n      <th>DFIPS</th>\n      <th>flow_c</th>\n    </tr>\n  </thead>\n  <tbody>\n    <tr>\n      <th>0</th>\n      <td>06001400100</td>\n      <td>06001400500</td>\n      <td>20</td>\n    </tr>\n    <tr>\n      <th>1</th>\n      <td>06001400100</td>\n      <td>06001401000</td>\n      <td>10</td>\n    </tr>\n  </tbody>\n</table>\n</div>"
     },
     "metadata": {}
    },
    {
     "output_type": "stream",
     "name": "stdout",
     "text": [
      "Scen eq9_bld5_pip100, total OD pairs 2046346 under damage\n",
      "      Scenario eq9_bld5_pip100: 27/100158 tract OD failed to match to nodes\n",
      "Scen eq10_bld5_pip100 (100158, 8) 2046655\n"
     ]
    },
    {
     "output_type": "display_data",
     "data": {
      "text/plain": "         OFIPS        DFIPS  flow_c\n0  06001400100  06001400500      20\n1  06001400100  06001401000      10",
      "text/html": "<div>\n<style scoped>\n    .dataframe tbody tr th:only-of-type {\n        vertical-align: middle;\n    }\n\n    .dataframe tbody tr th {\n        vertical-align: top;\n    }\n\n    .dataframe thead th {\n        text-align: right;\n    }\n</style>\n<table border=\"1\" class=\"dataframe\">\n  <thead>\n    <tr style=\"text-align: right;\">\n      <th></th>\n      <th>OFIPS</th>\n      <th>DFIPS</th>\n      <th>flow_c</th>\n    </tr>\n  </thead>\n  <tbody>\n    <tr>\n      <th>0</th>\n      <td>06001400100</td>\n      <td>06001400500</td>\n      <td>20</td>\n    </tr>\n    <tr>\n      <th>1</th>\n      <td>06001400100</td>\n      <td>06001401000</td>\n      <td>10</td>\n    </tr>\n  </tbody>\n</table>\n</div>"
     },
     "metadata": {}
    },
    {
     "output_type": "stream",
     "name": "stdout",
     "text": [
      "Scen eq10_bld5_pip100, total OD pairs 2046655 under damage\n",
      "      Scenario eq10_bld5_pip100: 27/100158 tract OD failed to match to nodes\n",
      "Scen eq11_bld5_pip100 (100158, 8) 2046655\n"
     ]
    },
    {
     "output_type": "display_data",
     "data": {
      "text/plain": "         OFIPS        DFIPS  flow_c\n0  06001400100  06001400500      20\n1  06001400100  06001401000      10",
      "text/html": "<div>\n<style scoped>\n    .dataframe tbody tr th:only-of-type {\n        vertical-align: middle;\n    }\n\n    .dataframe tbody tr th {\n        vertical-align: top;\n    }\n\n    .dataframe thead th {\n        text-align: right;\n    }\n</style>\n<table border=\"1\" class=\"dataframe\">\n  <thead>\n    <tr style=\"text-align: right;\">\n      <th></th>\n      <th>OFIPS</th>\n      <th>DFIPS</th>\n      <th>flow_c</th>\n    </tr>\n  </thead>\n  <tbody>\n    <tr>\n      <th>0</th>\n      <td>06001400100</td>\n      <td>06001400500</td>\n      <td>20</td>\n    </tr>\n    <tr>\n      <th>1</th>\n      <td>06001400100</td>\n      <td>06001401000</td>\n      <td>10</td>\n    </tr>\n  </tbody>\n</table>\n</div>"
     },
     "metadata": {}
    },
    {
     "output_type": "stream",
     "name": "stdout",
     "text": [
      "Scen eq11_bld5_pip100, total OD pairs 2046655 under damage\n",
      "      Scenario eq11_bld5_pip100: 27/100158 tract OD failed to match to nodes\n",
      "Scen eq12_bld5_pip100 (100158, 8) 2046655\n"
     ]
    },
    {
     "output_type": "display_data",
     "data": {
      "text/plain": "         OFIPS        DFIPS  flow_c\n0  06001400100  06001400500      20\n1  06001400100  06001401000      10",
      "text/html": "<div>\n<style scoped>\n    .dataframe tbody tr th:only-of-type {\n        vertical-align: middle;\n    }\n\n    .dataframe tbody tr th {\n        vertical-align: top;\n    }\n\n    .dataframe thead th {\n        text-align: right;\n    }\n</style>\n<table border=\"1\" class=\"dataframe\">\n  <thead>\n    <tr style=\"text-align: right;\">\n      <th></th>\n      <th>OFIPS</th>\n      <th>DFIPS</th>\n      <th>flow_c</th>\n    </tr>\n  </thead>\n  <tbody>\n    <tr>\n      <th>0</th>\n      <td>06001400100</td>\n      <td>06001400500</td>\n      <td>20</td>\n    </tr>\n    <tr>\n      <th>1</th>\n      <td>06001400100</td>\n      <td>06001401000</td>\n      <td>10</td>\n    </tr>\n  </tbody>\n</table>\n</div>"
     },
     "metadata": {}
    },
    {
     "output_type": "stream",
     "name": "stdout",
     "text": [
      "Scen eq12_bld5_pip100, total OD pairs 2046655 under damage\n",
      "      Scenario eq12_bld5_pip100: 27/100158 tract OD failed to match to nodes\n",
      "Scen eq13_bld5_pip100 (100158, 8) 2046655\n"
     ]
    },
    {
     "output_type": "display_data",
     "data": {
      "text/plain": "         OFIPS        DFIPS  flow_c\n0  06001400100  06001400500      20\n1  06001400100  06001401000      10",
      "text/html": "<div>\n<style scoped>\n    .dataframe tbody tr th:only-of-type {\n        vertical-align: middle;\n    }\n\n    .dataframe tbody tr th {\n        vertical-align: top;\n    }\n\n    .dataframe thead th {\n        text-align: right;\n    }\n</style>\n<table border=\"1\" class=\"dataframe\">\n  <thead>\n    <tr style=\"text-align: right;\">\n      <th></th>\n      <th>OFIPS</th>\n      <th>DFIPS</th>\n      <th>flow_c</th>\n    </tr>\n  </thead>\n  <tbody>\n    <tr>\n      <th>0</th>\n      <td>06001400100</td>\n      <td>06001400500</td>\n      <td>20</td>\n    </tr>\n    <tr>\n      <th>1</th>\n      <td>06001400100</td>\n      <td>06001401000</td>\n      <td>10</td>\n    </tr>\n  </tbody>\n</table>\n</div>"
     },
     "metadata": {}
    },
    {
     "output_type": "stream",
     "name": "stdout",
     "text": [
      "Scen eq13_bld5_pip100, total OD pairs 2046655 under damage\n",
      "      Scenario eq13_bld5_pip100: 27/100158 tract OD failed to match to nodes\n",
      "Scen eq14_bld5_pip100 (100158, 8) 2046432\n"
     ]
    },
    {
     "output_type": "display_data",
     "data": {
      "text/plain": "         OFIPS        DFIPS  flow_c\n0  06001400100  06001400500      20\n1  06001400100  06001401000      10",
      "text/html": "<div>\n<style scoped>\n    .dataframe tbody tr th:only-of-type {\n        vertical-align: middle;\n    }\n\n    .dataframe tbody tr th {\n        vertical-align: top;\n    }\n\n    .dataframe thead th {\n        text-align: right;\n    }\n</style>\n<table border=\"1\" class=\"dataframe\">\n  <thead>\n    <tr style=\"text-align: right;\">\n      <th></th>\n      <th>OFIPS</th>\n      <th>DFIPS</th>\n      <th>flow_c</th>\n    </tr>\n  </thead>\n  <tbody>\n    <tr>\n      <th>0</th>\n      <td>06001400100</td>\n      <td>06001400500</td>\n      <td>20</td>\n    </tr>\n    <tr>\n      <th>1</th>\n      <td>06001400100</td>\n      <td>06001401000</td>\n      <td>10</td>\n    </tr>\n  </tbody>\n</table>\n</div>"
     },
     "metadata": {}
    },
    {
     "output_type": "stream",
     "name": "stdout",
     "text": [
      "Scen eq14_bld5_pip100, total OD pairs 2046432 under damage\n",
      "      Scenario eq14_bld5_pip100: 27/100158 tract OD failed to match to nodes\n",
      "Scen eq15_bld5_pip100 (100158, 8) 2046432\n"
     ]
    },
    {
     "output_type": "display_data",
     "data": {
      "text/plain": "         OFIPS        DFIPS  flow_c\n0  06001400100  06001400500      20\n1  06001400100  06001401000      10",
      "text/html": "<div>\n<style scoped>\n    .dataframe tbody tr th:only-of-type {\n        vertical-align: middle;\n    }\n\n    .dataframe tbody tr th {\n        vertical-align: top;\n    }\n\n    .dataframe thead th {\n        text-align: right;\n    }\n</style>\n<table border=\"1\" class=\"dataframe\">\n  <thead>\n    <tr style=\"text-align: right;\">\n      <th></th>\n      <th>OFIPS</th>\n      <th>DFIPS</th>\n      <th>flow_c</th>\n    </tr>\n  </thead>\n  <tbody>\n    <tr>\n      <th>0</th>\n      <td>06001400100</td>\n      <td>06001400500</td>\n      <td>20</td>\n    </tr>\n    <tr>\n      <th>1</th>\n      <td>06001400100</td>\n      <td>06001401000</td>\n      <td>10</td>\n    </tr>\n  </tbody>\n</table>\n</div>"
     },
     "metadata": {}
    },
    {
     "output_type": "stream",
     "name": "stdout",
     "text": [
      "Scen eq15_bld5_pip100, total OD pairs 2046432 under damage\n",
      "      Scenario eq15_bld5_pip100: 27/100158 tract OD failed to match to nodes\n",
      "Scen eq16_bld5_pip100 (100158, 8) 2046655\n"
     ]
    },
    {
     "output_type": "display_data",
     "data": {
      "text/plain": "         OFIPS        DFIPS  flow_c\n0  06001400100  06001400500      20\n1  06001400100  06001401000      10",
      "text/html": "<div>\n<style scoped>\n    .dataframe tbody tr th:only-of-type {\n        vertical-align: middle;\n    }\n\n    .dataframe tbody tr th {\n        vertical-align: top;\n    }\n\n    .dataframe thead th {\n        text-align: right;\n    }\n</style>\n<table border=\"1\" class=\"dataframe\">\n  <thead>\n    <tr style=\"text-align: right;\">\n      <th></th>\n      <th>OFIPS</th>\n      <th>DFIPS</th>\n      <th>flow_c</th>\n    </tr>\n  </thead>\n  <tbody>\n    <tr>\n      <th>0</th>\n      <td>06001400100</td>\n      <td>06001400500</td>\n      <td>20</td>\n    </tr>\n    <tr>\n      <th>1</th>\n      <td>06001400100</td>\n      <td>06001401000</td>\n      <td>10</td>\n    </tr>\n  </tbody>\n</table>\n</div>"
     },
     "metadata": {}
    },
    {
     "output_type": "stream",
     "name": "stdout",
     "text": [
      "Scen eq16_bld5_pip100, total OD pairs 2046655 under damage\n",
      "      Scenario eq16_bld5_pip100: 27/100158 tract OD failed to match to nodes\n",
      "Scen eq17_bld5_pip100 (100158, 8) 2046655\n"
     ]
    },
    {
     "output_type": "display_data",
     "data": {
      "text/plain": "         OFIPS        DFIPS  flow_c\n0  06001400100  06001400500      20\n1  06001400100  06001401000      10",
      "text/html": "<div>\n<style scoped>\n    .dataframe tbody tr th:only-of-type {\n        vertical-align: middle;\n    }\n\n    .dataframe tbody tr th {\n        vertical-align: top;\n    }\n\n    .dataframe thead th {\n        text-align: right;\n    }\n</style>\n<table border=\"1\" class=\"dataframe\">\n  <thead>\n    <tr style=\"text-align: right;\">\n      <th></th>\n      <th>OFIPS</th>\n      <th>DFIPS</th>\n      <th>flow_c</th>\n    </tr>\n  </thead>\n  <tbody>\n    <tr>\n      <th>0</th>\n      <td>06001400100</td>\n      <td>06001400500</td>\n      <td>20</td>\n    </tr>\n    <tr>\n      <th>1</th>\n      <td>06001400100</td>\n      <td>06001401000</td>\n      <td>10</td>\n    </tr>\n  </tbody>\n</table>\n</div>"
     },
     "metadata": {}
    },
    {
     "output_type": "stream",
     "name": "stdout",
     "text": [
      "Scen eq17_bld5_pip100, total OD pairs 2046655 under damage\n",
      "      Scenario eq17_bld5_pip100: 27/100158 tract OD failed to match to nodes\n",
      "Scen eq18_bld5_pip100 (100158, 8) 2046655\n"
     ]
    },
    {
     "output_type": "display_data",
     "data": {
      "text/plain": "         OFIPS        DFIPS  flow_c\n0  06001400100  06001400500      20\n1  06001400100  06001401000      10",
      "text/html": "<div>\n<style scoped>\n    .dataframe tbody tr th:only-of-type {\n        vertical-align: middle;\n    }\n\n    .dataframe tbody tr th {\n        vertical-align: top;\n    }\n\n    .dataframe thead th {\n        text-align: right;\n    }\n</style>\n<table border=\"1\" class=\"dataframe\">\n  <thead>\n    <tr style=\"text-align: right;\">\n      <th></th>\n      <th>OFIPS</th>\n      <th>DFIPS</th>\n      <th>flow_c</th>\n    </tr>\n  </thead>\n  <tbody>\n    <tr>\n      <th>0</th>\n      <td>06001400100</td>\n      <td>06001400500</td>\n      <td>20</td>\n    </tr>\n    <tr>\n      <th>1</th>\n      <td>06001400100</td>\n      <td>06001401000</td>\n      <td>10</td>\n    </tr>\n  </tbody>\n</table>\n</div>"
     },
     "metadata": {}
    },
    {
     "output_type": "stream",
     "name": "stdout",
     "text": [
      "Scen eq18_bld5_pip100, total OD pairs 2046655 under damage\n",
      "      Scenario eq18_bld5_pip100: 27/100158 tract OD failed to match to nodes\n",
      "Scen eq19_bld5_pip100 (100158, 8) 2046432\n"
     ]
    },
    {
     "output_type": "display_data",
     "data": {
      "text/plain": "         OFIPS        DFIPS  flow_c\n0  06001400100  06001400500      20\n1  06001400100  06001401000      10",
      "text/html": "<div>\n<style scoped>\n    .dataframe tbody tr th:only-of-type {\n        vertical-align: middle;\n    }\n\n    .dataframe tbody tr th {\n        vertical-align: top;\n    }\n\n    .dataframe thead th {\n        text-align: right;\n    }\n</style>\n<table border=\"1\" class=\"dataframe\">\n  <thead>\n    <tr style=\"text-align: right;\">\n      <th></th>\n      <th>OFIPS</th>\n      <th>DFIPS</th>\n      <th>flow_c</th>\n    </tr>\n  </thead>\n  <tbody>\n    <tr>\n      <th>0</th>\n      <td>06001400100</td>\n      <td>06001400500</td>\n      <td>20</td>\n    </tr>\n    <tr>\n      <th>1</th>\n      <td>06001400100</td>\n      <td>06001401000</td>\n      <td>10</td>\n    </tr>\n  </tbody>\n</table>\n</div>"
     },
     "metadata": {}
    },
    {
     "output_type": "stream",
     "name": "stdout",
     "text": [
      "Scen eq19_bld5_pip100, total OD pairs 2046432 under damage\n",
      "      Scenario eq19_bld5_pip100: 27/100158 tract OD failed to match to nodes\n"
     ]
    }
   ],
   "source": [
    "def calculate_flow_after_damage(eq_i, building_threshold, pipe_threshold, damaged_tract_data=None):\n",
    "    ### After damage: two buildings per water node\n",
    "    damaged_tract_data['damage_ratio'] = (damaged_tract_data['damaged_bld_cnts_rep{}'.format(eq_i)] + damaged_tract_data['damaged_pipe_cnts_rep{}'.format(eq_i)]*2\n",
    "    )/damaged_tract_data['total_buildings']\n",
    "    damaged_tract_data['damage_ratio'] = np.where(damaged_tract_data['damage_ratio']>1, 1, damaged_tract_data['damage_ratio'])\n",
    "    # damaged_tract_data.to_csv('tract_damage_ratio_eq{}_bld{}_pip{}.csv'.format(eq_i, building_threshold, pipe_threshold), index=False)\n",
    "    # return\n",
    "\n",
    "    damaged_commute_data = ba_commute_data[['OFIPS', 'DFIPS', 'FLOW']].copy()\n",
    "    damaged_commute_data = damaged_commute_data.merge(\n",
    "        damaged_tract_data[['FIPS', 'damage_ratio']], how='left', left_on='OFIPS', right_on='FIPS').merge(\n",
    "        damaged_tract_data[['FIPS', 'damage_ratio']], how='left', left_on='DFIPS', right_on='FIPS', suffixes=['_O', '_D'])\n",
    "\n",
    "    # damaged_commute_data['flow_n'] = damaged_commute_data['FLOW']\n",
    "    damaged_commute_data['flow_c'] = damaged_commute_data['FLOW'] * (1-damaged_commute_data['damage_ratio_O']) * (1-damaged_commute_data['damage_ratio_D'])\n",
    "    damaged_commute_data['flow_c'] = damaged_commute_data['flow_c'].astype(int)\n",
    "    # damaged_commute_data['flow_hc'] = damaged_commute_data['FLOW'] * (1-0.5*damaged_commute_data['damage_ratio_O']) * (1-0.5*damaged_commute_data['damage_ratio_D'])\n",
    "    # damaged_commute_data['flow_hc'] = damaged_commute_data['flow_hc'].astype(int)\n",
    "    # damaged_commute_data['diff'] = damaged_commute_data['flow_n']-damaged_commute_data['flow_c']\n",
    "    # damaged_commute_data['diff_ratio'] = damaged_commute_data['diff'] / damaged_commute_data['flow_n']\n",
    "    # display(damaged_commute_data.head(0))\n",
    "    # plt.hist(damaged_commute_data.loc[damaged_commute_data['diff_ratio']>-0.0, 'diff_ratio'], bins=100)\n",
    "    # plt.show()\n",
    "    print('Scen eq{}_bld{}_pip{}'.format(eq_i, building_threshold, pipe_threshold), damaged_commute_data.shape, np.sum(damaged_commute_data['flow_c']))\n",
    "    return damaged_commute_data\n",
    "\n",
    "def chunks(l, div):\n",
    "    # Yield successive n-sized chunks from l.\n",
    "    n = int(np.ceil(len(l)/div))\n",
    "    for i in range(0, len(l), n):\n",
    "        yield l[i:i + n]\n",
    "\n",
    "def od_and_output(eq_i, building_threshold, pipe_threshold, damaged_commute_data=None, tract_nodes_dict=None):\n",
    "    ### tract-to-tract OD to node-to-node OD\n",
    "    display(damaged_commute_data[['OFIPS', 'DFIPS', 'flow_c']].head(2))\n",
    "    print('Scen eq{}_bld{}_pip{}, total OD pairs {} under damage'.format(eq_i, building_threshold, pipe_threshold, np.sum(damaged_commute_data['flow_c'])))\n",
    "\n",
    "    for scenario in ['c']:\n",
    "        node_od_list = []\n",
    "        unsuccessful_od = []\n",
    "        for tract_od in damaged_commute_data.itertuples():\n",
    "            # origin_tract = int(getattr(tract_od, 'OFIPS'))\n",
    "            # destin_tract = int(getattr(tract_od, 'DFIPS'))\n",
    "            origin_tract = getattr(tract_od, 'OFIPS')\n",
    "            destin_tract = getattr(tract_od, 'DFIPS')\n",
    "            tract_od_flow = int(getattr(tract_od, 'flow_{}'.format(scenario)))\n",
    "            try:\n",
    "                node_o = random.choices(tract_nodes_dict[origin_tract], k=tract_od_flow)\n",
    "                node_d = random.choices(tract_nodes_dict[destin_tract], k=tract_od_flow)\n",
    "                node_od_list += list(zip(node_o, node_d))\n",
    "            except KeyError:\n",
    "                # print(origin_tract, destin_tract, tract_od_flow)\n",
    "                unsuccessful_od.append((origin_tract, destin_tract))\n",
    "            except IndexError:\n",
    "                unsuccessful_od.append((origin_tract, destin_tract))\n",
    "        random.shuffle(node_od_list)\n",
    "        print('      Scenario eq{}_bld{}_pip{}: {}/{} tract OD failed to match to nodes'.format(eq_i, building_threshold, pipe_threshold, len(unsuccessful_od), damaged_commute_data.shape[0]))\n",
    "\n",
    "        div_node_od_super_list = list(chunks(node_od_list, 3))\n",
    "        chunk_num = 0\n",
    "        agent_id_shift = 0\n",
    "        for div_node_od_list in div_node_od_super_list:\n",
    "            div_node_od_df = pd.DataFrame(div_node_od_list, columns=['O', 'D'])\n",
    "            div_node_od_df['agent_id'] = agent_id_shift\n",
    "            div_node_od_df['agent_id'] += range(div_node_od_df.shape[0])\n",
    "            agent_id_shift += div_node_od_df.shape[0]\n",
    "            div_node_od_df[['agent_id', 'O', 'D']].to_csv('ctpp/od_eq{}_bld{}_pip{}-{}.csv'.format(eq_i, building_threshold, pipe_threshold, chunk_num), index=False)\n",
    "            chunk_num += 1\n",
    "\n",
    "# pipeline_scenario=0\n",
    "for eq_i in range(20):\n",
    "    damaged_tract_data = ba_census_tracts_gdf.merge(tract_building_damage_df, how='left', on='GEO_ID').merge(tract_pipe_damage_df, how='left', on='GEO_ID')\n",
    "    damaged_commute_data = calculate_flow_after_damage(eq_i, building_threshold, pipe_threshold, damaged_tract_data=damaged_tract_data)\n",
    "    # break\n",
    "    od_and_output(eq_i, building_threshold, pipe_threshold, damaged_commute_data=damaged_commute_data, tract_nodes_dict=tract_nodes_dict)"
   ]
  },
  {
   "cell_type": "code",
   "execution_count": 11,
   "metadata": {},
   "outputs": [],
   "source": [
    "### flow geometry\n",
    "ba_tracts_centroid_gdf = ba_census_tracts_gdf.copy()\n",
    "ba_tracts_centroid_gdf['c_x'] = ba_census_tracts_gdf['geometry'].centroid.x\n",
    "ba_tracts_centroid_gdf['c_y'] = ba_census_tracts_gdf['geometry'].centroid.y\n",
    "\n",
    "damaged_commute_data_geom = damaged_commute_data[['OFIPS', 'DFIPS', 'flow_n', 'flow_c', 'flow_hc']].copy().merge(\n",
    "    ba_tracts_centroid_gdf[['FIPS', 'c_x', 'c_y']], how='left', left_on='OFIPS', right_on='FIPS').merge(\n",
    "    ba_tracts_centroid_gdf[['FIPS', 'c_x', 'c_y']], how='left', left_on='DFIPS', right_on='FIPS', suffixes=['_O', '_D'])\n",
    "damaged_commute_data_geom['geometry'] = damaged_commute_data_geom.apply(lambda x: 'LINESTRING ({} {}, {} {})'.format(x['c_x_O'], x['c_y_O'], x['c_x_D'], x['c_y_D']), axis=1)\n",
    "damaged_commute_data_geom[['OFIPS', 'DFIPS', 'flow_n', 'flow_c', 'flow_hc', 'geometry']].to_csv('commute_flow_pattern.csv', index=False)\n"
   ]
  },
  {
   "cell_type": "code",
   "execution_count": null,
   "metadata": {},
   "outputs": [],
   "source": []
  }
 ],
 "metadata": {
  "kernelspec": {
   "display_name": "Python 3.8.5 64-bit ('py38': conda)",
   "language": "python",
   "name": "python38564bitpy38condad2b4b3a608124f239fbe562baf5b9637"
  },
  "language_info": {
   "codemirror_mode": {
    "name": "ipython",
    "version": 3
   },
   "file_extension": ".py",
   "mimetype": "text/x-python",
   "name": "python",
   "nbconvert_exporter": "python",
   "pygments_lexer": "ipython3",
   "version": "3.8.5-final"
  }
 },
 "nbformat": 4,
 "nbformat_minor": 4
}