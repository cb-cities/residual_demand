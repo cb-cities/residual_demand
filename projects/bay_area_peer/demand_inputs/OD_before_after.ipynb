{
 "cells": [
  {
   "cell_type": "code",
   "execution_count": 2,
   "metadata": {},
   "outputs": [],
   "source": [
    "import random\n",
    "import numpy as np\n",
    "import pandas as pd\n",
    "import geopandas as gpd\n",
    "from shapely import wkt \n",
    "from multiprocessing import Pool\n",
    "from shapely.geometry import Point\n",
    "import matplotlib.pyplot as plt"
   ]
  },
  {
   "cell_type": "code",
   "execution_count": 3,
   "metadata": {
    "tags": []
   },
   "outputs": [
    {
     "output_type": "stream",
     "name": "stdout",
     "text": "(1585, 9)\n"
    },
    {
     "output_type": "execute_result",
     "data": {
      "text/plain": "   index                GEO_ID STATE COUNTY   TRACT     NAME   LSAD  \\\n0      0  1400000US06001425103    06    001  425103  4251.03  Tract   \n1      1  1400000US06001425104    06    001  425104  4251.04  Tract   \n\n   CENSUSAREA                                           geometry  \n0       0.341  MULTIPOLYGON (((-122.29236 37.84936, -122.2895...  \n1       0.415  MULTIPOLYGON (((-122.27860 37.82854, -122.2780...  ",
      "text/html": "<div>\n<style scoped>\n    .dataframe tbody tr th:only-of-type {\n        vertical-align: middle;\n    }\n\n    .dataframe tbody tr th {\n        vertical-align: top;\n    }\n\n    .dataframe thead th {\n        text-align: right;\n    }\n</style>\n<table border=\"1\" class=\"dataframe\">\n  <thead>\n    <tr style=\"text-align: right;\">\n      <th></th>\n      <th>index</th>\n      <th>GEO_ID</th>\n      <th>STATE</th>\n      <th>COUNTY</th>\n      <th>TRACT</th>\n      <th>NAME</th>\n      <th>LSAD</th>\n      <th>CENSUSAREA</th>\n      <th>geometry</th>\n    </tr>\n  </thead>\n  <tbody>\n    <tr>\n      <th>0</th>\n      <td>0</td>\n      <td>1400000US06001425103</td>\n      <td>06</td>\n      <td>001</td>\n      <td>425103</td>\n      <td>4251.03</td>\n      <td>Tract</td>\n      <td>0.341</td>\n      <td>MULTIPOLYGON (((-122.29236 37.84936, -122.2895...</td>\n    </tr>\n    <tr>\n      <th>1</th>\n      <td>1</td>\n      <td>1400000US06001425104</td>\n      <td>06</td>\n      <td>001</td>\n      <td>425104</td>\n      <td>4251.04</td>\n      <td>Tract</td>\n      <td>0.415</td>\n      <td>MULTIPOLYGON (((-122.27860 37.82854, -122.2780...</td>\n    </tr>\n  </tbody>\n</table>\n</div>"
     },
     "metadata": {},
     "execution_count": 3
    }
   ],
   "source": [
    "### read census tract geometry\n",
    "census_tracts_gdf = gpd.read_file('traffic_inputs/census_tract.geojson')\n",
    "census_tracts_gdf = census_tracts_gdf.to_crs(4326)\n",
    "ba_census_tracts_gdf = census_tracts_gdf.loc[census_tracts_gdf['COUNTY'].isin(['001', '013', '041', '055', '075', '081', '085', '095', '097'])].copy().reset_index()\n",
    "print(ba_census_tracts_gdf.shape)\n",
    "ba_census_tracts_gdf.head(2)"
   ]
  },
  {
   "cell_type": "code",
   "execution_count": 5,
   "metadata": {},
   "outputs": [
    {
     "output_type": "execute_result",
     "data": {
      "text/plain": "        id   longitude   latitude  stories  yearbuilt occupancy structure  \\\n0  9794592 -122.495052  37.716307        1       1948      RES1        W1   \n1  9794593 -122.478313  37.716702        1       1947      RES1        W1   \n\n   areafootprint  simID  RedTagged                     geometry  \n0      90.423164      1        0.0  POINT (-122.49505 37.71631)  \n1     187.357970      2        0.0  POINT (-122.47831 37.71670)  ",
      "text/html": "<div>\n<style scoped>\n    .dataframe tbody tr th:only-of-type {\n        vertical-align: middle;\n    }\n\n    .dataframe tbody tr th {\n        vertical-align: top;\n    }\n\n    .dataframe thead th {\n        text-align: right;\n    }\n</style>\n<table border=\"1\" class=\"dataframe\">\n  <thead>\n    <tr style=\"text-align: right;\">\n      <th></th>\n      <th>id</th>\n      <th>longitude</th>\n      <th>latitude</th>\n      <th>stories</th>\n      <th>yearbuilt</th>\n      <th>occupancy</th>\n      <th>structure</th>\n      <th>areafootprint</th>\n      <th>simID</th>\n      <th>RedTagged</th>\n      <th>geometry</th>\n    </tr>\n  </thead>\n  <tbody>\n    <tr>\n      <th>0</th>\n      <td>9794592</td>\n      <td>-122.495052</td>\n      <td>37.716307</td>\n      <td>1</td>\n      <td>1948</td>\n      <td>RES1</td>\n      <td>W1</td>\n      <td>90.423164</td>\n      <td>1</td>\n      <td>0.0</td>\n      <td>POINT (-122.49505 37.71631)</td>\n    </tr>\n    <tr>\n      <th>1</th>\n      <td>9794593</td>\n      <td>-122.478313</td>\n      <td>37.716702</td>\n      <td>1</td>\n      <td>1947</td>\n      <td>RES1</td>\n      <td>W1</td>\n      <td>187.357970</td>\n      <td>2</td>\n      <td>0.0</td>\n      <td>POINT (-122.47831 37.71670)</td>\n    </tr>\n  </tbody>\n</table>\n</div>"
     },
     "metadata": {},
     "execution_count": 5
    }
   ],
   "source": [
    "### building\n",
    "building_df = pd.read_csv('BayArea-Buildings-Damage.csv')\n",
    "building_gdf = gpd.GeoDataFrame(building_df, crs=4326, geometry=[Point(xy) for xy in zip(building_df.longitude, building_df.latitude)])\n",
    "building_gdf.head(2)"
   ]
  },
  {
   "cell_type": "code",
   "execution_count": 6,
   "metadata": {
    "tags": []
   },
   "outputs": [
    {
     "output_type": "stream",
     "name": "stdout",
     "text": "finish spatial indexing\n"
    },
    {
     "output_type": "execute_result",
     "data": {
      "text/plain": "                 GEO_ID  damaged_building  total_building\n0  1400000US06001437702                 0             360\n1  1400000US06001425103                 4             331",
      "text/html": "<div>\n<style scoped>\n    .dataframe tbody tr th:only-of-type {\n        vertical-align: middle;\n    }\n\n    .dataframe tbody tr th {\n        vertical-align: top;\n    }\n\n    .dataframe thead th {\n        text-align: right;\n    }\n</style>\n<table border=\"1\" class=\"dataframe\">\n  <thead>\n    <tr style=\"text-align: right;\">\n      <th></th>\n      <th>GEO_ID</th>\n      <th>damaged_building</th>\n      <th>total_building</th>\n    </tr>\n  </thead>\n  <tbody>\n    <tr>\n      <th>0</th>\n      <td>1400000US06001437702</td>\n      <td>0</td>\n      <td>360</td>\n    </tr>\n    <tr>\n      <th>1</th>\n      <td>1400000US06001425103</td>\n      <td>4</td>\n      <td>331</td>\n    </tr>\n  </tbody>\n</table>\n</div>"
     },
     "metadata": {},
     "execution_count": 6
    }
   ],
   "source": [
    "def building_damage_ratio(tract_info):\n",
    "    [tract_id, tract_geom] = tract_info\n",
    "    coarse_match_ids = list(building_sindex.intersection(tract_geom.bounds))\n",
    "    coarse_matchs = building_gdf.iloc[coarse_match_ids]\n",
    "    precise_matches = coarse_matchs[coarse_matchs.intersects(tract_geom)]\n",
    "#     print(tract_id)\n",
    "    return (tract_id, np.sum(precise_matches['RedTagged']==1), precise_matches.shape[0])\n",
    "\n",
    "building_sindex = building_gdf.sindex\n",
    "print('finish spatial indexing')\n",
    "pool = Pool(processes=30)\n",
    "tract_info_list = ba_census_tracts_gdf[['GEO_ID', 'geometry']].values.tolist()\n",
    "res = pool.imap_unordered(building_damage_ratio, tract_info_list)\n",
    "pool.close()\n",
    "pool.join()\n",
    "\n",
    "tract_building_damage_list = [(tract_id, damaged, total) for (tract_id, damaged, total) in res]\n",
    "tract_building_damage_df = pd.DataFrame(tract_building_damage_list, columns=['GEO_ID', 'damaged_building', 'total_building'])\n",
    "tract_building_damage_df.head(2)"
   ]
  },
  {
   "cell_type": "code",
   "execution_count": 7,
   "metadata": {},
   "outputs": [
    {
     "output_type": "execute_result",
     "data": {
      "text/plain": "   node_id       head    supply  leak_discharge   longitude   latitude  \\\n0    29057  30.246546  0.994697             0.0 -122.106105  37.678483   \n1    29058  30.246546  0.186506             0.0 -122.106095  37.678486   \n\n   elevation  demand  MM_2018_gp  ave_deficiencies  \\\n0      61.81     0.0    1.317115          8.375918   \n1      61.81     0.0    0.246959          8.375917   \n\n                      geometry  \n0  POINT (-122.10611 37.67848)  \n1  POINT (-122.10610 37.67849)  ",
      "text/html": "<div>\n<style scoped>\n    .dataframe tbody tr th:only-of-type {\n        vertical-align: middle;\n    }\n\n    .dataframe tbody tr th {\n        vertical-align: top;\n    }\n\n    .dataframe thead th {\n        text-align: right;\n    }\n</style>\n<table border=\"1\" class=\"dataframe\">\n  <thead>\n    <tr style=\"text-align: right;\">\n      <th></th>\n      <th>node_id</th>\n      <th>head</th>\n      <th>supply</th>\n      <th>leak_discharge</th>\n      <th>longitude</th>\n      <th>latitude</th>\n      <th>elevation</th>\n      <th>demand</th>\n      <th>MM_2018_gp</th>\n      <th>ave_deficiencies</th>\n      <th>geometry</th>\n    </tr>\n  </thead>\n  <tbody>\n    <tr>\n      <th>0</th>\n      <td>29057</td>\n      <td>30.246546</td>\n      <td>0.994697</td>\n      <td>0.0</td>\n      <td>-122.106105</td>\n      <td>37.678483</td>\n      <td>61.81</td>\n      <td>0.0</td>\n      <td>1.317115</td>\n      <td>8.375918</td>\n      <td>POINT (-122.10611 37.67848)</td>\n    </tr>\n    <tr>\n      <th>1</th>\n      <td>29058</td>\n      <td>30.246546</td>\n      <td>0.186506</td>\n      <td>0.0</td>\n      <td>-122.106095</td>\n      <td>37.678486</td>\n      <td>61.81</td>\n      <td>0.0</td>\n      <td>0.246959</td>\n      <td>8.375917</td>\n      <td>POINT (-122.10610 37.67849)</td>\n    </tr>\n  </tbody>\n</table>\n</div>"
     },
     "metadata": {},
     "execution_count": 7
    }
   ],
   "source": [
    "### pipe_nodes\n",
    "pipe_gdf = gpd.read_file('lack_demand_nodes.geojson')\n",
    "pipe_gdf.head(2)"
   ]
  },
  {
   "cell_type": "code",
   "execution_count": 8,
   "metadata": {
    "tags": []
   },
   "outputs": [
    {
     "output_type": "stream",
     "name": "stdout",
     "text": "finish spatial indexing\n"
    },
    {
     "output_type": "execute_result",
     "data": {
      "text/plain": "                 GEO_ID  damaged_pipe_cnts\n0  1400000US06001425103                  0\n1  1400000US06001427100                  0",
      "text/html": "<div>\n<style scoped>\n    .dataframe tbody tr th:only-of-type {\n        vertical-align: middle;\n    }\n\n    .dataframe tbody tr th {\n        vertical-align: top;\n    }\n\n    .dataframe thead th {\n        text-align: right;\n    }\n</style>\n<table border=\"1\" class=\"dataframe\">\n  <thead>\n    <tr style=\"text-align: right;\">\n      <th></th>\n      <th>GEO_ID</th>\n      <th>damaged_pipe_cnts</th>\n    </tr>\n  </thead>\n  <tbody>\n    <tr>\n      <th>0</th>\n      <td>1400000US06001425103</td>\n      <td>0</td>\n    </tr>\n    <tr>\n      <th>1</th>\n      <td>1400000US06001427100</td>\n      <td>0</td>\n    </tr>\n  </tbody>\n</table>\n</div>"
     },
     "metadata": {},
     "execution_count": 8
    }
   ],
   "source": [
    "def pipe_damage_cnt(tract_info):\n",
    "    [tract_id, tract_geom] = tract_info\n",
    "    coarse_match_ids = list(pipe_sindex.intersection(tract_geom.bounds))\n",
    "    coarse_matchs = pipe_gdf.iloc[coarse_match_ids]\n",
    "    precise_matches = coarse_matchs[coarse_matchs.intersects(tract_geom)]\n",
    "    return (tract_id, precise_matches.shape[0])\n",
    "\n",
    "pipe_sindex = pipe_gdf.sindex\n",
    "print('finish spatial indexing')\n",
    "pool = Pool(processes=4)\n",
    "tract_info_list = ba_census_tracts_gdf[['GEO_ID', 'geometry']].values.tolist()\n",
    "res = pool.imap_unordered(pipe_damage_cnt, tract_info_list)\n",
    "pool.close()\n",
    "pool.join()\n",
    "\n",
    "tract_pipe_damage_list = [(tract_id, damaged) for (tract_id, damaged) in res]\n",
    "tract_pipe_damage_df = pd.DataFrame(tract_pipe_damage_list, columns=['GEO_ID', 'damaged_pipe_cnts'])\n",
    "tract_pipe_damage_df.head(2)"
   ]
  },
  {
   "cell_type": "code",
   "execution_count": 9,
   "metadata": {
    "tags": []
   },
   "outputs": [
    {
     "output_type": "stream",
     "name": "stdout",
     "text": "(4155548, 12) (109115, 13)\nbay area has (1585, 10) census tracts, but only 1577/1578 census tract level OD pairs, 3296835 trips\n"
    },
    {
     "output_type": "execute_result",
     "data": {
      "text/plain": "   index       OFIPS       DFIPS  OSTFIPS  OCTFIPS  OTRFIPS  DSTFIPS  DCTFIPS  \\\n0     70  6055201700  6055201700        6       55   201700        6       55   \n1     92  6075061500  6075061500        6       75    61500        6       75   \n\n   DTRFIPS  FLOW  MOE  LENKM  ESTDIVMOE  \n0   201700  2020  427    0.0       4.73  \n1    61500  1775  318    0.0       5.58  ",
      "text/html": "<div>\n<style scoped>\n    .dataframe tbody tr th:only-of-type {\n        vertical-align: middle;\n    }\n\n    .dataframe tbody tr th {\n        vertical-align: top;\n    }\n\n    .dataframe thead th {\n        text-align: right;\n    }\n</style>\n<table border=\"1\" class=\"dataframe\">\n  <thead>\n    <tr style=\"text-align: right;\">\n      <th></th>\n      <th>index</th>\n      <th>OFIPS</th>\n      <th>DFIPS</th>\n      <th>OSTFIPS</th>\n      <th>OCTFIPS</th>\n      <th>OTRFIPS</th>\n      <th>DSTFIPS</th>\n      <th>DCTFIPS</th>\n      <th>DTRFIPS</th>\n      <th>FLOW</th>\n      <th>MOE</th>\n      <th>LENKM</th>\n      <th>ESTDIVMOE</th>\n    </tr>\n  </thead>\n  <tbody>\n    <tr>\n      <th>0</th>\n      <td>70</td>\n      <td>6055201700</td>\n      <td>6055201700</td>\n      <td>6</td>\n      <td>55</td>\n      <td>201700</td>\n      <td>6</td>\n      <td>55</td>\n      <td>201700</td>\n      <td>2020</td>\n      <td>427</td>\n      <td>0.0</td>\n      <td>4.73</td>\n    </tr>\n    <tr>\n      <th>1</th>\n      <td>92</td>\n      <td>6075061500</td>\n      <td>6075061500</td>\n      <td>6</td>\n      <td>75</td>\n      <td>61500</td>\n      <td>6</td>\n      <td>75</td>\n      <td>61500</td>\n      <td>1775</td>\n      <td>318</td>\n      <td>0.0</td>\n      <td>5.58</td>\n    </tr>\n  </tbody>\n</table>\n</div>"
     },
     "metadata": {},
     "execution_count": 9
    }
   ],
   "source": [
    "### read commute data\n",
    "commute_data = pd.read_csv('traffic_inputs/commute_data.csv')\n",
    "commute_data.head()\n",
    "\n",
    "### filter to those within Bay Area\n",
    "ba_census_tracts_gdf['FIPS'] = ba_census_tracts_gdf['GEO_ID'].apply(lambda x: int(x.split('US')[1]))\n",
    "ba_commute_data = commute_data.loc[(\n",
    "    commute_data['OFIPS'].isin(ba_census_tracts_gdf['FIPS'])) & (\n",
    "    commute_data['DFIPS'].isin(ba_census_tracts_gdf['FIPS']))].reset_index()\n",
    "print(commute_data.shape, ba_commute_data.shape)\n",
    "print('bay area has {} census tracts, but only {}/{} census tract level OD pairs, {} trips'.format(\n",
    "    ba_census_tracts_gdf.shape, len(np.unique(ba_commute_data['OFIPS'])), len(np.unique(ba_commute_data['DFIPS'])), np.sum(ba_commute_data['FLOW'])))\n",
    "ba_commute_data.head(2)"
   ]
  },
  {
   "cell_type": "code",
   "execution_count": 10,
   "metadata": {
    "tags": []
   },
   "outputs": [
    {
     "output_type": "display_data",
     "data": {
      "text/plain": "        OFIPS       DFIPS  FLOW      FIPS_O  damage_ratio_O      FIPS_D  \\\n0  6055201700  6055201700  2020  6055201700             0.0  6055201700   \n1  6075061500  6075061500  1775  6075061500             0.0  6075061500   \n2  6081613700  6081613700  1330  6081613700             0.0  6081613700   \n3  6085513000  6085513000  1265  6085513000             0.0  6085513000   \n4  6075061500  6075011700  1065  6075061500             0.0  6075011700   \n\n   damage_ratio_D  flow_n  flow_c  flow_hc  diff  diff_ratio  \n0             0.0    2020    2020     2020     0         0.0  \n1             0.0    1775    1775     1775     0         0.0  \n2             0.0    1330    1330     1330     0         0.0  \n3             0.0    1265    1265     1265     0         0.0  \n4             0.0    1065    1065     1065     0         0.0  ",
      "text/html": "<div>\n<style scoped>\n    .dataframe tbody tr th:only-of-type {\n        vertical-align: middle;\n    }\n\n    .dataframe tbody tr th {\n        vertical-align: top;\n    }\n\n    .dataframe thead th {\n        text-align: right;\n    }\n</style>\n<table border=\"1\" class=\"dataframe\">\n  <thead>\n    <tr style=\"text-align: right;\">\n      <th></th>\n      <th>OFIPS</th>\n      <th>DFIPS</th>\n      <th>FLOW</th>\n      <th>FIPS_O</th>\n      <th>damage_ratio_O</th>\n      <th>FIPS_D</th>\n      <th>damage_ratio_D</th>\n      <th>flow_n</th>\n      <th>flow_c</th>\n      <th>flow_hc</th>\n      <th>diff</th>\n      <th>diff_ratio</th>\n    </tr>\n  </thead>\n  <tbody>\n    <tr>\n      <th>0</th>\n      <td>6055201700</td>\n      <td>6055201700</td>\n      <td>2020</td>\n      <td>6055201700</td>\n      <td>0.0</td>\n      <td>6055201700</td>\n      <td>0.0</td>\n      <td>2020</td>\n      <td>2020</td>\n      <td>2020</td>\n      <td>0</td>\n      <td>0.0</td>\n    </tr>\n    <tr>\n      <th>1</th>\n      <td>6075061500</td>\n      <td>6075061500</td>\n      <td>1775</td>\n      <td>6075061500</td>\n      <td>0.0</td>\n      <td>6075061500</td>\n      <td>0.0</td>\n      <td>1775</td>\n      <td>1775</td>\n      <td>1775</td>\n      <td>0</td>\n      <td>0.0</td>\n    </tr>\n    <tr>\n      <th>2</th>\n      <td>6081613700</td>\n      <td>6081613700</td>\n      <td>1330</td>\n      <td>6081613700</td>\n      <td>0.0</td>\n      <td>6081613700</td>\n      <td>0.0</td>\n      <td>1330</td>\n      <td>1330</td>\n      <td>1330</td>\n      <td>0</td>\n      <td>0.0</td>\n    </tr>\n    <tr>\n      <th>3</th>\n      <td>6085513000</td>\n      <td>6085513000</td>\n      <td>1265</td>\n      <td>6085513000</td>\n      <td>0.0</td>\n      <td>6085513000</td>\n      <td>0.0</td>\n      <td>1265</td>\n      <td>1265</td>\n      <td>1265</td>\n      <td>0</td>\n      <td>0.0</td>\n    </tr>\n    <tr>\n      <th>4</th>\n      <td>6075061500</td>\n      <td>6075011700</td>\n      <td>1065</td>\n      <td>6075061500</td>\n      <td>0.0</td>\n      <td>6075011700</td>\n      <td>0.0</td>\n      <td>1065</td>\n      <td>1065</td>\n      <td>1065</td>\n      <td>0</td>\n      <td>0.0</td>\n    </tr>\n  </tbody>\n</table>\n</div>"
     },
     "metadata": {}
    },
    {
     "output_type": "display_data",
     "data": {
      "text/plain": "<Figure size 432x288 with 1 Axes>",
      "image/svg+xml": "<?xml version=\"1.0\" encoding=\"utf-8\" standalone=\"no\"?>\n<!DOCTYPE svg PUBLIC \"-//W3C//DTD SVG 1.1//EN\"\n  \"http://www.w3.org/Graphics/SVG/1.1/DTD/svg11.dtd\">\n<!-- Created with matplotlib (https://matplotlib.org/) -->\n<svg height=\"248.518125pt\" version=\"1.1\" viewBox=\"0 0 381.65 248.518125\" width=\"381.65pt\" xmlns=\"http://www.w3.org/2000/svg\" xmlns:xlink=\"http://www.w3.org/1999/xlink\">\n <defs>\n  <style type=\"text/css\">\n*{stroke-linecap:butt;stroke-linejoin:round;}\n  </style>\n </defs>\n <g id=\"figure_1\">\n  <g id=\"patch_1\">\n   <path d=\"M -0 248.518125 \nL 381.65 248.518125 \nL 381.65 0 \nL -0 0 \nz\n\" style=\"fill:none;\"/>\n  </g>\n  <g id=\"axes_1\">\n   <g id=\"patch_2\">\n    <path d=\"M 39.65 224.64 \nL 374.45 224.64 \nL 374.45 7.2 \nL 39.65 7.2 \nz\n\" style=\"fill:#ffffff;\"/>\n   </g>\n   <g id=\"patch_3\">\n    <path clip-path=\"url(#p3acfc7137b)\" d=\"M 54.868182 224.64 \nL 57.911818 224.64 \nL 57.911818 216.77998 \nL 54.868182 216.77998 \nz\n\" style=\"fill:#1f77b4;\"/>\n   </g>\n   <g id=\"patch_4\">\n    <path clip-path=\"url(#p3acfc7137b)\" d=\"M 57.911818 224.64 \nL 60.955455 224.64 \nL 60.955455 201.031253 \nL 57.911818 201.031253 \nz\n\" style=\"fill:#1f77b4;\"/>\n   </g>\n   <g id=\"patch_5\">\n    <path clip-path=\"url(#p3acfc7137b)\" d=\"M 60.955455 224.64 \nL 63.999091 224.64 \nL 63.999091 206.137398 \nL 60.955455 206.137398 \nz\n\" style=\"fill:#1f77b4;\"/>\n   </g>\n   <g id=\"patch_6\">\n    <path clip-path=\"url(#p3acfc7137b)\" d=\"M 63.999091 224.64 \nL 67.042727 224.64 \nL 67.042727 191.765609 \nL 63.999091 191.765609 \nz\n\" style=\"fill:#1f77b4;\"/>\n   </g>\n   <g id=\"patch_7\">\n    <path clip-path=\"url(#p3acfc7137b)\" d=\"M 67.042727 224.64 \nL 70.086364 224.64 \nL 70.086364 195.23664 \nL 67.042727 195.23664 \nz\n\" style=\"fill:#1f77b4;\"/>\n   </g>\n   <g id=\"patch_8\">\n    <path clip-path=\"url(#p3acfc7137b)\" d=\"M 70.086364 224.64 \nL 73.13 224.64 \nL 73.13 220.078893 \nL 70.086364 220.078893 \nz\n\" style=\"fill:#1f77b4;\"/>\n   </g>\n   <g id=\"patch_9\">\n    <path clip-path=\"url(#p3acfc7137b)\" d=\"M 73.13 224.64 \nL 76.173636 224.64 \nL 76.173636 164.198166 \nL 73.13 164.198166 \nz\n\" style=\"fill:#1f77b4;\"/>\n   </g>\n   <g id=\"patch_10\">\n    <path clip-path=\"url(#p3acfc7137b)\" d=\"M 76.173636 224.64 \nL 79.217273 224.64 \nL 79.217273 218.042173 \nL 76.173636 218.042173 \nz\n\" style=\"fill:#1f77b4;\"/>\n   </g>\n   <g id=\"patch_11\">\n    <path clip-path=\"url(#p3acfc7137b)\" d=\"M 79.217273 224.64 \nL 82.260909 224.64 \nL 82.260909 221.742693 \nL 79.217273 221.742693 \nz\n\" style=\"fill:#1f77b4;\"/>\n   </g>\n   <g id=\"patch_12\">\n    <path clip-path=\"url(#p3acfc7137b)\" d=\"M 82.260909 224.64 \nL 85.304545 224.64 \nL 85.304545 136.401233 \nL 82.260909 136.401233 \nz\n\" style=\"fill:#1f77b4;\"/>\n   </g>\n   <g id=\"patch_13\">\n    <path clip-path=\"url(#p3acfc7137b)\" d=\"M 85.304545 224.64 \nL 88.348182 224.64 \nL 88.348182 223.693355 \nL 85.304545 223.693355 \nz\n\" style=\"fill:#1f77b4;\"/>\n   </g>\n   <g id=\"patch_14\">\n    <path clip-path=\"url(#p3acfc7137b)\" d=\"M 88.348182 224.64 \nL 91.391818 224.64 \nL 91.391818 221.369773 \nL 88.348182 221.369773 \nz\n\" style=\"fill:#1f77b4;\"/>\n   </g>\n   <g id=\"patch_15\">\n    <path clip-path=\"url(#p3acfc7137b)\" d=\"M 91.391818 224.64 \nL 94.435455 224.64 \nL 94.435455 223.033573 \nL 91.391818 223.033573 \nz\n\" style=\"fill:#1f77b4;\"/>\n   </g>\n   <g id=\"patch_16\">\n    <path clip-path=\"url(#p3acfc7137b)\" d=\"M 94.435455 224.64 \nL 97.479091 224.64 \nL 97.479091 208.346236 \nL 94.435455 208.346236 \nz\n\" style=\"fill:#1f77b4;\"/>\n   </g>\n   <g id=\"patch_17\">\n    <path clip-path=\"url(#p3acfc7137b)\" d=\"M 97.479091 224.64 \nL 100.522727 224.64 \nL 100.522727 217.38239 \nL 97.479091 217.38239 \nz\n\" style=\"fill:#1f77b4;\"/>\n   </g>\n   <g id=\"patch_18\">\n    <path clip-path=\"url(#p3acfc7137b)\" d=\"M 100.522727 224.64 \nL 103.566364 224.64 \nL 103.566364 221.857438 \nL 100.522727 221.857438 \nz\n\" style=\"fill:#1f77b4;\"/>\n   </g>\n   <g id=\"patch_19\">\n    <path clip-path=\"url(#p3acfc7137b)\" d=\"M 103.566364 224.64 \nL 106.61 224.64 \nL 106.61 223.090945 \nL 103.566364 223.090945 \nz\n\" style=\"fill:#1f77b4;\"/>\n   </g>\n   <g id=\"patch_20\">\n    <path clip-path=\"url(#p3acfc7137b)\" d=\"M 106.61 224.64 \nL 109.653636 224.64 \nL 109.653636 223.894159 \nL 106.61 223.894159 \nz\n\" style=\"fill:#1f77b4;\"/>\n   </g>\n   <g id=\"patch_21\">\n    <path clip-path=\"url(#p3acfc7137b)\" d=\"M 109.653636 224.64 \nL 112.697273 224.64 \nL 112.697273 224.496569 \nL 109.653636 224.496569 \nz\n\" style=\"fill:#1f77b4;\"/>\n   </g>\n   <g id=\"patch_22\">\n    <path clip-path=\"url(#p3acfc7137b)\" d=\"M 112.697273 224.64 \nL 115.740909 224.64 \nL 115.740909 190.905023 \nL 112.697273 190.905023 \nz\n\" style=\"fill:#1f77b4;\"/>\n   </g>\n   <g id=\"patch_23\">\n    <path clip-path=\"url(#p3acfc7137b)\" d=\"M 115.740909 224.64 \nL 118.784545 224.64 \nL 118.784545 224.324452 \nL 115.740909 224.324452 \nz\n\" style=\"fill:#1f77b4;\"/>\n   </g>\n   <g id=\"patch_24\">\n    <path clip-path=\"url(#p3acfc7137b)\" d=\"M 118.784545 224.64 \nL 121.828182 224.64 \nL 121.828182 223.349121 \nL 118.784545 223.349121 \nz\n\" style=\"fill:#1f77b4;\"/>\n   </g>\n   <g id=\"patch_25\">\n    <path clip-path=\"url(#p3acfc7137b)\" d=\"M 121.828182 224.64 \nL 124.871818 224.64 \nL 124.871818 222.488535 \nL 121.828182 222.488535 \nz\n\" style=\"fill:#1f77b4;\"/>\n   </g>\n   <g id=\"patch_26\">\n    <path clip-path=\"url(#p3acfc7137b)\" d=\"M 124.871818 224.64 \nL 127.915455 224.64 \nL 127.915455 220.308383 \nL 124.871818 220.308383 \nz\n\" style=\"fill:#1f77b4;\"/>\n   </g>\n   <g id=\"patch_27\">\n    <path clip-path=\"url(#p3acfc7137b)\" d=\"M 127.915455 224.64 \nL 130.959091 224.64 \nL 130.959091 184.135078 \nL 127.915455 184.135078 \nz\n\" style=\"fill:#1f77b4;\"/>\n   </g>\n   <g id=\"patch_28\">\n    <path clip-path=\"url(#p3acfc7137b)\" d=\"M 130.959091 224.64 \nL 134.002727 224.64 \nL 134.002727 223.004886 \nL 130.959091 223.004886 \nz\n\" style=\"fill:#1f77b4;\"/>\n   </g>\n   <g id=\"patch_29\">\n    <path clip-path=\"url(#p3acfc7137b)\" d=\"M 134.002727 224.64 \nL 137.046364 224.64 \nL 137.046364 210.010035 \nL 134.002727 210.010035 \nz\n\" style=\"fill:#1f77b4;\"/>\n   </g>\n   <g id=\"patch_30\">\n    <path clip-path=\"url(#p3acfc7137b)\" d=\"M 137.046364 224.64 \nL 140.09 224.64 \nL 140.09 221.283714 \nL 137.046364 221.283714 \nz\n\" style=\"fill:#1f77b4;\"/>\n   </g>\n   <g id=\"patch_31\">\n    <path clip-path=\"url(#p3acfc7137b)\" d=\"M 140.09 224.64 \nL 143.133636 224.64 \nL 143.133636 223.463866 \nL 140.09 223.463866 \nz\n\" style=\"fill:#1f77b4;\"/>\n   </g>\n   <g id=\"patch_32\">\n    <path clip-path=\"url(#p3acfc7137b)\" d=\"M 143.133636 224.64 \nL 146.177273 224.64 \nL 146.177273 196.384088 \nL 143.133636 196.384088 \nz\n\" style=\"fill:#1f77b4;\"/>\n   </g>\n   <g id=\"patch_33\">\n    <path clip-path=\"url(#p3acfc7137b)\" d=\"M 146.177273 224.64 \nL 149.220909 224.64 \nL 149.220909 223.635983 \nL 146.177273 223.635983 \nz\n\" style=\"fill:#1f77b4;\"/>\n   </g>\n   <g id=\"patch_34\">\n    <path clip-path=\"url(#p3acfc7137b)\" d=\"M 149.220909 224.64 \nL 152.264545 224.64 \nL 152.264545 218.8167 \nL 149.220909 218.8167 \nz\n\" style=\"fill:#1f77b4;\"/>\n   </g>\n   <g id=\"patch_35\">\n    <path clip-path=\"url(#p3acfc7137b)\" d=\"M 152.264545 224.64 \nL 155.308182 224.64 \nL 155.308182 222.029555 \nL 152.264545 222.029555 \nz\n\" style=\"fill:#1f77b4;\"/>\n   </g>\n   <g id=\"patch_36\">\n    <path clip-path=\"url(#p3acfc7137b)\" d=\"M 155.308182 224.64 \nL 158.351818 224.64 \nL 158.351818 207.055356 \nL 155.308182 207.055356 \nz\n\" style=\"fill:#1f77b4;\"/>\n   </g>\n   <g id=\"patch_37\">\n    <path clip-path=\"url(#p3acfc7137b)\" d=\"M 158.351818 224.64 \nL 161.395455 224.64 \nL 161.395455 217.267645 \nL 158.351818 217.267645 \nz\n\" style=\"fill:#1f77b4;\"/>\n   </g>\n   <g id=\"patch_38\">\n    <path clip-path=\"url(#p3acfc7137b)\" d=\"M 161.395455 224.64 \nL 164.439091 224.64 \nL 164.439091 220.996852 \nL 161.395455 220.996852 \nz\n\" style=\"fill:#1f77b4;\"/>\n   </g>\n   <g id=\"patch_39\">\n    <path clip-path=\"url(#p3acfc7137b)\" d=\"M 164.439091 224.64 \nL 167.482727 224.64 \nL 167.482727 220.968166 \nL 164.439091 220.968166 \nz\n\" style=\"fill:#1f77b4;\"/>\n   </g>\n   <g id=\"patch_40\">\n    <path clip-path=\"url(#p3acfc7137b)\" d=\"M 167.482727 224.64 \nL 170.526364 224.64 \nL 170.526364 222.804083 \nL 167.482727 222.804083 \nz\n\" style=\"fill:#1f77b4;\"/>\n   </g>\n   <g id=\"patch_41\">\n    <path clip-path=\"url(#p3acfc7137b)\" d=\"M 170.526364 224.64 \nL 173.57 224.64 \nL 173.57 224.094962 \nL 170.526364 224.094962 \nz\n\" style=\"fill:#1f77b4;\"/>\n   </g>\n   <g id=\"patch_42\">\n    <path clip-path=\"url(#p3acfc7137b)\" d=\"M 173.57 224.64 \nL 176.613636 224.64 \nL 176.613636 183.733472 \nL 173.57 183.733472 \nz\n\" style=\"fill:#1f77b4;\"/>\n   </g>\n   <g id=\"patch_43\">\n    <path clip-path=\"url(#p3acfc7137b)\" d=\"M 176.613636 224.64 \nL 179.657273 224.64 \nL 179.657273 224.496569 \nL 176.613636 224.496569 \nz\n\" style=\"fill:#1f77b4;\"/>\n   </g>\n   <g id=\"patch_44\">\n    <path clip-path=\"url(#p3acfc7137b)\" d=\"M 179.657273 224.64 \nL 182.700909 224.64 \nL 182.700909 224.209707 \nL 179.657273 224.209707 \nz\n\" style=\"fill:#1f77b4;\"/>\n   </g>\n   <g id=\"patch_45\">\n    <path clip-path=\"url(#p3acfc7137b)\" d=\"M 182.700909 224.64 \nL 185.744545 224.64 \nL 185.744545 223.004886 \nL 182.700909 223.004886 \nz\n\" style=\"fill:#1f77b4;\"/>\n   </g>\n   <g id=\"patch_46\">\n    <path clip-path=\"url(#p3acfc7137b)\" d=\"M 185.744545 224.64 \nL 188.788182 224.64 \nL 188.788182 222.345104 \nL 185.744545 222.345104 \nz\n\" style=\"fill:#1f77b4;\"/>\n   </g>\n   <g id=\"patch_47\">\n    <path clip-path=\"url(#p3acfc7137b)\" d=\"M 188.788182 224.64 \nL 191.831818 224.64 \nL 191.831818 221.54189 \nL 188.788182 221.54189 \nz\n\" style=\"fill:#1f77b4;\"/>\n   </g>\n   <g id=\"patch_48\">\n    <path clip-path=\"url(#p3acfc7137b)\" d=\"M 191.831818 224.64 \nL 194.875455 224.64 \nL 194.875455 222.918828 \nL 191.831818 222.918828 \nz\n\" style=\"fill:#1f77b4;\"/>\n   </g>\n   <g id=\"patch_49\">\n    <path clip-path=\"url(#p3acfc7137b)\" d=\"M 194.875455 224.64 \nL 197.919091 224.64 \nL 197.919091 214.399025 \nL 194.875455 214.399025 \nz\n\" style=\"fill:#1f77b4;\"/>\n   </g>\n   <g id=\"patch_50\">\n    <path clip-path=\"url(#p3acfc7137b)\" d=\"M 197.919091 224.64 \nL 200.962727 224.64 \nL 200.962727 220.652617 \nL 197.919091 220.652617 \nz\n\" style=\"fill:#1f77b4;\"/>\n   </g>\n   <g id=\"patch_51\">\n    <path clip-path=\"url(#p3acfc7137b)\" d=\"M 200.962727 224.64 \nL 204.006364 224.64 \nL 204.006364 221.972183 \nL 200.962727 221.972183 \nz\n\" style=\"fill:#1f77b4;\"/>\n   </g>\n   <g id=\"patch_52\">\n    <path clip-path=\"url(#p3acfc7137b)\" d=\"M 204.006364 224.64 \nL 207.05 224.64 \nL 207.05 184.938292 \nL 204.006364 184.938292 \nz\n\" style=\"fill:#1f77b4;\"/>\n   </g>\n   <g id=\"patch_53\">\n    <path clip-path=\"url(#p3acfc7137b)\" d=\"M 207.05 224.64 \nL 210.093636 224.64 \nL 210.093636 223.865472 \nL 207.05 223.865472 \nz\n\" style=\"fill:#1f77b4;\"/>\n   </g>\n   <g id=\"patch_54\">\n    <path clip-path=\"url(#p3acfc7137b)\" d=\"M 210.093636 224.64 \nL 213.137273 224.64 \nL 213.137273 221.484517 \nL 210.093636 221.484517 \nz\n\" style=\"fill:#1f77b4;\"/>\n   </g>\n   <g id=\"patch_55\">\n    <path clip-path=\"url(#p3acfc7137b)\" d=\"M 213.137273 224.64 \nL 216.180909 224.64 \nL 216.180909 223.750728 \nL 213.137273 223.750728 \nz\n\" style=\"fill:#1f77b4;\"/>\n   </g>\n   <g id=\"patch_56\">\n    <path clip-path=\"url(#p3acfc7137b)\" d=\"M 216.180909 224.64 \nL 219.224545 224.64 \nL 219.224545 210.95668 \nL 216.180909 210.95668 \nz\n\" style=\"fill:#1f77b4;\"/>\n   </g>\n   <g id=\"patch_57\">\n    <path clip-path=\"url(#p3acfc7137b)\" d=\"M 219.224545 224.64 \nL 222.268182 224.64 \nL 222.268182 216.894725 \nL 219.224545 216.894725 \nz\n\" style=\"fill:#1f77b4;\"/>\n   </g>\n   <g id=\"patch_58\">\n    <path clip-path=\"url(#p3acfc7137b)\" d=\"M 222.268182 224.64 \nL 225.311818 224.64 \nL 225.311818 218.874073 \nL 222.268182 218.874073 \nz\n\" style=\"fill:#1f77b4;\"/>\n   </g>\n   <g id=\"patch_59\">\n    <path clip-path=\"url(#p3acfc7137b)\" d=\"M 225.311818 224.64 \nL 228.355455 224.64 \nL 228.355455 220.968166 \nL 225.311818 220.968166 \nz\n\" style=\"fill:#1f77b4;\"/>\n   </g>\n   <g id=\"patch_60\">\n    <path clip-path=\"url(#p3acfc7137b)\" d=\"M 228.355455 224.64 \nL 231.399091 224.64 \nL 231.399091 221.255028 \nL 228.355455 221.255028 \nz\n\" style=\"fill:#1f77b4;\"/>\n   </g>\n   <g id=\"patch_61\">\n    <path clip-path=\"url(#p3acfc7137b)\" d=\"M 231.399091 224.64 \nL 234.442727 224.64 \nL 234.442727 223.722041 \nL 231.399091 223.722041 \nz\n\" style=\"fill:#1f77b4;\"/>\n   </g>\n   <g id=\"patch_62\">\n    <path clip-path=\"url(#p3acfc7137b)\" d=\"M 234.442727 224.64 \nL 237.486364 224.64 \nL 237.486364 183.131061 \nL 234.442727 183.131061 \nz\n\" style=\"fill:#1f77b4;\"/>\n   </g>\n   <g id=\"patch_63\">\n    <path clip-path=\"url(#p3acfc7137b)\" d=\"M 237.486364 224.64 \nL 240.53 224.64 \nL 240.53 224.525255 \nL 237.486364 224.525255 \nz\n\" style=\"fill:#1f77b4;\"/>\n   </g>\n   <g id=\"patch_64\">\n    <path clip-path=\"url(#p3acfc7137b)\" d=\"M 240.53 224.64 \nL 243.573636 224.64 \nL 243.573636 224.03759 \nL 240.53 224.03759 \nz\n\" style=\"fill:#1f77b4;\"/>\n   </g>\n   <g id=\"patch_65\">\n    <path clip-path=\"url(#p3acfc7137b)\" d=\"M 243.573636 224.64 \nL 246.617273 224.64 \nL 246.617273 222.890141 \nL 243.573636 222.890141 \nz\n\" style=\"fill:#1f77b4;\"/>\n   </g>\n   <g id=\"patch_66\">\n    <path clip-path=\"url(#p3acfc7137b)\" d=\"M 246.617273 224.64 \nL 249.660909 224.64 \nL 249.660909 221.427145 \nL 246.617273 221.427145 \nz\n\" style=\"fill:#1f77b4;\"/>\n   </g>\n   <g id=\"patch_67\">\n    <path clip-path=\"url(#p3acfc7137b)\" d=\"M 249.660909 224.64 \nL 252.704545 224.64 \nL 252.704545 220.021521 \nL 249.660909 220.021521 \nz\n\" style=\"fill:#1f77b4;\"/>\n   </g>\n   <g id=\"patch_68\">\n    <path clip-path=\"url(#p3acfc7137b)\" d=\"M 252.704545 224.64 \nL 255.748182 224.64 \nL 255.748182 221.455831 \nL 252.704545 221.455831 \nz\n\" style=\"fill:#1f77b4;\"/>\n   </g>\n   <g id=\"patch_69\">\n    <path clip-path=\"url(#p3acfc7137b)\" d=\"M 255.748182 224.64 \nL 258.791818 224.64 \nL 258.791818 210.469015 \nL 255.748182 210.469015 \nz\n\" style=\"fill:#1f77b4;\"/>\n   </g>\n   <g id=\"patch_70\">\n    <path clip-path=\"url(#p3acfc7137b)\" d=\"M 258.791818 224.64 \nL 261.835455 224.64 \nL 261.835455 219.705973 \nL 258.791818 219.705973 \nz\n\" style=\"fill:#1f77b4;\"/>\n   </g>\n   <g id=\"patch_71\">\n    <path clip-path=\"url(#p3acfc7137b)\" d=\"M 261.835455 224.64 \nL 264.879091 224.64 \nL 264.879091 222.861455 \nL 261.835455 222.861455 \nz\n\" style=\"fill:#1f77b4;\"/>\n   </g>\n   <g id=\"patch_72\">\n    <path clip-path=\"url(#p3acfc7137b)\" d=\"M 264.879091 224.64 \nL 267.922727 224.64 \nL 267.922727 196.498833 \nL 264.879091 196.498833 \nz\n\" style=\"fill:#1f77b4;\"/>\n   </g>\n   <g id=\"patch_73\">\n    <path clip-path=\"url(#p3acfc7137b)\" d=\"M 267.922727 224.64 \nL 270.966364 224.64 \nL 270.966364 223.722041 \nL 267.922727 223.722041 \nz\n\" style=\"fill:#1f77b4;\"/>\n   </g>\n   <g id=\"patch_74\">\n    <path clip-path=\"url(#p3acfc7137b)\" d=\"M 270.966364 224.64 \nL 274.01 224.64 \nL 274.01 218.701956 \nL 270.966364 218.701956 \nz\n\" style=\"fill:#1f77b4;\"/>\n   </g>\n   <g id=\"patch_75\">\n    <path clip-path=\"url(#p3acfc7137b)\" d=\"M 274.01 224.64 \nL 277.053636 224.64 \nL 277.053636 223.033573 \nL 274.01 223.033573 \nz\n\" style=\"fill:#1f77b4;\"/>\n   </g>\n   <g id=\"patch_76\">\n    <path clip-path=\"url(#p3acfc7137b)\" d=\"M 277.053636 224.64 \nL 280.097273 224.64 \nL 280.097273 212.763911 \nL 277.053636 212.763911 \nz\n\" style=\"fill:#1f77b4;\"/>\n   </g>\n   <g id=\"patch_77\">\n    <path clip-path=\"url(#p3acfc7137b)\" d=\"M 280.097273 224.64 \nL 283.140909 224.64 \nL 283.140909 200.658333 \nL 280.097273 200.658333 \nz\n\" style=\"fill:#1f77b4;\"/>\n   </g>\n   <g id=\"patch_78\">\n    <path clip-path=\"url(#p3acfc7137b)\" d=\"M 283.140909 224.64 \nL 286.184545 224.64 \nL 286.184545 220.279697 \nL 283.140909 220.279697 \nz\n\" style=\"fill:#1f77b4;\"/>\n   </g>\n   <g id=\"patch_79\">\n    <path clip-path=\"url(#p3acfc7137b)\" d=\"M 286.184545 224.64 \nL 289.228182 224.64 \nL 289.228182 221.914811 \nL 286.184545 221.914811 \nz\n\" style=\"fill:#1f77b4;\"/>\n   </g>\n   <g id=\"patch_80\">\n    <path clip-path=\"url(#p3acfc7137b)\" d=\"M 289.228182 224.64 \nL 292.271818 224.64 \nL 292.271818 222.058242 \nL 289.228182 222.058242 \nz\n\" style=\"fill:#1f77b4;\"/>\n   </g>\n   <g id=\"patch_81\">\n    <path clip-path=\"url(#p3acfc7137b)\" d=\"M 292.271818 224.64 \nL 295.315455 224.64 \nL 295.315455 223.8081 \nL 292.271818 223.8081 \nz\n\" style=\"fill:#1f77b4;\"/>\n   </g>\n   <g id=\"patch_82\">\n    <path clip-path=\"url(#p3acfc7137b)\" d=\"M 295.315455 224.64 \nL 298.359091 224.64 \nL 298.359091 177.62331 \nL 295.315455 177.62331 \nz\n\" style=\"fill:#1f77b4;\"/>\n   </g>\n   <g id=\"patch_83\">\n    <path clip-path=\"url(#p3acfc7137b)\" d=\"M 298.359091 224.64 \nL 301.402727 224.64 \nL 301.402727 224.41051 \nL 298.359091 224.41051 \nz\n\" style=\"fill:#1f77b4;\"/>\n   </g>\n   <g id=\"patch_84\">\n    <path clip-path=\"url(#p3acfc7137b)\" d=\"M 301.402727 224.64 \nL 304.446364 224.64 \nL 304.446364 223.119631 \nL 301.402727 223.119631 \nz\n\" style=\"fill:#1f77b4;\"/>\n   </g>\n   <g id=\"patch_85\">\n    <path clip-path=\"url(#p3acfc7137b)\" d=\"M 304.446364 224.64 \nL 307.49 224.64 \nL 307.49 222.459848 \nL 304.446364 222.459848 \nz\n\" style=\"fill:#1f77b4;\"/>\n   </g>\n   <g id=\"patch_86\">\n    <path clip-path=\"url(#p3acfc7137b)\" d=\"M 307.49 224.64 \nL 310.533636 224.64 \nL 310.533636 219.734659 \nL 307.49 219.734659 \nz\n\" style=\"fill:#1f77b4;\"/>\n   </g>\n   <g id=\"patch_87\">\n    <path clip-path=\"url(#p3acfc7137b)\" d=\"M 310.533636 224.64 \nL 313.577273 224.64 \nL 313.577273 220.193638 \nL 310.533636 220.193638 \nz\n\" style=\"fill:#1f77b4;\"/>\n   </g>\n   <g id=\"patch_88\">\n    <path clip-path=\"url(#p3acfc7137b)\" d=\"M 313.577273 224.64 \nL 316.620909 224.64 \nL 316.620909 222.890141 \nL 313.577273 222.890141 \nz\n\" style=\"fill:#1f77b4;\"/>\n   </g>\n   <g id=\"patch_89\">\n    <path clip-path=\"url(#p3acfc7137b)\" d=\"M 316.620909 224.64 \nL 319.664545 224.64 \nL 319.664545 214.485083 \nL 316.620909 214.485083 \nz\n\" style=\"fill:#1f77b4;\"/>\n   </g>\n   <g id=\"patch_90\">\n    <path clip-path=\"url(#p3acfc7137b)\" d=\"M 319.664545 224.64 \nL 322.708182 224.64 \nL 322.708182 221.656635 \nL 319.664545 221.656635 \nz\n\" style=\"fill:#1f77b4;\"/>\n   </g>\n   <g id=\"patch_91\">\n    <path clip-path=\"url(#p3acfc7137b)\" d=\"M 322.708182 224.64 \nL 325.751818 224.64 \nL 325.751818 222.718024 \nL 322.708182 222.718024 \nz\n\" style=\"fill:#1f77b4;\"/>\n   </g>\n   <g id=\"patch_92\">\n    <path clip-path=\"url(#p3acfc7137b)\" d=\"M 325.751818 224.64 \nL 328.795455 224.64 \nL 328.795455 201.633664 \nL 325.751818 201.633664 \nz\n\" style=\"fill:#1f77b4;\"/>\n   </g>\n   <g id=\"patch_93\">\n    <path clip-path=\"url(#p3acfc7137b)\" d=\"M 328.795455 224.64 \nL 331.839091 224.64 \nL 331.839091 224.03759 \nL 328.795455 224.03759 \nz\n\" style=\"fill:#1f77b4;\"/>\n   </g>\n   <g id=\"patch_94\">\n    <path clip-path=\"url(#p3acfc7137b)\" d=\"M 331.839091 224.64 \nL 334.882727 224.64 \nL 334.882727 221.255028 \nL 331.839091 221.255028 \nz\n\" style=\"fill:#1f77b4;\"/>\n   </g>\n   <g id=\"patch_95\">\n    <path clip-path=\"url(#p3acfc7137b)\" d=\"M 334.882727 224.64 \nL 337.926364 224.64 \nL 337.926364 223.492552 \nL 334.882727 223.492552 \nz\n\" style=\"fill:#1f77b4;\"/>\n   </g>\n   <g id=\"patch_96\">\n    <path clip-path=\"url(#p3acfc7137b)\" d=\"M 337.926364 224.64 \nL 340.97 224.64 \nL 340.97 211.989384 \nL 337.926364 211.989384 \nz\n\" style=\"fill:#1f77b4;\"/>\n   </g>\n   <g id=\"patch_97\">\n    <path clip-path=\"url(#p3acfc7137b)\" d=\"M 340.97 224.64 \nL 344.013636 224.64 \nL 344.013636 216.837352 \nL 340.97 216.837352 \nz\n\" style=\"fill:#1f77b4;\"/>\n   </g>\n   <g id=\"patch_98\">\n    <path clip-path=\"url(#p3acfc7137b)\" d=\"M 344.013636 224.64 \nL 347.057273 224.64 \nL 347.057273 220.193638 \nL 344.013636 220.193638 \nz\n\" style=\"fill:#1f77b4;\"/>\n   </g>\n   <g id=\"patch_99\">\n    <path clip-path=\"url(#p3acfc7137b)\" d=\"M 347.057273 224.64 \nL 350.100909 224.64 \nL 350.100909 221.3124 \nL 347.057273 221.3124 \nz\n\" style=\"fill:#1f77b4;\"/>\n   </g>\n   <g id=\"patch_100\">\n    <path clip-path=\"url(#p3acfc7137b)\" d=\"M 350.100909 224.64 \nL 353.144545 224.64 \nL 353.144545 220.738676 \nL 350.100909 220.738676 \nz\n\" style=\"fill:#1f77b4;\"/>\n   </g>\n   <g id=\"patch_101\">\n    <path clip-path=\"url(#p3acfc7137b)\" d=\"M 353.144545 224.64 \nL 356.188182 224.64 \nL 356.188182 222.000869 \nL 353.144545 222.000869 \nz\n\" style=\"fill:#1f77b4;\"/>\n   </g>\n   <g id=\"patch_102\">\n    <path clip-path=\"url(#p3acfc7137b)\" d=\"M 356.188182 224.64 \nL 359.231818 224.64 \nL 359.231818 17.554286 \nL 356.188182 17.554286 \nz\n\" style=\"fill:#1f77b4;\"/>\n   </g>\n   <g id=\"matplotlib.axis_1\">\n    <g id=\"xtick_1\">\n     <g id=\"line2d_1\">\n      <defs>\n       <path d=\"M 0 0 \nL 0 3.5 \n\" id=\"m7d8ec20097\" style=\"stroke:#000000;stroke-width:0.8;\"/>\n      </defs>\n      <g>\n       <use style=\"stroke:#000000;stroke-width:0.8;\" x=\"54.174871\" xlink:href=\"#m7d8ec20097\" y=\"224.64\"/>\n      </g>\n     </g>\n     <g id=\"text_1\">\n      <!-- 0.0 -->\n      <defs>\n       <path d=\"M 31.78125 66.40625 \nQ 24.171875 66.40625 20.328125 58.90625 \nQ 16.5 51.421875 16.5 36.375 \nQ 16.5 21.390625 20.328125 13.890625 \nQ 24.171875 6.390625 31.78125 6.390625 \nQ 39.453125 6.390625 43.28125 13.890625 \nQ 47.125 21.390625 47.125 36.375 \nQ 47.125 51.421875 43.28125 58.90625 \nQ 39.453125 66.40625 31.78125 66.40625 \nz\nM 31.78125 74.21875 \nQ 44.046875 74.21875 50.515625 64.515625 \nQ 56.984375 54.828125 56.984375 36.375 \nQ 56.984375 17.96875 50.515625 8.265625 \nQ 44.046875 -1.421875 31.78125 -1.421875 \nQ 19.53125 -1.421875 13.0625 8.265625 \nQ 6.59375 17.96875 6.59375 36.375 \nQ 6.59375 54.828125 13.0625 64.515625 \nQ 19.53125 74.21875 31.78125 74.21875 \nz\n\" id=\"DejaVuSans-48\"/>\n       <path d=\"M 10.6875 12.40625 \nL 21 12.40625 \nL 21 0 \nL 10.6875 0 \nz\n\" id=\"DejaVuSans-46\"/>\n      </defs>\n      <g transform=\"translate(46.223308 239.238437)scale(0.1 -0.1)\">\n       <use xlink:href=\"#DejaVuSans-48\"/>\n       <use x=\"63.623047\" xlink:href=\"#DejaVuSans-46\"/>\n       <use x=\"95.410156\" xlink:href=\"#DejaVuSans-48\"/>\n      </g>\n     </g>\n    </g>\n    <g id=\"xtick_2\">\n     <g id=\"line2d_2\">\n      <g>\n       <use style=\"stroke:#000000;stroke-width:0.8;\" x=\"115.18626\" xlink:href=\"#m7d8ec20097\" y=\"224.64\"/>\n      </g>\n     </g>\n     <g id=\"text_2\">\n      <!-- 0.2 -->\n      <defs>\n       <path d=\"M 19.1875 8.296875 \nL 53.609375 8.296875 \nL 53.609375 0 \nL 7.328125 0 \nL 7.328125 8.296875 \nQ 12.9375 14.109375 22.625 23.890625 \nQ 32.328125 33.6875 34.8125 36.53125 \nQ 39.546875 41.84375 41.421875 45.53125 \nQ 43.3125 49.21875 43.3125 52.78125 \nQ 43.3125 58.59375 39.234375 62.25 \nQ 35.15625 65.921875 28.609375 65.921875 \nQ 23.96875 65.921875 18.8125 64.3125 \nQ 13.671875 62.703125 7.8125 59.421875 \nL 7.8125 69.390625 \nQ 13.765625 71.78125 18.9375 73 \nQ 24.125 74.21875 28.421875 74.21875 \nQ 39.75 74.21875 46.484375 68.546875 \nQ 53.21875 62.890625 53.21875 53.421875 \nQ 53.21875 48.921875 51.53125 44.890625 \nQ 49.859375 40.875 45.40625 35.40625 \nQ 44.1875 33.984375 37.640625 27.21875 \nQ 31.109375 20.453125 19.1875 8.296875 \nz\n\" id=\"DejaVuSans-50\"/>\n      </defs>\n      <g transform=\"translate(107.234698 239.238437)scale(0.1 -0.1)\">\n       <use xlink:href=\"#DejaVuSans-48\"/>\n       <use x=\"63.623047\" xlink:href=\"#DejaVuSans-46\"/>\n       <use x=\"95.410156\" xlink:href=\"#DejaVuSans-50\"/>\n      </g>\n     </g>\n    </g>\n    <g id=\"xtick_3\">\n     <g id=\"line2d_3\">\n      <g>\n       <use style=\"stroke:#000000;stroke-width:0.8;\" x=\"176.19765\" xlink:href=\"#m7d8ec20097\" y=\"224.64\"/>\n      </g>\n     </g>\n     <g id=\"text_3\">\n      <!-- 0.4 -->\n      <defs>\n       <path d=\"M 37.796875 64.3125 \nL 12.890625 25.390625 \nL 37.796875 25.390625 \nz\nM 35.203125 72.90625 \nL 47.609375 72.90625 \nL 47.609375 25.390625 \nL 58.015625 25.390625 \nL 58.015625 17.1875 \nL 47.609375 17.1875 \nL 47.609375 0 \nL 37.796875 0 \nL 37.796875 17.1875 \nL 4.890625 17.1875 \nL 4.890625 26.703125 \nz\n\" id=\"DejaVuSans-52\"/>\n      </defs>\n      <g transform=\"translate(168.246087 239.238437)scale(0.1 -0.1)\">\n       <use xlink:href=\"#DejaVuSans-48\"/>\n       <use x=\"63.623047\" xlink:href=\"#DejaVuSans-46\"/>\n       <use x=\"95.410156\" xlink:href=\"#DejaVuSans-52\"/>\n      </g>\n     </g>\n    </g>\n    <g id=\"xtick_4\">\n     <g id=\"line2d_4\">\n      <g>\n       <use style=\"stroke:#000000;stroke-width:0.8;\" x=\"237.209039\" xlink:href=\"#m7d8ec20097\" y=\"224.64\"/>\n      </g>\n     </g>\n     <g id=\"text_4\">\n      <!-- 0.6 -->\n      <defs>\n       <path d=\"M 33.015625 40.375 \nQ 26.375 40.375 22.484375 35.828125 \nQ 18.609375 31.296875 18.609375 23.390625 \nQ 18.609375 15.53125 22.484375 10.953125 \nQ 26.375 6.390625 33.015625 6.390625 \nQ 39.65625 6.390625 43.53125 10.953125 \nQ 47.40625 15.53125 47.40625 23.390625 \nQ 47.40625 31.296875 43.53125 35.828125 \nQ 39.65625 40.375 33.015625 40.375 \nz\nM 52.59375 71.296875 \nL 52.59375 62.3125 \nQ 48.875 64.0625 45.09375 64.984375 \nQ 41.3125 65.921875 37.59375 65.921875 \nQ 27.828125 65.921875 22.671875 59.328125 \nQ 17.53125 52.734375 16.796875 39.40625 \nQ 19.671875 43.65625 24.015625 45.921875 \nQ 28.375 48.1875 33.59375 48.1875 \nQ 44.578125 48.1875 50.953125 41.515625 \nQ 57.328125 34.859375 57.328125 23.390625 \nQ 57.328125 12.15625 50.6875 5.359375 \nQ 44.046875 -1.421875 33.015625 -1.421875 \nQ 20.359375 -1.421875 13.671875 8.265625 \nQ 6.984375 17.96875 6.984375 36.375 \nQ 6.984375 53.65625 15.1875 63.9375 \nQ 23.390625 74.21875 37.203125 74.21875 \nQ 40.921875 74.21875 44.703125 73.484375 \nQ 48.484375 72.75 52.59375 71.296875 \nz\n\" id=\"DejaVuSans-54\"/>\n      </defs>\n      <g transform=\"translate(229.257477 239.238437)scale(0.1 -0.1)\">\n       <use xlink:href=\"#DejaVuSans-48\"/>\n       <use x=\"63.623047\" xlink:href=\"#DejaVuSans-46\"/>\n       <use x=\"95.410156\" xlink:href=\"#DejaVuSans-54\"/>\n      </g>\n     </g>\n    </g>\n    <g id=\"xtick_5\">\n     <g id=\"line2d_5\">\n      <g>\n       <use style=\"stroke:#000000;stroke-width:0.8;\" x=\"298.220429\" xlink:href=\"#m7d8ec20097\" y=\"224.64\"/>\n      </g>\n     </g>\n     <g id=\"text_5\">\n      <!-- 0.8 -->\n      <defs>\n       <path d=\"M 31.78125 34.625 \nQ 24.75 34.625 20.71875 30.859375 \nQ 16.703125 27.09375 16.703125 20.515625 \nQ 16.703125 13.921875 20.71875 10.15625 \nQ 24.75 6.390625 31.78125 6.390625 \nQ 38.8125 6.390625 42.859375 10.171875 \nQ 46.921875 13.96875 46.921875 20.515625 \nQ 46.921875 27.09375 42.890625 30.859375 \nQ 38.875 34.625 31.78125 34.625 \nz\nM 21.921875 38.8125 \nQ 15.578125 40.375 12.03125 44.71875 \nQ 8.5 49.078125 8.5 55.328125 \nQ 8.5 64.0625 14.71875 69.140625 \nQ 20.953125 74.21875 31.78125 74.21875 \nQ 42.671875 74.21875 48.875 69.140625 \nQ 55.078125 64.0625 55.078125 55.328125 \nQ 55.078125 49.078125 51.53125 44.71875 \nQ 48 40.375 41.703125 38.8125 \nQ 48.828125 37.15625 52.796875 32.3125 \nQ 56.78125 27.484375 56.78125 20.515625 \nQ 56.78125 9.90625 50.3125 4.234375 \nQ 43.84375 -1.421875 31.78125 -1.421875 \nQ 19.734375 -1.421875 13.25 4.234375 \nQ 6.78125 9.90625 6.78125 20.515625 \nQ 6.78125 27.484375 10.78125 32.3125 \nQ 14.796875 37.15625 21.921875 38.8125 \nz\nM 18.3125 54.390625 \nQ 18.3125 48.734375 21.84375 45.5625 \nQ 25.390625 42.390625 31.78125 42.390625 \nQ 38.140625 42.390625 41.71875 45.5625 \nQ 45.3125 48.734375 45.3125 54.390625 \nQ 45.3125 60.0625 41.71875 63.234375 \nQ 38.140625 66.40625 31.78125 66.40625 \nQ 25.390625 66.40625 21.84375 63.234375 \nQ 18.3125 60.0625 18.3125 54.390625 \nz\n\" id=\"DejaVuSans-56\"/>\n      </defs>\n      <g transform=\"translate(290.268866 239.238437)scale(0.1 -0.1)\">\n       <use xlink:href=\"#DejaVuSans-48\"/>\n       <use x=\"63.623047\" xlink:href=\"#DejaVuSans-46\"/>\n       <use x=\"95.410156\" xlink:href=\"#DejaVuSans-56\"/>\n      </g>\n     </g>\n    </g>\n    <g id=\"xtick_6\">\n     <g id=\"line2d_6\">\n      <g>\n       <use style=\"stroke:#000000;stroke-width:0.8;\" x=\"359.231818\" xlink:href=\"#m7d8ec20097\" y=\"224.64\"/>\n      </g>\n     </g>\n     <g id=\"text_6\">\n      <!-- 1.0 -->\n      <defs>\n       <path d=\"M 12.40625 8.296875 \nL 28.515625 8.296875 \nL 28.515625 63.921875 \nL 10.984375 60.40625 \nL 10.984375 69.390625 \nL 28.421875 72.90625 \nL 38.28125 72.90625 \nL 38.28125 8.296875 \nL 54.390625 8.296875 \nL 54.390625 0 \nL 12.40625 0 \nz\n\" id=\"DejaVuSans-49\"/>\n      </defs>\n      <g transform=\"translate(351.280256 239.238437)scale(0.1 -0.1)\">\n       <use xlink:href=\"#DejaVuSans-49\"/>\n       <use x=\"63.623047\" xlink:href=\"#DejaVuSans-46\"/>\n       <use x=\"95.410156\" xlink:href=\"#DejaVuSans-48\"/>\n      </g>\n     </g>\n    </g>\n   </g>\n   <g id=\"matplotlib.axis_2\">\n    <g id=\"ytick_1\">\n     <g id=\"line2d_7\">\n      <defs>\n       <path d=\"M 0 0 \nL -3.5 0 \n\" id=\"m0a4e9c856b\" style=\"stroke:#000000;stroke-width:0.8;\"/>\n      </defs>\n      <g>\n       <use style=\"stroke:#000000;stroke-width:0.8;\" x=\"39.65\" xlink:href=\"#m0a4e9c856b\" y=\"224.64\"/>\n      </g>\n     </g>\n     <g id=\"text_7\">\n      <!-- 0 -->\n      <g transform=\"translate(26.2875 228.439219)scale(0.1 -0.1)\">\n       <use xlink:href=\"#DejaVuSans-48\"/>\n      </g>\n     </g>\n    </g>\n    <g id=\"ytick_2\">\n     <g id=\"line2d_8\">\n      <g>\n       <use style=\"stroke:#000000;stroke-width:0.8;\" x=\"39.65\" xlink:href=\"#m0a4e9c856b\" y=\"195.953795\"/>\n      </g>\n     </g>\n     <g id=\"text_8\">\n      <!-- 1000 -->\n      <g transform=\"translate(7.2 199.753014)scale(0.1 -0.1)\">\n       <use xlink:href=\"#DejaVuSans-49\"/>\n       <use x=\"63.623047\" xlink:href=\"#DejaVuSans-48\"/>\n       <use x=\"127.246094\" xlink:href=\"#DejaVuSans-48\"/>\n       <use x=\"190.869141\" xlink:href=\"#DejaVuSans-48\"/>\n      </g>\n     </g>\n    </g>\n    <g id=\"ytick_3\">\n     <g id=\"line2d_9\">\n      <g>\n       <use style=\"stroke:#000000;stroke-width:0.8;\" x=\"39.65\" xlink:href=\"#m0a4e9c856b\" y=\"167.26759\"/>\n      </g>\n     </g>\n     <g id=\"text_9\">\n      <!-- 2000 -->\n      <g transform=\"translate(7.2 171.066809)scale(0.1 -0.1)\">\n       <use xlink:href=\"#DejaVuSans-50\"/>\n       <use x=\"63.623047\" xlink:href=\"#DejaVuSans-48\"/>\n       <use x=\"127.246094\" xlink:href=\"#DejaVuSans-48\"/>\n       <use x=\"190.869141\" xlink:href=\"#DejaVuSans-48\"/>\n      </g>\n     </g>\n    </g>\n    <g id=\"ytick_4\">\n     <g id=\"line2d_10\">\n      <g>\n       <use style=\"stroke:#000000;stroke-width:0.8;\" x=\"39.65\" xlink:href=\"#m0a4e9c856b\" y=\"138.581385\"/>\n      </g>\n     </g>\n     <g id=\"text_10\">\n      <!-- 3000 -->\n      <defs>\n       <path d=\"M 40.578125 39.3125 \nQ 47.65625 37.796875 51.625 33 \nQ 55.609375 28.21875 55.609375 21.1875 \nQ 55.609375 10.40625 48.1875 4.484375 \nQ 40.765625 -1.421875 27.09375 -1.421875 \nQ 22.515625 -1.421875 17.65625 -0.515625 \nQ 12.796875 0.390625 7.625 2.203125 \nL 7.625 11.71875 \nQ 11.71875 9.328125 16.59375 8.109375 \nQ 21.484375 6.890625 26.8125 6.890625 \nQ 36.078125 6.890625 40.9375 10.546875 \nQ 45.796875 14.203125 45.796875 21.1875 \nQ 45.796875 27.640625 41.28125 31.265625 \nQ 36.765625 34.90625 28.71875 34.90625 \nL 20.21875 34.90625 \nL 20.21875 43.015625 \nL 29.109375 43.015625 \nQ 36.375 43.015625 40.234375 45.921875 \nQ 44.09375 48.828125 44.09375 54.296875 \nQ 44.09375 59.90625 40.109375 62.90625 \nQ 36.140625 65.921875 28.71875 65.921875 \nQ 24.65625 65.921875 20.015625 65.03125 \nQ 15.375 64.15625 9.8125 62.3125 \nL 9.8125 71.09375 \nQ 15.4375 72.65625 20.34375 73.4375 \nQ 25.25 74.21875 29.59375 74.21875 \nQ 40.828125 74.21875 47.359375 69.109375 \nQ 53.90625 64.015625 53.90625 55.328125 \nQ 53.90625 49.265625 50.4375 45.09375 \nQ 46.96875 40.921875 40.578125 39.3125 \nz\n\" id=\"DejaVuSans-51\"/>\n      </defs>\n      <g transform=\"translate(7.2 142.380604)scale(0.1 -0.1)\">\n       <use xlink:href=\"#DejaVuSans-51\"/>\n       <use x=\"63.623047\" xlink:href=\"#DejaVuSans-48\"/>\n       <use x=\"127.246094\" xlink:href=\"#DejaVuSans-48\"/>\n       <use x=\"190.869141\" xlink:href=\"#DejaVuSans-48\"/>\n      </g>\n     </g>\n    </g>\n    <g id=\"ytick_5\">\n     <g id=\"line2d_11\">\n      <g>\n       <use style=\"stroke:#000000;stroke-width:0.8;\" x=\"39.65\" xlink:href=\"#m0a4e9c856b\" y=\"109.89518\"/>\n      </g>\n     </g>\n     <g id=\"text_11\">\n      <!-- 4000 -->\n      <g transform=\"translate(7.2 113.694399)scale(0.1 -0.1)\">\n       <use xlink:href=\"#DejaVuSans-52\"/>\n       <use x=\"63.623047\" xlink:href=\"#DejaVuSans-48\"/>\n       <use x=\"127.246094\" xlink:href=\"#DejaVuSans-48\"/>\n       <use x=\"190.869141\" xlink:href=\"#DejaVuSans-48\"/>\n      </g>\n     </g>\n    </g>\n    <g id=\"ytick_6\">\n     <g id=\"line2d_12\">\n      <g>\n       <use style=\"stroke:#000000;stroke-width:0.8;\" x=\"39.65\" xlink:href=\"#m0a4e9c856b\" y=\"81.208975\"/>\n      </g>\n     </g>\n     <g id=\"text_12\">\n      <!-- 5000 -->\n      <defs>\n       <path d=\"M 10.796875 72.90625 \nL 49.515625 72.90625 \nL 49.515625 64.59375 \nL 19.828125 64.59375 \nL 19.828125 46.734375 \nQ 21.96875 47.46875 24.109375 47.828125 \nQ 26.265625 48.1875 28.421875 48.1875 \nQ 40.625 48.1875 47.75 41.5 \nQ 54.890625 34.8125 54.890625 23.390625 \nQ 54.890625 11.625 47.5625 5.09375 \nQ 40.234375 -1.421875 26.90625 -1.421875 \nQ 22.3125 -1.421875 17.546875 -0.640625 \nQ 12.796875 0.140625 7.71875 1.703125 \nL 7.71875 11.625 \nQ 12.109375 9.234375 16.796875 8.0625 \nQ 21.484375 6.890625 26.703125 6.890625 \nQ 35.15625 6.890625 40.078125 11.328125 \nQ 45.015625 15.765625 45.015625 23.390625 \nQ 45.015625 31 40.078125 35.4375 \nQ 35.15625 39.890625 26.703125 39.890625 \nQ 22.75 39.890625 18.8125 39.015625 \nQ 14.890625 38.140625 10.796875 36.28125 \nz\n\" id=\"DejaVuSans-53\"/>\n      </defs>\n      <g transform=\"translate(7.2 85.008193)scale(0.1 -0.1)\">\n       <use xlink:href=\"#DejaVuSans-53\"/>\n       <use x=\"63.623047\" xlink:href=\"#DejaVuSans-48\"/>\n       <use x=\"127.246094\" xlink:href=\"#DejaVuSans-48\"/>\n       <use x=\"190.869141\" xlink:href=\"#DejaVuSans-48\"/>\n      </g>\n     </g>\n    </g>\n    <g id=\"ytick_7\">\n     <g id=\"line2d_13\">\n      <g>\n       <use style=\"stroke:#000000;stroke-width:0.8;\" x=\"39.65\" xlink:href=\"#m0a4e9c856b\" y=\"52.52277\"/>\n      </g>\n     </g>\n     <g id=\"text_13\">\n      <!-- 6000 -->\n      <g transform=\"translate(7.2 56.321988)scale(0.1 -0.1)\">\n       <use xlink:href=\"#DejaVuSans-54\"/>\n       <use x=\"63.623047\" xlink:href=\"#DejaVuSans-48\"/>\n       <use x=\"127.246094\" xlink:href=\"#DejaVuSans-48\"/>\n       <use x=\"190.869141\" xlink:href=\"#DejaVuSans-48\"/>\n      </g>\n     </g>\n    </g>\n    <g id=\"ytick_8\">\n     <g id=\"line2d_14\">\n      <g>\n       <use style=\"stroke:#000000;stroke-width:0.8;\" x=\"39.65\" xlink:href=\"#m0a4e9c856b\" y=\"23.836565\"/>\n      </g>\n     </g>\n     <g id=\"text_14\">\n      <!-- 7000 -->\n      <defs>\n       <path d=\"M 8.203125 72.90625 \nL 55.078125 72.90625 \nL 55.078125 68.703125 \nL 28.609375 0 \nL 18.3125 0 \nL 43.21875 64.59375 \nL 8.203125 64.59375 \nz\n\" id=\"DejaVuSans-55\"/>\n      </defs>\n      <g transform=\"translate(7.2 27.635783)scale(0.1 -0.1)\">\n       <use xlink:href=\"#DejaVuSans-55\"/>\n       <use x=\"63.623047\" xlink:href=\"#DejaVuSans-48\"/>\n       <use x=\"127.246094\" xlink:href=\"#DejaVuSans-48\"/>\n       <use x=\"190.869141\" xlink:href=\"#DejaVuSans-48\"/>\n      </g>\n     </g>\n    </g>\n   </g>\n   <g id=\"patch_103\">\n    <path d=\"M 39.65 224.64 \nL 39.65 7.2 \n\" style=\"fill:none;stroke:#000000;stroke-linecap:square;stroke-linejoin:miter;stroke-width:0.8;\"/>\n   </g>\n   <g id=\"patch_104\">\n    <path d=\"M 374.45 224.64 \nL 374.45 7.2 \n\" style=\"fill:none;stroke:#000000;stroke-linecap:square;stroke-linejoin:miter;stroke-width:0.8;\"/>\n   </g>\n   <g id=\"patch_105\">\n    <path d=\"M 39.65 224.64 \nL 374.45 224.64 \n\" style=\"fill:none;stroke:#000000;stroke-linecap:square;stroke-linejoin:miter;stroke-width:0.8;\"/>\n   </g>\n   <g id=\"patch_106\">\n    <path d=\"M 39.65 7.2 \nL 374.45 7.2 \n\" style=\"fill:none;stroke:#000000;stroke-linecap:square;stroke-linejoin:miter;stroke-width:0.8;\"/>\n   </g>\n  </g>\n </g>\n <defs>\n  <clipPath id=\"p3acfc7137b\">\n   <rect height=\"217.44\" width=\"334.8\" x=\"39.65\" y=\"7.2\"/>\n  </clipPath>\n </defs>\n</svg>\n",
      "image/png": "[encoded data removed]"
     },
     "metadata": {
      "needs_background": "light"
     }
    },
    {
     "output_type": "stream",
     "name": "stdout",
     "text": "(109115, 12) 3296835 2793326 3008706\n"
    }
   ],
   "source": [
    "### After damage\n",
    "damaged_tract_data = ba_census_tracts_gdf.merge(tract_building_damage_df, how='left', on='GEO_ID').merge(tract_pipe_damage_df, how='left', on='GEO_ID')\n",
    "damaged_tract_data['damage_ratio'] = (damaged_tract_data['damaged_building'] + damaged_tract_data['damaged_pipe_cnts']*2)/damaged_tract_data['total_building']\n",
    "damaged_tract_data['damage_ratio'] = np.where(damaged_tract_data['damage_ratio']>1, 1, damaged_tract_data['damage_ratio'])\n",
    "# display(damaged_tract_data.head())\n",
    "\n",
    "damaged_commute_data = ba_commute_data[['OFIPS', 'DFIPS', 'FLOW']].copy()\n",
    "damaged_commute_data = damaged_commute_data.merge(\n",
    "    damaged_tract_data[['FIPS', 'damage_ratio']], how='left', left_on='OFIPS', right_on='FIPS').merge(\n",
    "    damaged_tract_data[['FIPS', 'damage_ratio']], how='left', left_on='DFIPS', right_on='FIPS', suffixes=['_O', '_D'])\n",
    "\n",
    "damaged_commute_data['flow_n'] = damaged_commute_data['FLOW']\n",
    "damaged_commute_data['flow_c'] = damaged_commute_data['FLOW'] * (1-damaged_commute_data['damage_ratio_O']) * (1-damaged_commute_data['damage_ratio_D'])\n",
    "damaged_commute_data['flow_c'] = damaged_commute_data['flow_c'].astype(int)\n",
    "damaged_commute_data['flow_hc'] = damaged_commute_data['FLOW'] * (1-0.5*damaged_commute_data['damage_ratio_O']) * (1-0.5*damaged_commute_data['damage_ratio_D'])\n",
    "damaged_commute_data['flow_hc'] = damaged_commute_data['flow_hc'].astype(int)\n",
    "damaged_commute_data['diff'] = damaged_commute_data['flow_n']-damaged_commute_data['flow_c']\n",
    "damaged_commute_data['diff_ratio'] = damaged_commute_data['diff'] / damaged_commute_data['flow_n']\n",
    "display(damaged_commute_data.head())\n",
    "plt.hist(damaged_commute_data.loc[damaged_commute_data['diff_ratio']>-0.0, 'diff_ratio'], bins=100)\n",
    "plt.show()\n",
    "print(damaged_commute_data.shape, np.sum(damaged_commute_data['flow_n']), np.sum(damaged_commute_data['flow_c']), np.sum(damaged_commute_data['flow_hc']))\n",
    "# print((damaged_commute_data['FLOW']-damaged_commute_data['FLOW_remaining']).describe())"
   ]
  },
  {
   "cell_type": "code",
   "execution_count": 11,
   "metadata": {},
   "outputs": [],
   "source": [
    "ba_tracts_centroid_gdf = ba_census_tracts_gdf.copy()\n",
    "ba_tracts_centroid_gdf['c_x'] = ba_census_tracts_gdf['geometry'].centroid.x\n",
    "ba_tracts_centroid_gdf['c_y'] = ba_census_tracts_gdf['geometry'].centroid.y\n",
    "\n",
    "damaged_commute_data_geom = damaged_commute_data[['OFIPS', 'DFIPS', 'flow_n', 'flow_c', 'flow_hc']].copy().merge(\n",
    "    ba_tracts_centroid_gdf[['FIPS', 'c_x', 'c_y']], how='left', left_on='OFIPS', right_on='FIPS').merge(\n",
    "    ba_tracts_centroid_gdf[['FIPS', 'c_x', 'c_y']], how='left', left_on='DFIPS', right_on='FIPS', suffixes=['_O', '_D'])\n",
    "damaged_commute_data_geom['geometry'] = damaged_commute_data_geom.apply(lambda x: 'LINESTRING ({} {}, {} {})'.format(x['c_x_O'], x['c_y_O'], x['c_x_D'], x['c_y_D']), axis=1)\n",
    "damaged_commute_data_geom[['OFIPS', 'DFIPS', 'flow_n', 'flow_c', 'flow_hc', 'geometry']].to_csv('commute_flow_pattern.csv', index=False)\n"
   ]
  },
  {
   "cell_type": "code",
   "execution_count": 12,
   "metadata": {
    "tags": []
   },
   "outputs": [
    {
     "output_type": "display_data",
     "data": {
      "text/plain": "   node_id_igraph       osmid         lon        lat\n0               0    56098817 -122.769449  38.435336\n1               1    65536002 -122.136780  37.407134\n2               2    56098819 -122.769268  38.433763\n3               3  1919942662 -121.972040  38.014768\n4               4    65536007 -121.778356  37.325199",
      "text/html": "<div>\n<style scoped>\n    .dataframe tbody tr th:only-of-type {\n        vertical-align: middle;\n    }\n\n    .dataframe tbody tr th {\n        vertical-align: top;\n    }\n\n    .dataframe thead th {\n        text-align: right;\n    }\n</style>\n<table border=\"1\" class=\"dataframe\">\n  <thead>\n    <tr style=\"text-align: right;\">\n      <th></th>\n      <th>node_id_igraph</th>\n      <th>osmid</th>\n      <th>lon</th>\n      <th>lat</th>\n    </tr>\n  </thead>\n  <tbody>\n    <tr>\n      <th>0</th>\n      <td>0</td>\n      <td>56098817</td>\n      <td>-122.769449</td>\n      <td>38.435336</td>\n    </tr>\n    <tr>\n      <th>1</th>\n      <td>1</td>\n      <td>65536002</td>\n      <td>-122.136780</td>\n      <td>37.407134</td>\n    </tr>\n    <tr>\n      <th>2</th>\n      <td>2</td>\n      <td>56098819</td>\n      <td>-122.769268</td>\n      <td>38.433763</td>\n    </tr>\n    <tr>\n      <th>3</th>\n      <td>3</td>\n      <td>1919942662</td>\n      <td>-121.972040</td>\n      <td>38.014768</td>\n    </tr>\n    <tr>\n      <th>4</th>\n      <td>4</td>\n      <td>65536007</td>\n      <td>-121.778356</td>\n      <td>37.325199</td>\n    </tr>\n  </tbody>\n</table>\n</div>"
     },
     "metadata": {}
    },
    {
     "output_type": "stream",
     "name": "stdout",
     "text": "finish spatial indexing\n209515 (224223, 5)\n"
    }
   ],
   "source": [
    "### Find nodes inside each tract\n",
    "def nodes_in_tract(tract_info):\n",
    "    [tract_id, tract_geom] = tract_info\n",
    "    coarse_match_ids = list(nodes_sindex.intersection(tract_geom.bounds))\n",
    "    coarse_matchs = nodes_gdf.iloc[coarse_match_ids]\n",
    "    precise_matches = coarse_matchs[coarse_matchs.intersects(tract_geom)]\n",
    "    return (tract_id, precise_matches['osmid'].values.tolist())\n",
    "\n",
    "nodes_df = pd.read_csv('../network_inputs/unique_id_nodes.csv')\n",
    "display(nodes_df.head())\n",
    "nodes_gdf = gpd.GeoDataFrame(nodes_df, crs=4326, geometry=[Point(xy) for xy in zip(nodes_df.lon, nodes_df.lat)])\n",
    "nodes_sindex = nodes_gdf.sindex\n",
    "print('finish spatial indexing')\n",
    "pool = Pool(processes=30)\n",
    "tract_info_list = ba_census_tracts_gdf[['FIPS', 'geometry']].values.tolist()\n",
    "res = pool.imap_unordered(nodes_in_tract, tract_info_list)\n",
    "pool.close()\n",
    "pool.join()\n",
    "\n",
    "tract_nodes_dict = {tract_id: nodes_list for (tract_id, nodes_list) in res}\n",
    "print(len([i for v in tract_nodes_dict.values() for i in v]), nodes_gdf.shape)"
   ]
  },
  {
   "cell_type": "code",
   "execution_count": 16,
   "metadata": {
    "tags": []
   },
   "outputs": [
    {
     "output_type": "display_data",
     "data": {
      "text/plain": "        OFIPS       DFIPS  flow_n  flow_c  flow_hc\n0  6055201700  6055201700    2020    2020     2020\n1  6075061500  6075061500    1775    1775     1775",
      "text/html": "<div>\n<style scoped>\n    .dataframe tbody tr th:only-of-type {\n        vertical-align: middle;\n    }\n\n    .dataframe tbody tr th {\n        vertical-align: top;\n    }\n\n    .dataframe thead th {\n        text-align: right;\n    }\n</style>\n<table border=\"1\" class=\"dataframe\">\n  <thead>\n    <tr style=\"text-align: right;\">\n      <th></th>\n      <th>OFIPS</th>\n      <th>DFIPS</th>\n      <th>flow_n</th>\n      <th>flow_c</th>\n      <th>flow_hc</th>\n    </tr>\n  </thead>\n  <tbody>\n    <tr>\n      <th>0</th>\n      <td>6055201700</td>\n      <td>6055201700</td>\n      <td>2020</td>\n      <td>2020</td>\n      <td>2020</td>\n    </tr>\n    <tr>\n      <th>1</th>\n      <td>6075061500</td>\n      <td>6075061500</td>\n      <td>1775</td>\n      <td>1775</td>\n      <td>1775</td>\n    </tr>\n  </tbody>\n</table>\n</div>"
     },
     "metadata": {}
    },
    {
     "output_type": "stream",
     "name": "stdout",
     "text": "total OD pairs before 3296835, after 2793326, half repaired 3008706\nScenario n: 25 out of 109115 tract OD failed to match to nodes\n"
    },
    {
     "output_type": "error",
     "ename": "KeyboardInterrupt",
     "evalue": "",
     "traceback": [
      "\u001b[0;31m---------------------------------------------------------------------------\u001b[0m",
      "\u001b[0;31mKeyboardInterrupt\u001b[0m                         Traceback (most recent call last)",
      "\u001b[0;32m<ipython-input-16-804abe9759ad>\u001b[0m in \u001b[0;36m<module>\u001b[0;34m\u001b[0m\n\u001b[1;32m     18\u001b[0m         \u001b[0;32mtry\u001b[0m\u001b[0;34m:\u001b[0m\u001b[0;34m\u001b[0m\u001b[0;34m\u001b[0m\u001b[0m\n\u001b[1;32m     19\u001b[0m             \u001b[0mnode_o\u001b[0m \u001b[0;34m=\u001b[0m \u001b[0mrandom\u001b[0m\u001b[0;34m.\u001b[0m\u001b[0mchoices\u001b[0m\u001b[0;34m(\u001b[0m\u001b[0mtract_nodes_dict\u001b[0m\u001b[0;34m[\u001b[0m\u001b[0morigin_tract\u001b[0m\u001b[0;34m]\u001b[0m\u001b[0;34m,\u001b[0m \u001b[0mk\u001b[0m\u001b[0;34m=\u001b[0m\u001b[0mtract_od_flow\u001b[0m\u001b[0;34m)\u001b[0m\u001b[0;34m\u001b[0m\u001b[0;34m\u001b[0m\u001b[0m\n\u001b[0;32m---> 20\u001b[0;31m             \u001b[0mnode_d\u001b[0m \u001b[0;34m=\u001b[0m \u001b[0mrandom\u001b[0m\u001b[0;34m.\u001b[0m\u001b[0mchoices\u001b[0m\u001b[0;34m(\u001b[0m\u001b[0mtract_nodes_dict\u001b[0m\u001b[0;34m[\u001b[0m\u001b[0mdestin_tract\u001b[0m\u001b[0;34m]\u001b[0m\u001b[0;34m,\u001b[0m \u001b[0mk\u001b[0m\u001b[0;34m=\u001b[0m\u001b[0mtract_od_flow\u001b[0m\u001b[0;34m)\u001b[0m\u001b[0;34m\u001b[0m\u001b[0;34m\u001b[0m\u001b[0m\n\u001b[0m\u001b[1;32m     21\u001b[0m             \u001b[0mnode_od_list\u001b[0m \u001b[0;34m+=\u001b[0m \u001b[0mlist\u001b[0m\u001b[0;34m(\u001b[0m\u001b[0mzip\u001b[0m\u001b[0;34m(\u001b[0m\u001b[0mnode_o\u001b[0m\u001b[0;34m,\u001b[0m \u001b[0mnode_d\u001b[0m\u001b[0;34m)\u001b[0m\u001b[0;34m)\u001b[0m\u001b[0;34m\u001b[0m\u001b[0;34m\u001b[0m\u001b[0m\n\u001b[1;32m     22\u001b[0m         \u001b[0;32mexcept\u001b[0m \u001b[0mKeyError\u001b[0m\u001b[0;34m:\u001b[0m\u001b[0;34m\u001b[0m\u001b[0;34m\u001b[0m\u001b[0m\n",
      "\u001b[0;32m~/.conda/envs/geo/lib/python3.7/random.py\u001b[0m in \u001b[0;36mchoices\u001b[0;34m(self, population, weights, cum_weights, k)\u001b[0m\n\u001b[1;32m    354\u001b[0m                 \u001b[0m_int\u001b[0m \u001b[0;34m=\u001b[0m \u001b[0mint\u001b[0m\u001b[0;34m\u001b[0m\u001b[0;34m\u001b[0m\u001b[0m\n\u001b[1;32m    355\u001b[0m                 \u001b[0mtotal\u001b[0m \u001b[0;34m=\u001b[0m \u001b[0mlen\u001b[0m\u001b[0;34m(\u001b[0m\u001b[0mpopulation\u001b[0m\u001b[0;34m)\u001b[0m\u001b[0;34m\u001b[0m\u001b[0;34m\u001b[0m\u001b[0m\n\u001b[0;32m--> 356\u001b[0;31m                 \u001b[0;32mreturn\u001b[0m \u001b[0;34m[\u001b[0m\u001b[0mpopulation\u001b[0m\u001b[0;34m[\u001b[0m\u001b[0m_int\u001b[0m\u001b[0;34m(\u001b[0m\u001b[0mrandom\u001b[0m\u001b[0;34m(\u001b[0m\u001b[0;34m)\u001b[0m \u001b[0;34m*\u001b[0m \u001b[0mtotal\u001b[0m\u001b[0;34m)\u001b[0m\u001b[0;34m]\u001b[0m \u001b[0;32mfor\u001b[0m \u001b[0mi\u001b[0m \u001b[0;32min\u001b[0m \u001b[0mrange\u001b[0m\u001b[0;34m(\u001b[0m\u001b[0mk\u001b[0m\u001b[0;34m)\u001b[0m\u001b[0;34m]\u001b[0m\u001b[0;34m\u001b[0m\u001b[0;34m\u001b[0m\u001b[0m\n\u001b[0m\u001b[1;32m    357\u001b[0m             \u001b[0mcum_weights\u001b[0m \u001b[0;34m=\u001b[0m \u001b[0mlist\u001b[0m\u001b[0;34m(\u001b[0m\u001b[0m_itertools\u001b[0m\u001b[0;34m.\u001b[0m\u001b[0maccumulate\u001b[0m\u001b[0;34m(\u001b[0m\u001b[0mweights\u001b[0m\u001b[0;34m)\u001b[0m\u001b[0;34m)\u001b[0m\u001b[0;34m\u001b[0m\u001b[0;34m\u001b[0m\u001b[0m\n\u001b[1;32m    358\u001b[0m         \u001b[0;32melif\u001b[0m \u001b[0mweights\u001b[0m \u001b[0;32mis\u001b[0m \u001b[0;32mnot\u001b[0m \u001b[0;32mNone\u001b[0m\u001b[0;34m:\u001b[0m\u001b[0;34m\u001b[0m\u001b[0;34m\u001b[0m\u001b[0m\n",
      "\u001b[0;32m~/.conda/envs/geo/lib/python3.7/random.py\u001b[0m in \u001b[0;36m<listcomp>\u001b[0;34m(.0)\u001b[0m\n\u001b[1;32m    354\u001b[0m                 \u001b[0m_int\u001b[0m \u001b[0;34m=\u001b[0m \u001b[0mint\u001b[0m\u001b[0;34m\u001b[0m\u001b[0;34m\u001b[0m\u001b[0m\n\u001b[1;32m    355\u001b[0m                 \u001b[0mtotal\u001b[0m \u001b[0;34m=\u001b[0m \u001b[0mlen\u001b[0m\u001b[0;34m(\u001b[0m\u001b[0mpopulation\u001b[0m\u001b[0;34m)\u001b[0m\u001b[0;34m\u001b[0m\u001b[0;34m\u001b[0m\u001b[0m\n\u001b[0;32m--> 356\u001b[0;31m                 \u001b[0;32mreturn\u001b[0m \u001b[0;34m[\u001b[0m\u001b[0mpopulation\u001b[0m\u001b[0;34m[\u001b[0m\u001b[0m_int\u001b[0m\u001b[0;34m(\u001b[0m\u001b[0mrandom\u001b[0m\u001b[0;34m(\u001b[0m\u001b[0;34m)\u001b[0m \u001b[0;34m*\u001b[0m \u001b[0mtotal\u001b[0m\u001b[0;34m)\u001b[0m\u001b[0;34m]\u001b[0m \u001b[0;32mfor\u001b[0m \u001b[0mi\u001b[0m \u001b[0;32min\u001b[0m \u001b[0mrange\u001b[0m\u001b[0;34m(\u001b[0m\u001b[0mk\u001b[0m\u001b[0;34m)\u001b[0m\u001b[0;34m]\u001b[0m\u001b[0;34m\u001b[0m\u001b[0;34m\u001b[0m\u001b[0m\n\u001b[0m\u001b[1;32m    357\u001b[0m             \u001b[0mcum_weights\u001b[0m \u001b[0;34m=\u001b[0m \u001b[0mlist\u001b[0m\u001b[0;34m(\u001b[0m\u001b[0m_itertools\u001b[0m\u001b[0;34m.\u001b[0m\u001b[0maccumulate\u001b[0m\u001b[0;34m(\u001b[0m\u001b[0mweights\u001b[0m\u001b[0;34m)\u001b[0m\u001b[0;34m)\u001b[0m\u001b[0;34m\u001b[0m\u001b[0;34m\u001b[0m\u001b[0m\n\u001b[1;32m    358\u001b[0m         \u001b[0;32melif\u001b[0m \u001b[0mweights\u001b[0m \u001b[0;32mis\u001b[0m \u001b[0;32mnot\u001b[0m \u001b[0;32mNone\u001b[0m\u001b[0;34m:\u001b[0m\u001b[0;34m\u001b[0m\u001b[0;34m\u001b[0m\u001b[0m\n",
      "\u001b[0;31mKeyboardInterrupt\u001b[0m: "
     ]
    }
   ],
   "source": [
    "### tract-to-tract OD to node-to-node OD\n",
    "def chunks(l, div):\n",
    "    # Yield successive n-sized chunks from l.\n",
    "    n = int(np.ceil(len(l)/div))\n",
    "    for i in range(0, len(l), n):\n",
    "        yield l[i:i + n]\n",
    "\n",
    "display(damaged_commute_data[['OFIPS', 'DFIPS', 'flow_n', 'flow_c', 'flow_hc']].head(2))\n",
    "print('total OD pairs before {}, after {}, half repaired {}'.format(np.sum(damaged_commute_data['flow_n']), np.sum(damaged_commute_data['flow_c']), np.sum(damaged_commute_data['flow_hc'])))\n",
    "\n",
    "for scenario in ['n', 'c', 'hc']:\n",
    "    node_od_list = []\n",
    "    unsuccessful_od = []\n",
    "    for tract_od in damaged_commute_data.itertuples():\n",
    "        origin_tract = int(getattr(tract_od, 'OFIPS'))\n",
    "        destin_tract = int(getattr(tract_od, 'DFIPS'))\n",
    "        tract_od_flow = int(getattr(tract_od, 'flow_{}'.format(scenario)))\n",
    "        try:\n",
    "            node_o = random.choices(tract_nodes_dict[origin_tract], k=tract_od_flow)\n",
    "            node_d = random.choices(tract_nodes_dict[destin_tract], k=tract_od_flow)\n",
    "            node_od_list += list(zip(node_o, node_d))\n",
    "        except KeyError:\n",
    "            print(origin_tract, destin_tract, tract_od_flow)\n",
    "            unsuccessful_od.append((origin_tract, destin_tract))\n",
    "        except IndexError:\n",
    "            unsuccessful_od.append((origin_tract, destin_tract))\n",
    "    random.shuffle(node_od_list)\n",
    "    print('Scenario {}: {} out of {} tract OD failed to match to nodes'.format(scenario, len(unsuccessful_od), damaged_commute_data.shape[0]))\n",
    "\n",
    "    div_node_od_super_list = list(chunks(node_od_list, 3))\n",
    "    chunk_num = 0\n",
    "    agent_id_shift = 0\n",
    "    for div_node_od_list in div_node_od_super_list:\n",
    "        div_node_od_df = pd.DataFrame(div_node_od_list, columns=['O', 'D'])\n",
    "        div_node_od_df['agent_id'] = agent_id_shift\n",
    "        div_node_od_df['agent_id'] += range(div_node_od_df.shape[0])\n",
    "        agent_id_shift += div_node_od_df.shape[0]\n",
    "        div_node_od_df[['agent_id', 'O', 'D']].to_csv('od_{}_{}.csv'.format(scenario, chunk_num), index=False)\n",
    "        chunk_num += 1"
   ]
  },
  {
   "cell_type": "code",
   "execution_count": null,
   "metadata": {},
   "outputs": [],
   "source": []
  }
 ],
 "metadata": {
  "kernelspec": {
   "display_name": "Python 3",
   "language": "python",
   "name": "python3"
  },
  "language_info": {
   "codemirror_mode": {
    "name": "ipython",
    "version": 3
   },
   "file_extension": ".py",
   "mimetype": "text/x-python",
   "name": "python",
   "nbconvert_exporter": "python",
   "pygments_lexer": "ipython3",
   "version": "3.7.7-final"
  }
 },
 "nbformat": 4,
 "nbformat_minor": 4
}