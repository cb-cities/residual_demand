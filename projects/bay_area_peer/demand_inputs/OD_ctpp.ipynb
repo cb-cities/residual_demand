{
 "metadata": {
  "language_info": {
   "codemirror_mode": {
    "name": "ipython",
    "version": 3
   },
   "file_extension": ".py",
   "mimetype": "text/x-python",
   "name": "python",
   "nbconvert_exporter": "python",
   "pygments_lexer": "ipython3",
   "version": "3.8.5-final"
  },
  "orig_nbformat": 2,
  "kernelspec": {
   "name": "python38564bitpy38condad2b4b3a608124f239fbe562baf5b9637",
   "display_name": "Python 3.8.5 64-bit ('py38': conda)"
  }
 },
 "nbformat": 4,
 "nbformat_minor": 2,
 "cells": [
  {
   "cell_type": "code",
   "execution_count": 2,
   "metadata": {},
   "outputs": [],
   "source": [
    "import numpy as np \n",
    "import pandas as pd \n",
    "import geopandas as gpd "
   ]
  },
  {
   "cell_type": "code",
   "execution_count": 4,
   "metadata": {},
   "outputs": [
    {
     "output_type": "display_data",
     "data": {
      "text/plain": "         GEOID    TBLID  LINENO  EST    MOE SOURCE\n0  C4200US0601  B302201       1  155  +/-87    NaN\n1  C4200US0601  B302201       2   75  +/-56    NaN\n2  C4200US0601  B302201       3   25  +/-38    NaN\n3  C4200US0601  B302201       5   15  +/-21    NaN\n4  C4200US0601  B302201       6   45  +/-50    NaN",
      "text/html": "<div>\n<style scoped>\n    .dataframe tbody tr th:only-of-type {\n        vertical-align: middle;\n    }\n\n    .dataframe tbody tr th {\n        vertical-align: top;\n    }\n\n    .dataframe thead th {\n        text-align: right;\n    }\n</style>\n<table border=\"1\" class=\"dataframe\">\n  <thead>\n    <tr style=\"text-align: right;\">\n      <th></th>\n      <th>GEOID</th>\n      <th>TBLID</th>\n      <th>LINENO</th>\n      <th>EST</th>\n      <th>MOE</th>\n      <th>SOURCE</th>\n    </tr>\n  </thead>\n  <tbody>\n    <tr>\n      <th>0</th>\n      <td>C4200US0601</td>\n      <td>B302201</td>\n      <td>1</td>\n      <td>155</td>\n      <td>+/-87</td>\n      <td>NaN</td>\n    </tr>\n    <tr>\n      <th>1</th>\n      <td>C4200US0601</td>\n      <td>B302201</td>\n      <td>2</td>\n      <td>75</td>\n      <td>+/-56</td>\n      <td>NaN</td>\n    </tr>\n    <tr>\n      <th>2</th>\n      <td>C4200US0601</td>\n      <td>B302201</td>\n      <td>3</td>\n      <td>25</td>\n      <td>+/-38</td>\n      <td>NaN</td>\n    </tr>\n    <tr>\n      <th>3</th>\n      <td>C4200US0601</td>\n      <td>B302201</td>\n      <td>5</td>\n      <td>15</td>\n      <td>+/-21</td>\n      <td>NaN</td>\n    </tr>\n    <tr>\n      <th>4</th>\n      <td>C4200US0601</td>\n      <td>B302201</td>\n      <td>6</td>\n      <td>45</td>\n      <td>+/-50</td>\n      <td>NaN</td>\n    </tr>\n  </tbody>\n</table>\n</div>"
     },
     "metadata": {}
    }
   ],
   "source": [
    "# B302201: Time leaving home (5) by Means of transportation (7)\n",
    "flow_df = pd.read_csv('traffic_inputs/06_ctpp_ca/CA_2012thru2016_B302201.csv')\n",
    "display(flow_df.head())\n",
    "car_flow_df = flow_df.loc[flow_df['LINENO'].isin([16, 17, 23, 24])]\n",
    "tract_df = car_flow_df[car_flow_df.GEOID.str.contains(r'C5400US06\\d{9}06\\d{9}')].reset_index(drop=True)\n",
    "tract_df.to_csv('ctpp/CA_2012thru2016_B302201_C5400US.csv', index=False)"
   ]
  },
  {
   "cell_type": "code",
   "execution_count": 9,
   "metadata": {},
   "outputs": [
    {
     "output_type": "execute_result",
     "data": {
      "text/plain": [
       "                           GEOID    TBLID  LINENO  EST    MOE  SOURCE  \\\n",
       "0  C5400US0600140010006001400500  B302201      23   20  +/-30     NaN   \n",
       "1  C5400US0600140010006001401000  B302201      16   10  +/-21     NaN   \n",
       "2  C5400US0600140010006001401300  B302201      16   10  +/-14     NaN   \n",
       "3  C5400US0600140010006001401500  B302201      16   10  +/-14     NaN   \n",
       "4  C5400US0600140010006001401700  B302201      16   10  +/-18     NaN   \n",
       "\n",
       "  origin_state origin_county origin_tract destin_state destin_county  \\\n",
       "0           06           001       400100           06           001   \n",
       "1           06           001       400100           06           001   \n",
       "2           06           001       400100           06           001   \n",
       "3           06           001       400100           06           001   \n",
       "4           06           001       400100           06           001   \n",
       "\n",
       "  destin_tract  \n",
       "0       400500  \n",
       "1       401000  \n",
       "2       401300  \n",
       "3       401500  \n",
       "4       401700  "
      ],
      "text/html": "<div>\n<style scoped>\n    .dataframe tbody tr th:only-of-type {\n        vertical-align: middle;\n    }\n\n    .dataframe tbody tr th {\n        vertical-align: top;\n    }\n\n    .dataframe thead th {\n        text-align: right;\n    }\n</style>\n<table border=\"1\" class=\"dataframe\">\n  <thead>\n    <tr style=\"text-align: right;\">\n      <th></th>\n      <th>GEOID</th>\n      <th>TBLID</th>\n      <th>LINENO</th>\n      <th>EST</th>\n      <th>MOE</th>\n      <th>SOURCE</th>\n      <th>origin_state</th>\n      <th>origin_county</th>\n      <th>origin_tract</th>\n      <th>destin_state</th>\n      <th>destin_county</th>\n      <th>destin_tract</th>\n    </tr>\n  </thead>\n  <tbody>\n    <tr>\n      <th>0</th>\n      <td>C5400US0600140010006001400500</td>\n      <td>B302201</td>\n      <td>23</td>\n      <td>20</td>\n      <td>+/-30</td>\n      <td>NaN</td>\n      <td>06</td>\n      <td>001</td>\n      <td>400100</td>\n      <td>06</td>\n      <td>001</td>\n      <td>400500</td>\n    </tr>\n    <tr>\n      <th>1</th>\n      <td>C5400US0600140010006001401000</td>\n      <td>B302201</td>\n      <td>16</td>\n      <td>10</td>\n      <td>+/-21</td>\n      <td>NaN</td>\n      <td>06</td>\n      <td>001</td>\n      <td>400100</td>\n      <td>06</td>\n      <td>001</td>\n      <td>401000</td>\n    </tr>\n    <tr>\n      <th>2</th>\n      <td>C5400US0600140010006001401300</td>\n      <td>B302201</td>\n      <td>16</td>\n      <td>10</td>\n      <td>+/-14</td>\n      <td>NaN</td>\n      <td>06</td>\n      <td>001</td>\n      <td>400100</td>\n      <td>06</td>\n      <td>001</td>\n      <td>401300</td>\n    </tr>\n    <tr>\n      <th>3</th>\n      <td>C5400US0600140010006001401500</td>\n      <td>B302201</td>\n      <td>16</td>\n      <td>10</td>\n      <td>+/-14</td>\n      <td>NaN</td>\n      <td>06</td>\n      <td>001</td>\n      <td>400100</td>\n      <td>06</td>\n      <td>001</td>\n      <td>401500</td>\n    </tr>\n    <tr>\n      <th>4</th>\n      <td>C5400US0600140010006001401700</td>\n      <td>B302201</td>\n      <td>16</td>\n      <td>10</td>\n      <td>+/-18</td>\n      <td>NaN</td>\n      <td>06</td>\n      <td>001</td>\n      <td>400100</td>\n      <td>06</td>\n      <td>001</td>\n      <td>401700</td>\n    </tr>\n  </tbody>\n</table>\n</div>"
     },
     "metadata": {},
     "execution_count": 9
    }
   ],
   "source": [
    "# show state, county and tract code separately\n",
    "tract_df = pd.read_csv('ctpp/CA_2012thru2016_B302201_C5400US.csv')\n",
    "tract_df['origin_state'] = tract_df.GEOID.str[7:9]\n",
    "tract_df['origin_county'] = tract_df.GEOID.str[9:12]\n",
    "tract_df['origin_tract'] = tract_df.GEOID.str[12:18]\n",
    "tract_df['destin_state'] = tract_df.GEOID.str[18:20]\n",
    "tract_df['destin_county'] = tract_df.GEOID.str[20:23]\n",
    "tract_df['destin_tract'] = tract_df.GEOID.str[23:]\n",
    "tract_df.head()"
   ]
  },
  {
   "cell_type": "code",
   "execution_count": 12,
   "metadata": {},
   "outputs": [
    {
     "output_type": "stream",
     "name": "stdout",
     "text": [
      "(618653, 12) (123635, 12)\n"
     ]
    },
    {
     "output_type": "execute_result",
     "data": {
      "text/plain": [
       "                           GEOID    TBLID  LINENO  EST    MOE  SOURCE  \\\n",
       "0  C5400US0600140010006001400500  B302201      23   20  +/-30     NaN   \n",
       "1  C5400US0600140010006001401000  B302201      16   10  +/-21     NaN   \n",
       "2  C5400US0600140010006001401300  B302201      16   10  +/-14     NaN   \n",
       "3  C5400US0600140010006001401500  B302201      16   10  +/-14     NaN   \n",
       "4  C5400US0600140010006001401700  B302201      16   10  +/-18     NaN   \n",
       "\n",
       "  origin_state origin_county origin_tract destin_state destin_county  \\\n",
       "0           06           001       400100           06           001   \n",
       "1           06           001       400100           06           001   \n",
       "2           06           001       400100           06           001   \n",
       "3           06           001       400100           06           001   \n",
       "4           06           001       400100           06           001   \n",
       "\n",
       "  destin_tract  \n",
       "0       400500  \n",
       "1       401000  \n",
       "2       401300  \n",
       "3       401500  \n",
       "4       401700  "
      ],
      "text/html": "<div>\n<style scoped>\n    .dataframe tbody tr th:only-of-type {\n        vertical-align: middle;\n    }\n\n    .dataframe tbody tr th {\n        vertical-align: top;\n    }\n\n    .dataframe thead th {\n        text-align: right;\n    }\n</style>\n<table border=\"1\" class=\"dataframe\">\n  <thead>\n    <tr style=\"text-align: right;\">\n      <th></th>\n      <th>GEOID</th>\n      <th>TBLID</th>\n      <th>LINENO</th>\n      <th>EST</th>\n      <th>MOE</th>\n      <th>SOURCE</th>\n      <th>origin_state</th>\n      <th>origin_county</th>\n      <th>origin_tract</th>\n      <th>destin_state</th>\n      <th>destin_county</th>\n      <th>destin_tract</th>\n    </tr>\n  </thead>\n  <tbody>\n    <tr>\n      <th>0</th>\n      <td>C5400US0600140010006001400500</td>\n      <td>B302201</td>\n      <td>23</td>\n      <td>20</td>\n      <td>+/-30</td>\n      <td>NaN</td>\n      <td>06</td>\n      <td>001</td>\n      <td>400100</td>\n      <td>06</td>\n      <td>001</td>\n      <td>400500</td>\n    </tr>\n    <tr>\n      <th>1</th>\n      <td>C5400US0600140010006001401000</td>\n      <td>B302201</td>\n      <td>16</td>\n      <td>10</td>\n      <td>+/-21</td>\n      <td>NaN</td>\n      <td>06</td>\n      <td>001</td>\n      <td>400100</td>\n      <td>06</td>\n      <td>001</td>\n      <td>401000</td>\n    </tr>\n    <tr>\n      <th>2</th>\n      <td>C5400US0600140010006001401300</td>\n      <td>B302201</td>\n      <td>16</td>\n      <td>10</td>\n      <td>+/-14</td>\n      <td>NaN</td>\n      <td>06</td>\n      <td>001</td>\n      <td>400100</td>\n      <td>06</td>\n      <td>001</td>\n      <td>401300</td>\n    </tr>\n    <tr>\n      <th>3</th>\n      <td>C5400US0600140010006001401500</td>\n      <td>B302201</td>\n      <td>16</td>\n      <td>10</td>\n      <td>+/-14</td>\n      <td>NaN</td>\n      <td>06</td>\n      <td>001</td>\n      <td>400100</td>\n      <td>06</td>\n      <td>001</td>\n      <td>401500</td>\n    </tr>\n    <tr>\n      <th>4</th>\n      <td>C5400US0600140010006001401700</td>\n      <td>B302201</td>\n      <td>16</td>\n      <td>10</td>\n      <td>+/-18</td>\n      <td>NaN</td>\n      <td>06</td>\n      <td>001</td>\n      <td>400100</td>\n      <td>06</td>\n      <td>001</td>\n      <td>401700</td>\n    </tr>\n  </tbody>\n</table>\n</div>"
     },
     "metadata": {},
     "execution_count": 12
    }
   ],
   "source": [
    "### only keep tract to tract flow in the Bay Area\n",
    "bay_area_county_ids = ['001', '013', '041', '055', '075', '081', '085', '095', '097']\n",
    "bay_area_tract_flow_df = tract_df.loc[tract_df['origin_county'].isin(bay_area_county_ids) & tract_df['destin_county'].isin(bay_area_county_ids)]\n",
    "print(tract_df.shape, bay_area_tract_flow_df.shape)\n",
    "bay_area_tract_flow_df.head()"
   ]
  },
  {
   "cell_type": "code",
   "execution_count": 22,
   "metadata": {},
   "outputs": [
    {
     "output_type": "display_data",
     "data": {
      "text/plain": "LINENO origin_state origin_county origin_tract destin_state destin_county  \\\n0                06           001       400100           06           001   \n1                06           001       400100           06           001   \n\nLINENO destin_tract  drive_alone_before_9  carpool_before_9  \\\n0            400500                     0                 0   \n1            401000                    10                 0   \n\nLINENO  drive_alone_after_9  carpool_after_9  vehicles  \n0                        20                0      20.0  \n1                         0                0      10.0  ",
      "text/html": "<div>\n<style scoped>\n    .dataframe tbody tr th:only-of-type {\n        vertical-align: middle;\n    }\n\n    .dataframe tbody tr th {\n        vertical-align: top;\n    }\n\n    .dataframe thead th {\n        text-align: right;\n    }\n</style>\n<table border=\"1\" class=\"dataframe\">\n  <thead>\n    <tr style=\"text-align: right;\">\n      <th>LINENO</th>\n      <th>origin_state</th>\n      <th>origin_county</th>\n      <th>origin_tract</th>\n      <th>destin_state</th>\n      <th>destin_county</th>\n      <th>destin_tract</th>\n      <th>drive_alone_before_9</th>\n      <th>carpool_before_9</th>\n      <th>drive_alone_after_9</th>\n      <th>carpool_after_9</th>\n      <th>vehicles</th>\n    </tr>\n  </thead>\n  <tbody>\n    <tr>\n      <th>0</th>\n      <td>06</td>\n      <td>001</td>\n      <td>400100</td>\n      <td>06</td>\n      <td>001</td>\n      <td>400500</td>\n      <td>0</td>\n      <td>0</td>\n      <td>20</td>\n      <td>0</td>\n      <td>20.0</td>\n    </tr>\n    <tr>\n      <th>1</th>\n      <td>06</td>\n      <td>001</td>\n      <td>400100</td>\n      <td>06</td>\n      <td>001</td>\n      <td>401000</td>\n      <td>10</td>\n      <td>0</td>\n      <td>0</td>\n      <td>0</td>\n      <td>10.0</td>\n    </tr>\n  </tbody>\n</table>\n</div>"
     },
     "metadata": {}
    },
    {
     "output_type": "stream",
     "name": "stdout",
     "text": [
      "LINENO\ndrive_alone_before_9    1291837.0\ncarpool_before_9         209128.0\ndrive_alone_after_9      611888.0\ncarpool_after_9           81991.0\nvehicles                2049284.5\ndtype: float64\n"
     ]
    }
   ],
   "source": [
    "by_time = pd.pivot_table(bay_area_tract_flow_df, values='EST', index=['origin_state', 'origin_county', 'origin_tract', 'destin_state', 'destin_county', 'destin_tract'], columns=['LINENO'], aggfunc=np.sum, fill_value=0)\n",
    "by_time = by_time.reset_index().rename(columns={16: 'drive_alone_before_9', 17: 'carpool_before_9', 23: 'drive_alone_after_9', 24: 'carpool_after_9'})\n",
    "by_time['vehicles'] = by_time['drive_alone_before_9'] + by_time['carpool_before_9']/2 + by_time['drive_alone_after_9'] + by_time['carpool_after_9']/2\n",
    "display(by_time.head(2))\n",
    "print(by_time.iloc[:, 6:].sum())\n",
    "by_time.to_csv('ctpp/ctpp_B302201_bay_area_mode_time.csv')"
   ]
  },
  {
   "cell_type": "code",
   "execution_count": null,
   "metadata": {},
   "outputs": [],
   "source": []
  }
 ]
}