{
 "cells": [
  {
   "cell_type": "code",
   "execution_count": 4,
   "metadata": {},
   "outputs": [],
   "source": [
    "import numpy as np\n",
    "import pandas as pd\n",
    "import geopandas as gpd\n",
    "from shapely.wkt import loads\n",
    "from shapely.geometry import Point"
   ]
  },
  {
   "cell_type": "code",
   "execution_count": 6,
   "metadata": {},
   "outputs": [
    {
     "data": {
      "text/html": [
       "<div>\n",
       "<style scoped>\n",
       "    .dataframe tbody tr th:only-of-type {\n",
       "        vertical-align: middle;\n",
       "    }\n",
       "\n",
       "    .dataframe tbody tr th {\n",
       "        vertical-align: top;\n",
       "    }\n",
       "\n",
       "    .dataframe thead th {\n",
       "        text-align: right;\n",
       "    }\n",
       "</style>\n",
       "<table border=\"1\" class=\"dataframe\">\n",
       "  <thead>\n",
       "    <tr style=\"text-align: right;\">\n",
       "      <th></th>\n",
       "      <th>lat</th>\n",
       "      <th>lon</th>\n",
       "      <th>geometry</th>\n",
       "    </tr>\n",
       "  </thead>\n",
       "  <tbody>\n",
       "    <tr>\n",
       "      <th>0</th>\n",
       "      <td>36.9038</td>\n",
       "      <td>-123.6138</td>\n",
       "      <td>POINT (-123.61380 36.90380)</td>\n",
       "    </tr>\n",
       "    <tr>\n",
       "      <th>1</th>\n",
       "      <td>36.9219</td>\n",
       "      <td>-123.6138</td>\n",
       "      <td>POINT (-123.61380 36.92190)</td>\n",
       "    </tr>\n",
       "    <tr>\n",
       "      <th>2</th>\n",
       "      <td>36.9399</td>\n",
       "      <td>-123.6138</td>\n",
       "      <td>POINT (-123.61380 36.93990)</td>\n",
       "    </tr>\n",
       "    <tr>\n",
       "      <th>3</th>\n",
       "      <td>36.9579</td>\n",
       "      <td>-123.6138</td>\n",
       "      <td>POINT (-123.61380 36.95790)</td>\n",
       "    </tr>\n",
       "    <tr>\n",
       "      <th>4</th>\n",
       "      <td>36.9759</td>\n",
       "      <td>-123.6138</td>\n",
       "      <td>POINT (-123.61380 36.97590)</td>\n",
       "    </tr>\n",
       "  </tbody>\n",
       "</table>\n",
       "</div>"
      ],
      "text/plain": [
       "       lat       lon                     geometry\n",
       "0  36.9038 -123.6138  POINT (-123.61380 36.90380)\n",
       "1  36.9219 -123.6138  POINT (-123.61380 36.92190)\n",
       "2  36.9399 -123.6138  POINT (-123.61380 36.93990)\n",
       "3  36.9579 -123.6138  POINT (-123.61380 36.95790)\n",
       "4  36.9759 -123.6138  POINT (-123.61380 36.97590)"
      ]
     },
     "execution_count": 6,
     "metadata": {},
     "output_type": "execute_result"
    }
   ],
   "source": [
    "# load regularly spaced site list\n",
    "grid_list = pd.read_csv('SiteList-BayArea-2km.txt', sep=' ')\n",
    "grid_list = gpd.GeoDataFrame(grid_list, crs='epsg:4326', geometry=[Point(x, y) for (x, y) in zip(grid_list.lon, grid_list.lat)])\n",
    "grid_list.head()"
   ]
  },
  {
   "cell_type": "code",
   "execution_count": 13,
   "metadata": {},
   "outputs": [
    {
     "data": {
      "image/svg+xml": [
       "<svg xmlns=\"http://www.w3.org/2000/svg\" xmlns:xlink=\"http://www.w3.org/1999/xlink\" width=\"100.0\" height=\"100.0\" viewBox=\"-122.16181918799815 37.56972949886025 0.2092320781562904 0.2690126719151067\" preserveAspectRatio=\"xMinYMin meet\"><g transform=\"matrix(1,0,0,-1,0,75.4084716696356)\"><path fill-rule=\"evenodd\" fill=\"#66cc99\" stroke=\"#555555\" stroke-width=\"0.005380253438302134\" opacity=\"0.6\" d=\"M -122.108680882434,37.7905855813585 L -122.151855755705,37.6710243938406 L -122.023991707943,37.5796929311534 L -121.962550542135,37.7407684198927 L -121.977495690575,37.8287787384822 L -122.108680882434,37.7905855813585 z\" /></g></svg>"
      ],
      "text/plain": [
       "<shapely.geometry.polygon.Polygon at 0x1452e7820>"
      ]
     },
     "execution_count": 13,
     "metadata": {},
     "output_type": "execute_result"
    }
   ],
   "source": [
    "# load site boundary\n",
    "site_boundary = pd.read_csv('site_boundary_test.csv')\n",
    "site_boundary = gpd.GeoDataFrame(site_boundary, crs='epsg:4326', geometry=site_boundary['WKT'].map(loads))\n",
    "site_boundary = site_boundary['geometry'].iloc[0]\n",
    "site_boundary"
   ]
  },
  {
   "cell_type": "code",
   "execution_count": 14,
   "metadata": {},
   "outputs": [
    {
     "name": "stdout",
     "output_type": "stream",
     "text": [
      "keep\n",
      "False    11379\n",
      "True        70\n",
      "dtype: int64\n"
     ]
    },
    {
     "data": {
      "text/html": [
       "<div>\n",
       "<style scoped>\n",
       "    .dataframe tbody tr th:only-of-type {\n",
       "        vertical-align: middle;\n",
       "    }\n",
       "\n",
       "    .dataframe tbody tr th {\n",
       "        vertical-align: top;\n",
       "    }\n",
       "\n",
       "    .dataframe thead th {\n",
       "        text-align: right;\n",
       "    }\n",
       "</style>\n",
       "<table border=\"1\" class=\"dataframe\">\n",
       "  <thead>\n",
       "    <tr style=\"text-align: right;\">\n",
       "      <th></th>\n",
       "      <th>lat</th>\n",
       "      <th>lon</th>\n",
       "      <th>geometry</th>\n",
       "      <th>keep</th>\n",
       "    </tr>\n",
       "  </thead>\n",
       "  <tbody>\n",
       "    <tr>\n",
       "      <th>6997</th>\n",
       "      <td>37.6599</td>\n",
       "      <td>-122.1318</td>\n",
       "      <td>POINT (-122.13180 37.65990)</td>\n",
       "      <td>True</td>\n",
       "    </tr>\n",
       "    <tr>\n",
       "      <th>6998</th>\n",
       "      <td>37.6779</td>\n",
       "      <td>-122.1318</td>\n",
       "      <td>POINT (-122.13180 37.67790)</td>\n",
       "      <td>True</td>\n",
       "    </tr>\n",
       "    <tr>\n",
       "      <th>6999</th>\n",
       "      <td>37.6959</td>\n",
       "      <td>-122.1318</td>\n",
       "      <td>POINT (-122.13180 37.69590)</td>\n",
       "      <td>True</td>\n",
       "    </tr>\n",
       "    <tr>\n",
       "      <th>7000</th>\n",
       "      <td>37.7139</td>\n",
       "      <td>-122.1318</td>\n",
       "      <td>POINT (-122.13180 37.71390)</td>\n",
       "      <td>True</td>\n",
       "    </tr>\n",
       "    <tr>\n",
       "      <th>7103</th>\n",
       "      <td>37.6419</td>\n",
       "      <td>-122.1090</td>\n",
       "      <td>POINT (-122.10900 37.64190)</td>\n",
       "      <td>True</td>\n",
       "    </tr>\n",
       "  </tbody>\n",
       "</table>\n",
       "</div>"
      ],
      "text/plain": [
       "          lat       lon                     geometry  keep\n",
       "6997  37.6599 -122.1318  POINT (-122.13180 37.65990)  True\n",
       "6998  37.6779 -122.1318  POINT (-122.13180 37.67790)  True\n",
       "6999  37.6959 -122.1318  POINT (-122.13180 37.69590)  True\n",
       "7000  37.7139 -122.1318  POINT (-122.13180 37.71390)  True\n",
       "7103  37.6419 -122.1090  POINT (-122.10900 37.64190)  True"
      ]
     },
     "metadata": {},
     "output_type": "display_data"
    }
   ],
   "source": [
    "grid_list['keep'] = grid_list['geometry'].intersects(site_boundary)\n",
    "print(grid_list.groupby('keep').size())\n",
    "new_site_list = grid_list.loc[grid_list['keep']==True]\n",
    "display(new_site_list.head())\n",
    "new_site_list[['lat', 'lon']].to_csv('new_site_list_test.txt', sep=' ', index=False, header=False)"
   ]
  },
  {
   "cell_type": "code",
   "execution_count": null,
   "metadata": {},
   "outputs": [],
   "source": []
  }
 ],
 "metadata": {
  "kernelspec": {
   "display_name": "py38",
   "language": "python",
   "name": "py38"
  },
  "language_info": {
   "codemirror_mode": {
    "name": "ipython",
    "version": 3
   },
   "file_extension": ".py",
   "mimetype": "text/x-python",
   "name": "python",
   "nbconvert_exporter": "python",
   "pygments_lexer": "ipython3",
   "version": "3.8.6"
  }
 },
 "nbformat": 4,
 "nbformat_minor": 4
}
