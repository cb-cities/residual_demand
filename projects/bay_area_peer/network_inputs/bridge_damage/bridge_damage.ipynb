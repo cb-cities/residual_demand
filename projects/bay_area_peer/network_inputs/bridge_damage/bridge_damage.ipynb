{
 "metadata": {
  "language_info": {
   "codemirror_mode": {
    "name": "ipython",
    "version": 3
   },
   "file_extension": ".py",
   "mimetype": "text/x-python",
   "name": "python",
   "nbconvert_exporter": "python",
   "pygments_lexer": "ipython3",
   "version": "3.8.5-final"
  },
  "orig_nbformat": 2,
  "kernelspec": {
   "name": "python38564bitpy38condad2b4b3a608124f239fbe562baf5b9637",
   "display_name": "Python 3.8.5 64-bit ('py38': conda)"
  }
 },
 "nbformat": 4,
 "nbformat_minor": 2,
 "cells": [
  {
   "cell_type": "code",
   "execution_count": 8,
   "metadata": {},
   "outputs": [],
   "source": [
    "import numpy as np \n",
    "import pandas as pd \n",
    "import geopandas as gpd \n",
    "from shapely.wkt import loads \n",
    "from shapely.geometry import Point"
   ]
  },
  {
   "cell_type": "code",
   "execution_count": 2,
   "metadata": {},
   "outputs": [
    {
     "output_type": "execute_result",
     "data": {
      "text/plain": [
       "   uniqueid    osmid   length         type bridge tunnel  lanes  maxspeed  \\\n",
       "0         0  7714200  175.637  residential    NaN    NaN      1      25.0   \n",
       "1         1  7714200   62.870  residential    NaN    NaN      1      25.0   \n",
       "\n",
       "   capacity        fft     weight  start_nid  end_nid  start_sp  end_sp  \\\n",
       "0     950.0  15.715577  18.858693          0        2         1       3   \n",
       "1     950.0   5.625457   6.750548          0   224222         1  224223   \n",
       "\n",
       "                                            geometry  \n",
       "0  LINESTRING (-122.7694487 38.4353358, -122.7692...  \n",
       "1  LINESTRING (-122.7694487 38.4353358, -122.7695...  "
      ],
      "text/html": "<div>\n<style scoped>\n    .dataframe tbody tr th:only-of-type {\n        vertical-align: middle;\n    }\n\n    .dataframe tbody tr th {\n        vertical-align: top;\n    }\n\n    .dataframe thead th {\n        text-align: right;\n    }\n</style>\n<table border=\"1\" class=\"dataframe\">\n  <thead>\n    <tr style=\"text-align: right;\">\n      <th></th>\n      <th>uniqueid</th>\n      <th>osmid</th>\n      <th>length</th>\n      <th>type</th>\n      <th>bridge</th>\n      <th>tunnel</th>\n      <th>lanes</th>\n      <th>maxspeed</th>\n      <th>capacity</th>\n      <th>fft</th>\n      <th>weight</th>\n      <th>start_nid</th>\n      <th>end_nid</th>\n      <th>start_sp</th>\n      <th>end_sp</th>\n      <th>geometry</th>\n    </tr>\n  </thead>\n  <tbody>\n    <tr>\n      <th>0</th>\n      <td>0</td>\n      <td>7714200</td>\n      <td>175.637</td>\n      <td>residential</td>\n      <td>NaN</td>\n      <td>NaN</td>\n      <td>1</td>\n      <td>25.0</td>\n      <td>950.0</td>\n      <td>15.715577</td>\n      <td>18.858693</td>\n      <td>0</td>\n      <td>2</td>\n      <td>1</td>\n      <td>3</td>\n      <td>LINESTRING (-122.7694487 38.4353358, -122.7692...</td>\n    </tr>\n    <tr>\n      <th>1</th>\n      <td>1</td>\n      <td>7714200</td>\n      <td>62.870</td>\n      <td>residential</td>\n      <td>NaN</td>\n      <td>NaN</td>\n      <td>1</td>\n      <td>25.0</td>\n      <td>950.0</td>\n      <td>5.625457</td>\n      <td>6.750548</td>\n      <td>0</td>\n      <td>224222</td>\n      <td>1</td>\n      <td>224223</td>\n      <td>LINESTRING (-122.7694487 38.4353358, -122.7695...</td>\n    </tr>\n  </tbody>\n</table>\n</div>"
     },
     "metadata": {},
     "execution_count": 2
    }
   ],
   "source": [
    "### extract highway links\n",
    "edges = pd.read_csv('../edges_peer.csv')\n",
    "edges.head(2)"
   ]
  },
  {
   "cell_type": "code",
   "execution_count": 43,
   "metadata": {},
   "outputs": [
    {
     "output_type": "execute_result",
     "data": {
      "text/plain": [
       "array(['residential', 'secondary', 'tertiary', 'motorway', 'primary',\n",
       "       'unclassified', 'secondary_link', 'motorway_link', 'living_street',\n",
       "       'primary_link', 'road', 'trunk_link', 'trunk',\n",
       "       \"['unclassified', 'tertiary']\", 'tertiary_link',\n",
       "       \"['residential', 'tertiary']\", \"['unclassified', 'residential']\",\n",
       "       \"['road', 'residential']\", \"['secondary', 'residential']\",\n",
       "       \"['motorway_link', 'secondary']\",\n",
       "       \"['living_street', 'residential']\", \"['residential', 'secondary']\",\n",
       "       \"['secondary', 'tertiary']\", \"['secondary', 'primary']\",\n",
       "       \"['unclassified', 'secondary']\", \"['motorway_link', 'motorway']\",\n",
       "       \"['motorway', 'trunk']\", \"['motorway_link', 'tertiary']\",\n",
       "       \"['tertiary', 'primary']\", \"['trunk', 'primary']\",\n",
       "       \"['unclassified', 'road']\", \"['primary', 'tertiary']\",\n",
       "       \"['motorway_link', 'primary']\", \"['tertiary_link', 'residential']\",\n",
       "       \"['primary', 'secondary', 'tertiary']\",\n",
       "       \"['trunk_link', 'secondary']\",\n",
       "       \"['tertiary', 'secondary', 'primary']\",\n",
       "       \"['secondary_link', 'secondary']\",\n",
       "       \"['unclassified', 'secondary', 'tertiary']\",\n",
       "       \"['primary_link', 'primary']\",\n",
       "       \"['residential', 'unclassified', 'secondary']\",\n",
       "       \"['unclassified', 'secondary', 'residential']\",\n",
       "       \"['primary_link', 'residential']\", \"['trunk_link', 'tertiary']\"],\n",
       "      dtype=object)"
      ]
     },
     "metadata": {},
     "execution_count": 43
    }
   ],
   "source": [
    "edges['type'].unique()"
   ]
  },
  {
   "cell_type": "code",
   "execution_count": 45,
   "metadata": {},
   "outputs": [
    {
     "output_type": "execute_result",
     "data": {
      "text/plain": [
       "   uniqueid                              osmid   length       type bridge  \\\n",
       "0        13  [415868896, 415868937, 415868929]  337.456  secondary    NaN   \n",
       "1        14                          415868933  108.412  secondary    NaN   \n",
       "\n",
       "  tunnel  lanes  maxspeed  capacity        fft     weight  start_nid  end_nid  \\\n",
       "0    NaN      1      25.0     950.0  30.194753  36.233704          4   218360   \n",
       "1    NaN      1      25.0     950.0   9.700446  11.640535          4    36113   \n",
       "\n",
       "   start_sp  end_sp                                           geometry  \\\n",
       "0         5  218361  LINESTRING (608234.783 4131648.521, 608207.534...   \n",
       "1         5   36114  LINESTRING (608234.783 4131648.521, 608240.666...   \n",
       "\n",
       "                         midpoint            c_x           c_y  \n",
       "0  POINT (608066.596 4131631.192)  608066.596448  4.131631e+06  \n",
       "1  POINT (608288.776 4131654.430)  608288.776247  4.131654e+06  "
      ],
      "text/html": "<div>\n<style scoped>\n    .dataframe tbody tr th:only-of-type {\n        vertical-align: middle;\n    }\n\n    .dataframe tbody tr th {\n        vertical-align: top;\n    }\n\n    .dataframe thead th {\n        text-align: right;\n    }\n</style>\n<table border=\"1\" class=\"dataframe\">\n  <thead>\n    <tr style=\"text-align: right;\">\n      <th></th>\n      <th>uniqueid</th>\n      <th>osmid</th>\n      <th>length</th>\n      <th>type</th>\n      <th>bridge</th>\n      <th>tunnel</th>\n      <th>lanes</th>\n      <th>maxspeed</th>\n      <th>capacity</th>\n      <th>fft</th>\n      <th>weight</th>\n      <th>start_nid</th>\n      <th>end_nid</th>\n      <th>start_sp</th>\n      <th>end_sp</th>\n      <th>geometry</th>\n      <th>midpoint</th>\n      <th>c_x</th>\n      <th>c_y</th>\n    </tr>\n  </thead>\n  <tbody>\n    <tr>\n      <th>0</th>\n      <td>13</td>\n      <td>[415868896, 415868937, 415868929]</td>\n      <td>337.456</td>\n      <td>secondary</td>\n      <td>NaN</td>\n      <td>NaN</td>\n      <td>1</td>\n      <td>25.0</td>\n      <td>950.0</td>\n      <td>30.194753</td>\n      <td>36.233704</td>\n      <td>4</td>\n      <td>218360</td>\n      <td>5</td>\n      <td>218361</td>\n      <td>LINESTRING (608234.783 4131648.521, 608207.534...</td>\n      <td>POINT (608066.596 4131631.192)</td>\n      <td>608066.596448</td>\n      <td>4.131631e+06</td>\n    </tr>\n    <tr>\n      <th>1</th>\n      <td>14</td>\n      <td>415868933</td>\n      <td>108.412</td>\n      <td>secondary</td>\n      <td>NaN</td>\n      <td>NaN</td>\n      <td>1</td>\n      <td>25.0</td>\n      <td>950.0</td>\n      <td>9.700446</td>\n      <td>11.640535</td>\n      <td>4</td>\n      <td>36113</td>\n      <td>5</td>\n      <td>36114</td>\n      <td>LINESTRING (608234.783 4131648.521, 608240.666...</td>\n      <td>POINT (608288.776 4131654.430)</td>\n      <td>608288.776247</td>\n      <td>4.131654e+06</td>\n    </tr>\n  </tbody>\n</table>\n</div>"
     },
     "metadata": {},
     "execution_count": 45
    }
   ],
   "source": [
    "# potential_edges = edges.loc[edges['maxspeed']>=40].reset_index(drop=True)\n",
    "potential_edges = edges.loc[~edges['type'].isin(['residential', 'unclassified', 'road', 'living_street', \"['unclassified', 'residential']\"])].reset_index(drop=True)\n",
    "potential_edges.to_csv('../edges_peer_bridge.csv')\n",
    "potential_edges = gpd.GeoDataFrame(potential_edges, crs='epsg:4326', geometry=potential_edges['geometry'].map(loads)).to_crs('epsg:26910')\n",
    "potential_edges['midpoint'] = potential_edges['geometry'].apply(lambda x: x.interpolate(0.5, normalized=True))\n",
    "potential_edges['c_x'] = potential_edges['midpoint'].apply(lambda x: x.x)\n",
    "potential_edges['c_y'] = potential_edges['midpoint'].apply(lambda x: x.y)\n",
    "potential_edges.head(2)"
   ]
  },
  {
   "cell_type": "code",
   "execution_count": 7,
   "metadata": {},
   "outputs": [
    {
     "output_type": "execute_result",
     "data": {
      "text/plain": [
       "   new_id Bridge_Number        Structure_Name  District County  Route  \\\n",
       "0       1       37 0334  EAST DUNNE AVENUE OC         4    SCL    101   \n",
       "1       2      37 0008L       CARNADERO CREEK         4    SCL    101   \n",
       "\n",
       "  Postmile               Location  Latitude  Longitude  ...  damage_90  \\\n",
       "0   R16.01  04-SCL-101-R16.01-MGH   37.1308  -121.6331  ...          0   \n",
       "1      4.2         04-SCL-101-4.2   36.9761  -121.5556  ...          0   \n",
       "\n",
       "   damage_91 damage_92 damage_93  damage_94  damage_95 damage_96  damage_97  \\\n",
       "0          0         0         0          0          0         0          0   \n",
       "1          0         0         0          0          0         0          0   \n",
       "\n",
       "   damage_98  damage_99  \n",
       "0          0          0  \n",
       "1          0          0  \n",
       "\n",
       "[2 rows x 286 columns]"
      ],
      "text/html": "<div>\n<style scoped>\n    .dataframe tbody tr th:only-of-type {\n        vertical-align: middle;\n    }\n\n    .dataframe tbody tr th {\n        vertical-align: top;\n    }\n\n    .dataframe thead th {\n        text-align: right;\n    }\n</style>\n<table border=\"1\" class=\"dataframe\">\n  <thead>\n    <tr style=\"text-align: right;\">\n      <th></th>\n      <th>new_id</th>\n      <th>Bridge_Number</th>\n      <th>Structure_Name</th>\n      <th>District</th>\n      <th>County</th>\n      <th>Route</th>\n      <th>Postmile</th>\n      <th>Location</th>\n      <th>Latitude</th>\n      <th>Longitude</th>\n      <th>...</th>\n      <th>damage_90</th>\n      <th>damage_91</th>\n      <th>damage_92</th>\n      <th>damage_93</th>\n      <th>damage_94</th>\n      <th>damage_95</th>\n      <th>damage_96</th>\n      <th>damage_97</th>\n      <th>damage_98</th>\n      <th>damage_99</th>\n    </tr>\n  </thead>\n  <tbody>\n    <tr>\n      <th>0</th>\n      <td>1</td>\n      <td>37 0334</td>\n      <td>EAST DUNNE AVENUE OC</td>\n      <td>4</td>\n      <td>SCL</td>\n      <td>101</td>\n      <td>R16.01</td>\n      <td>04-SCL-101-R16.01-MGH</td>\n      <td>37.1308</td>\n      <td>-121.6331</td>\n      <td>...</td>\n      <td>0</td>\n      <td>0</td>\n      <td>0</td>\n      <td>0</td>\n      <td>0</td>\n      <td>0</td>\n      <td>0</td>\n      <td>0</td>\n      <td>0</td>\n      <td>0</td>\n    </tr>\n    <tr>\n      <th>1</th>\n      <td>2</td>\n      <td>37 0008L</td>\n      <td>CARNADERO CREEK</td>\n      <td>4</td>\n      <td>SCL</td>\n      <td>101</td>\n      <td>4.2</td>\n      <td>04-SCL-101-4.2</td>\n      <td>36.9761</td>\n      <td>-121.5556</td>\n      <td>...</td>\n      <td>0</td>\n      <td>0</td>\n      <td>0</td>\n      <td>0</td>\n      <td>0</td>\n      <td>0</td>\n      <td>0</td>\n      <td>0</td>\n      <td>0</td>\n      <td>0</td>\n    </tr>\n  </tbody>\n</table>\n<p>2 rows × 286 columns</p>\n</div>"
     },
     "metadata": {},
     "execution_count": 7
    }
   ],
   "source": [
    "### bridge data\n",
    "bridges = pd.read_csv('BayArea_Bridge_DS4.csv')\n",
    "bridges.head(2)"
   ]
  },
  {
   "cell_type": "code",
   "execution_count": 11,
   "metadata": {},
   "outputs": [],
   "source": [
    "bridges = gpd.GeoDataFrame(bridges, crs='epsg:4326', geometry=[Point(xy) for xy in zip(bridges['Longitude'], bridges['Latitude'])])"
   ]
  },
  {
   "cell_type": "code",
   "execution_count": 16,
   "metadata": {},
   "outputs": [
    {
     "output_type": "execute_result",
     "data": {
      "text/plain": [
       "   new_id Bridge_Number        Structure_Name  District County  Route  \\\n",
       "0       1       37 0334  EAST DUNNE AVENUE OC         4    SCL    101   \n",
       "1       2      37 0008L       CARNADERO CREEK         4    SCL    101   \n",
       "\n",
       "  Postmile               Location  Latitude  Longitude  ...  damage_93  \\\n",
       "0   R16.01  04-SCL-101-R16.01-MGH   37.1308  -121.6331  ...          0   \n",
       "1      4.2         04-SCL-101-4.2   36.9761  -121.5556  ...          0   \n",
       "\n",
       "   damage_94 damage_95 damage_96  damage_97  damage_98 damage_99  \\\n",
       "0          0         0         0          0          0         0   \n",
       "1          0         0         0          0          0         0   \n",
       "\n",
       "                         geometry            b_x           b_y  \n",
       "0  POINT (621416.054 4110256.889)  621416.054359  4.110257e+06  \n",
       "1  POINT (628561.178 4093195.790)  628561.177663  4.093196e+06  \n",
       "\n",
       "[2 rows x 289 columns]"
      ],
      "text/html": "<div>\n<style scoped>\n    .dataframe tbody tr th:only-of-type {\n        vertical-align: middle;\n    }\n\n    .dataframe tbody tr th {\n        vertical-align: top;\n    }\n\n    .dataframe thead th {\n        text-align: right;\n    }\n</style>\n<table border=\"1\" class=\"dataframe\">\n  <thead>\n    <tr style=\"text-align: right;\">\n      <th></th>\n      <th>new_id</th>\n      <th>Bridge_Number</th>\n      <th>Structure_Name</th>\n      <th>District</th>\n      <th>County</th>\n      <th>Route</th>\n      <th>Postmile</th>\n      <th>Location</th>\n      <th>Latitude</th>\n      <th>Longitude</th>\n      <th>...</th>\n      <th>damage_93</th>\n      <th>damage_94</th>\n      <th>damage_95</th>\n      <th>damage_96</th>\n      <th>damage_97</th>\n      <th>damage_98</th>\n      <th>damage_99</th>\n      <th>geometry</th>\n      <th>b_x</th>\n      <th>b_y</th>\n    </tr>\n  </thead>\n  <tbody>\n    <tr>\n      <th>0</th>\n      <td>1</td>\n      <td>37 0334</td>\n      <td>EAST DUNNE AVENUE OC</td>\n      <td>4</td>\n      <td>SCL</td>\n      <td>101</td>\n      <td>R16.01</td>\n      <td>04-SCL-101-R16.01-MGH</td>\n      <td>37.1308</td>\n      <td>-121.6331</td>\n      <td>...</td>\n      <td>0</td>\n      <td>0</td>\n      <td>0</td>\n      <td>0</td>\n      <td>0</td>\n      <td>0</td>\n      <td>0</td>\n      <td>POINT (621416.054 4110256.889)</td>\n      <td>621416.054359</td>\n      <td>4.110257e+06</td>\n    </tr>\n    <tr>\n      <th>1</th>\n      <td>2</td>\n      <td>37 0008L</td>\n      <td>CARNADERO CREEK</td>\n      <td>4</td>\n      <td>SCL</td>\n      <td>101</td>\n      <td>4.2</td>\n      <td>04-SCL-101-4.2</td>\n      <td>36.9761</td>\n      <td>-121.5556</td>\n      <td>...</td>\n      <td>0</td>\n      <td>0</td>\n      <td>0</td>\n      <td>0</td>\n      <td>0</td>\n      <td>0</td>\n      <td>0</td>\n      <td>POINT (628561.178 4093195.790)</td>\n      <td>628561.177663</td>\n      <td>4.093196e+06</td>\n    </tr>\n  </tbody>\n</table>\n<p>2 rows × 289 columns</p>\n</div>"
     },
     "metadata": {},
     "execution_count": 16
    }
   ],
   "source": [
    "bridges = bridges.to_crs('epsg:26910')\n",
    "bridges['b_x'] = bridges['geometry'].apply(lambda x: x.x)\n",
    "bridges['b_y'] = bridges['geometry'].apply(lambda x: x.y)\n",
    "bridges.head(2)"
   ]
  },
  {
   "cell_type": "code",
   "execution_count": 55,
   "metadata": {},
   "outputs": [],
   "source": [
    "osmid_name_dict = {\n",
    "    '202024214': 'Park Boulevard',\n",
    "    '202024215': 'Park Boulevard',\n",
    "    '416196599': 'Park Boulevard',\n",
    "    '202024215': 'Park Boulevard',\n",
    "    '516617056': 'Excelsior Avenue',\n",
    "    '516617057': 'Excelsior Avenue',\n",
    "    '37062614': 'Excelsior Avenue',\n",
    "    '30013251': 'Chatham Road',\n",
    "    '416196591': 'Chatham Road',\n",
    "    '516617056': 'Excelsior Avenue',\n",
    "    '516617057': 'Excelsior Avenue',\n",
    "    '37062614': 'Excelsior Avenue',\n",
    "    '202024214' : 'Park Boulevard',\n",
    "    '518502217': 'MacArthur Boulevard'\n",
    "}"
   ]
  },
  {
   "cell_type": "code",
   "execution_count": 58,
   "metadata": {},
   "outputs": [],
   "source": [
    "from difflib import SequenceMatcher\n",
    "\n",
    "def similar(a, b):\n",
    "    return SequenceMatcher(None, a, b).ratio()\n"
   ]
  },
  {
   "cell_type": "code",
   "execution_count": 62,
   "metadata": {},
   "outputs": [
    {
     "output_type": "stream",
     "name": "stdout",
     "text": [
      "567492.6307157357 4184456.389355603 MACARTHUR BLVD NB\nMACARTHUR BLVD\n202024214 Park Boulevard 0.5\n202024215 Park Boulevard 0.5\n416196599 Park Boulevard 0.5\n416196599 Park Boulevard 0.5\n202024215 Park Boulevard 0.5\n516617056 Excelsior Avenue 0.26666666666666666\n516617057 Excelsior Avenue 0.26666666666666666\n37062614 Excelsior Avenue 0.26666666666666666\n30013251 Chatham Road 0.46153846153846156\n416196591 Chatham Road 0.46153846153846156\n30013251 Chatham Road 0.46153846153846156\n516617056 Excelsior Avenue 0.26666666666666666\n516617057 Excelsior Avenue 0.26666666666666666\n37062614 Excelsior Avenue 0.26666666666666666\n202024214 Park Boulevard 0.5\n518502217 MacArthur Boulevard 0.8484848484848485\n"
     ]
    }
   ],
   "source": [
    "for bridge_no in ['33 0326']:\n",
    "    bridge_info = bridges.loc[bridges['Bridge_Number'] == bridge_no].iloc[0]\n",
    "    print(bridge_info['b_x'], bridge_info['b_y'], bridge_info['Facility_Carried'])\n",
    "    bridge_name = bridge_info['Facility_Carried'].replace('blvd', 'boulevard').replace(' NB', '')\n",
    "    print(bridge_name)\n",
    "\n",
    "    # distance to road links\n",
    "    # print(np.column_stack([potential_edges['c_x'] - bridge_info['b_x'], potential_edges['c_y'] - bridge_info['b_y']]))\n",
    "    bridge_road_distance = np.linalg.norm(\n",
    "        np.column_stack([potential_edges['c_x'] - bridge_info['b_x'], potential_edges['c_y'] - bridge_info['b_y']]),\n",
    "        axis=1)\n",
    "    closest_links = potential_edges.loc[bridge_road_distance<200, :]\n",
    "    # display(closest_links)\n",
    "    for link in closest_links.itertuples():\n",
    "        link_osmids = getattr(link, 'osmid').replace('[', '').replace(']', '').split(', ')\n",
    "        for link_osmid in link_osmids:\n",
    "            try:\n",
    "                link_name = osmid_name_dict[link_osmid]\n",
    "                print(link_osmid, link_name, similar(link_name.lower(), bridge_name.lower()))\n",
    "            except KeyError:\n",
    "                pass"
   ]
  },
  {
   "cell_type": "code",
   "execution_count": 63,
   "metadata": {},
   "outputs": [],
   "source": [
    "import json"
   ]
  },
  {
   "cell_type": "code",
   "execution_count": 67,
   "metadata": {},
   "outputs": [],
   "source": [
    "osm = json.load(open('target_tertiary_above.osm'))['elements']"
   ]
  },
  {
   "cell_type": "code",
   "execution_count": 82,
   "metadata": {
    "tags": []
   },
   "outputs": [],
   "source": [
    "osm_dict = dict()\n",
    "for e in osm:\n",
    "    if e['type'] == 'way':\n",
    "        try:\n",
    "            e_name = e['name']\n",
    "        except KeyError:\n",
    "            try:\n",
    "                e_name = e['tags']['name']\n",
    "            except KeyError:\n",
    "                e_name = ''\n",
    "        try:\n",
    "            e_ref = e['tags']['ref']\n",
    "        except KeyError:\n",
    "            e_ref = ''\n",
    "        osm_dict[str(e['id'])] = [e_ref, e_name]"
   ]
  },
  {
   "cell_type": "code",
   "execution_count": 120,
   "metadata": {},
   "outputs": [
    {
     "output_type": "execute_result",
     "data": {
      "text/plain": [
       "['US 101', 'Bayshore Freeway']"
      ]
     },
     "metadata": {},
     "execution_count": 120
    }
   ],
   "source": [
    "osm_dict['479773091']"
   ]
  },
  {
   "cell_type": "code",
   "execution_count": 121,
   "metadata": {},
   "outputs": [],
   "source": [
    "bridge_linkid_df_list = []\n",
    "for bridge_info in bridges.itertuples():\n",
    "    # print('\\n')\n",
    "    bridge_name = getattr(bridge_info, 'Facility_Carried').lower()\n",
    "    bridge_name = bridge_name.replace('nb', '').replace('sb', '').replace('wb', '').replace('eb', '')\n",
    "    bridge_name = bridge_name.replace('blvd', 'boulevard').replace('ave', 'avenue').replace('highway', '')\n",
    "    bridge_name = bridge_name.replace('state route', 'ca').replace('interstate', 'ca').replace('route ', 'i').replace('hwy', '').replace('highway', '')\n",
    "    bridge_name = bridge_name.replace('u.s.', 'us')\n",
    "    \n",
    "    bridge_no = getattr(bridge_info, 'Bridge_Number')\n",
    "    bridge_bx = getattr(bridge_info, 'b_x')\n",
    "    bridge_by = getattr(bridge_info, 'b_y')\n",
    "    # print(bridge_name, bridge_no)\n",
    "\n",
    "    # distance to road links\n",
    "    bridge_road_distance = np.linalg.norm(\n",
    "        np.column_stack([potential_edges['c_x'] - bridge_bx, potential_edges['c_y'] - bridge_by]),\n",
    "        axis=1)\n",
    "    closest_links = potential_edges.loc[bridge_road_distance<200, :]\n",
    "    closest_links['distance_to_bridge'] = bridge_road_distance[bridge_road_distance<200]\n",
    "    candidate_links = []\n",
    "    largest_name_similarity, second_largest_name_similarity = 0.7, 0.7\n",
    "    for link in closest_links.itertuples():\n",
    "        link_osmids = getattr(link, 'osmid').replace('[', '').replace(']', '').split(', ')\n",
    "        # print(link_osmids)\n",
    "        for link_osmid in link_osmids:\n",
    "            try:\n",
    "                link_name_list = osm_dict[link_osmid]\n",
    "                if link_name_list[0] != '':\n",
    "                    link_name = link_name_list[0].lower()\n",
    "                else:\n",
    "                    link_name = link_name_list[1].lower()\n",
    "                name_similarity = similar(link_name, bridge_name)\n",
    "                link_bridge_distance = getattr(link, 'distance_to_bridge')\n",
    "                # print(getattr(link, 'uniqueid'), link_osmid, link_name_list, name_similarity)\n",
    "            except KeyError:\n",
    "                pass\n",
    "            \n",
    "            if name_similarity>=largest_name_similarity:\n",
    "                largest_name_similarity = name_similarity\n",
    "                candidate_links.append([getattr(link, 'uniqueid'), name_similarity, link_bridge_distance, bridge_no, bridge_bx, bridge_by])\n",
    "            elif name_similarity>=second_largest_name_similarity:\n",
    "                second_largest_name_similarity = name_similarity\n",
    "                candidate_links.append([getattr(link, 'uniqueid'), name_similarity, link_bridge_distance, bridge_no, bridge_bx, bridge_by])\n",
    "            else:\n",
    "                pass\n",
    "    if len(candidate_links) == 0:\n",
    "        continue\n",
    "    candidate_links_df = pd.DataFrame(candidate_links, columns=['link_id', 'name_similarity', 'link_bridge_distance', 'bridge_no', 'bridge_bx', 'bridge_by'])\n",
    "    candidate_links_df = candidate_links_df.groupby('link_id').agg({'name_similarity': np.mean, 'link_bridge_distance': np.min, 'bridge_no': 'first', 'bridge_bx': 'first', 'bridge_by': 'first'}).reset_index()\n",
    "    bridge_linkid_df_list.append(candidate_links_df)\n",
    "bridge_linkid_df = pd.concat(bridge_linkid_df_list)\n",
    "bridge_linkid_df = bridge_linkid_df.merge(potential_edges[['uniqueid', 'c_x', 'c_y']], left_on='link_id', right_on='uniqueid')\n",
    "bridge_linkid_df['geometry'] = bridge_linkid_df.apply(lambda x: 'LINESTRING ({} {}, {} {})'.format(x['bridge_bx'], x['bridge_by'], x['c_x'], x['c_y']), axis=1)\n",
    "bridge_linkid_df.to_csv('caltrans_bridge_to_osm_links.csv', index=False)"
   ]
  },
  {
   "cell_type": "code",
   "execution_count": 122,
   "metadata": {},
   "outputs": [
    {
     "output_type": "execute_result",
     "data": {
      "text/plain": [
       "714"
      ]
     },
     "metadata": {},
     "execution_count": 122
    }
   ],
   "source": [
    "len(bridge_linkid_df['bridge_no'].unique())"
   ]
  },
  {
   "cell_type": "code",
   "execution_count": 118,
   "metadata": {},
   "outputs": [
    {
     "output_type": "execute_result",
     "data": {
      "text/plain": [
       "1742"
      ]
     },
     "metadata": {},
     "execution_count": 118
    }
   ],
   "source": [
    "len(bridges['Bridge_Number'].unique())"
   ]
  },
  {
   "cell_type": "code",
   "execution_count": 123,
   "metadata": {},
   "outputs": [
    {
     "output_type": "execute_result",
     "data": {
      "text/plain": [
       "array(['SB US HIGHWAY 101', 'NB U.S. HWY 101', 'U.S. HIGHWAY 101',\n",
       "       'GREAT AMERICA-W237', 'STATE ROUTE 17', 'U.S. HWY 101 (NB)',\n",
       "       'ON-RAMP EB RTE 152', 'WESTFIELD-DOWNING', 'STATE ROUTE 152',\n",
       "       'SB STATE ROUTE 87', 'U.S. HWY 101 (SB)', 'STATE ROUTE 130',\n",
       "       'EB STATE ROUTE 152', 'ROUTE 152(10TH ST)', 'S87- N&S 280 CONN',\n",
       "       'NB US HIGHWAY 101', 'SUNSET POC', 'STATE ROUTE 82',\n",
       "       'TRIMBLE ROAD POC', 'OREGON EXPRESSWAY', 'SB STATE ROUTE 82',\n",
       "       'NB STATE ROUTE 85', 'STATE ROUTE 85 NB', 'SB STATE ROUTE 85',\n",
       "       'N101-N85 CONNECTOR', 'WB STATE ROUTE 152', 'N. SHORELINE BLVD',\n",
       "       'BLUE HILLS POC', 'DENT AVENUE POC', 'SAMARITAN PLC POC',\n",
       "       'UNION AVENUE', 'BASCOM AVE ON RAMP', 'N17 ON RAMP',\n",
       "       'S87-S85 CONNECTOR', '87,280,680 ON-RAMP', 'S17-S85 CONNECTOR',\n",
       "       'SB 85 OFF-RAMP', 'N17-N85 CONNECTOR', 'COX AVE UTILITY OC',\n",
       "       'N85-N87 CONNECTOR', 'S87 - SANTA TERESA', 'S17-S85 CONN UC',\n",
       "       'UP RR', 'NB STATE ROUTE 82', 'N17-N85 & S85-N17',\n",
       "       'S85-N17 CONNECTOR', 'S85-S17 CONNECTOR', 'NB RTE 85 ON-RAMP',\n",
       "       'STATE ROUTE 1', 'NB87 - MAGNOLIA AV', 'MOFFETT BOULEVARD',\n",
       "       'NB STATE ROUTE 87', 'CAPITOL EXPRESSWAY', 'SCULLY AVE UTILITY',\n",
       "       'S17-N85 CONNECTOR', 'ALMADEN EXPRESSWAY', 'LOS GATOS SCHL POC',\n",
       "       'STATE ROUTE 85', 'NB 101 OFF-RAMP', 'I280-N87 & N87-OFF',\n",
       "       'RAMP/CONNECTOR 85', 'SARATOGA SUNNYVALE', 'STATE ROUTE 84',\n",
       "       'STATE ROUTE 99', 'MERIDIAN ROAD (NB)', 'INTERSTATE 280',\n",
       "       'NB I-280  OFF-RAMP', 'INTERSTATE 280 SB', 'MERIDIAN ROAD (SB)',\n",
       "       'S101 - OREGON EXWY', 'INTERSTATE 280 NB', 'SB I-280 OFF RAMP',\n",
       "       'S17-S280 CONNECTOR', 'N17-N280 CONNECTOR', 'N17-S280 CONNECTOR',\n",
       "       'STEVENS CR BL-S280', 'INTERSTATE 680', 'N87-N280 CONNECTOR',\n",
       "       'BIRD AVE-S280 RAMP', 'N&S I280 - N&S 87', 'NB I280 & RAMPS',\n",
       "       'SB INTERSTATE 280', 'MIDDLE AVENUE', 'NB ROUTE 87 & RAMP',\n",
       "       'TANTAU AVENUE', 'N87-SANTA CLARA ST', 'NB INTERSTATE 280',\n",
       "       '10TH ST-NB280 RAMP', 'STATE ROUTE 87', 'S85-S280 CONNECTOR',\n",
       "       'N85-N280 CONNECTOR', 'S280-FOOTHILL OFF', 'THE DALLAS POC',\n",
       "       'FOOTHILL-S280 ONRP', 'SB280-NB101 CONN', 'OFF-RAMP/I280-N87',\n",
       "       'INTERSTATE 280-680', 'S680-S101 CONNECTR', 'MORA DRIVE',\n",
       "       'N680-KING OFFRAMP', 'INTERSTATE 680 SB', 'N280-S17 CONNECTOR',\n",
       "       'INTERSTATE 680 NB', 'N680-E&W130', 'S280-S87 CONNECTOR',\n",
       "       'N85-N101 CONNECTOR', 'CYPRESS AVENUE POC', 'SANTA CRUZ AVE',\n",
       "       'HOLLY STREET', 'MADDEN AVE POC', 'I-680 ON/OFF-RAMP',\n",
       "       'W130-S680 CONNECTR', 'LAWRENCE EXPWY', 'US HIGHWAY 101',\n",
       "       'RAMP/CONNECTOR 17', 'N87-N101 CONNECTOR', 'SB 85-WB 237 RAMP',\n",
       "       'W237-S85 CONNECTOR', 'SB I280 ON-RAMP', 'NB I280 ON-RAMP',\n",
       "       'DE LA CRUZ BLVD', 'S280-S17 CONNECTOR', 'STATE ROUTE 9',\n",
       "       'NB LAWRENCE EXPWY', 'STATE ROUTE 280 SB', 'STATE ROUTE 280 NB',\n",
       "       'RAMP/CONNECTOR 280', 'YOSEMITE DRIVE', 'N101-OLD MIDFLD OF',\n",
       "       'INTERSTATE 880', 'EMBARCADERO-SB101', 'STATE ROUTE 237 WB',\n",
       "       'GREAT AMERICA PKWY', 'MONTAGUE EXPWY', 'SB STATE ROUTE 280',\n",
       "       'EB STATE ROUTE 237', 'AMERICA PKWY-EB237', 'SAN TOMAS EXPWY',\n",
       "       'SB LAWRENCE EXPWY', 'WB RTE 152 OFF-RMP', 'S101-E25 CONNECTOR',\n",
       "       'WB STATE ROUTE 237', 'EMBARCADERO ROAD', 'STATE ROUTE 25',\n",
       "       'CHURCH AVENUE', 'STATE ROUTE 92', 'I 680 SB', 'I 680 NB',\n",
       "       'WB RTE 92 & RAMPS', 'W262-S880 CONNECTR', 'INTERSTATE RTE 980',\n",
       "       'I 880', 'S101-S84 CONNECTOR', 'MAPLE STREET', 'SFO-W380 CONN RMP',\n",
       "       'S280-E92 CONNECTOR', 'W92-S280 CONNECTOR', 'N280-W92 CONNECTOR',\n",
       "       'SB STATE RTE 280', 'S1-S35 CONNECTOR', 'KAY OC',\n",
       "       'N280-N35 CONN SEP', 'INTERSTATE 580', 'RALSTON AVENUE',\n",
       "       'STATE ROUTE 280', 'STATE ROUTE 84 WB', 'STATE ROUTE 84 EB',\n",
       "       'EB RTE 92 & RAMPS', 'CRYSTAL SP BIKE OC', 'STATE ROUTE 238',\n",
       "       'D ST&S280-S1 ONRMP', 'ARDLEY AVE', 'BRUNS DRIVE POC',\n",
       "       'OFFRAMP/CONN N680', 'US 101', 'RAILROAD', 'INTERSTATE 80',\n",
       "       'UP RR SPUR', 'EAST HILLSDALE BLV', 'INTERSTATE 80 WB',\n",
       "       'STATE ROUTE 880', 'OAK KNOLL BLVD', 'NB STATE RTE 280',\n",
       "       'U.S. HIGHWAY 84', 'WHIPPLE RD-N880 ON', 'LINCOLN AVE',\n",
       "       'S101-SFO AIRPT OFF', 'NB STATE ROUTE 280', 'S280-CRYSTAL SP OR',\n",
       "       'INDUSTRL  PKY-N880', 'VASCO ROAD', 'N280-E380 CONNECTR',\n",
       "       'SAN BRUNO-N280 ONR', 'W380-S280 CONNECTR', 'S280-SAN BRUNO OFF',\n",
       "       'WB RTE380 (FUTURE)', 'EB RTE380 (FUTURE)', 'INTERSTATE RTE 380',\n",
       "       'SR 92', 'E380-S101 CONNECTR', 'ROUTE 380/101 SEP',\n",
       "       'RTE 380/101 SEP', 'S101/W380 CONNECTR', 'WB STATE ROUTE 380',\n",
       "       'EB STATE ROUTE 380', 'N101-W380 CONNECTR', 'S101-E380 CONNECTR',\n",
       "       'SFO AIRPRT-S101 ON', 'W380-N101 CONNECTR', 'E380-N101 CONNECTR',\n",
       "       'NB 101 ON-RAMP', 'MILAGRA DRIVE POC', 'MARINERS ISLAND BL',\n",
       "       'PLSNTN-SNL RD-S680', 'THIRD AVENUE', 'BROADWAY',\n",
       "       'RAMP/CONNECTOR 680', 'OYSTER POINT-S101', 'BART',\n",
       "       'RALSTON POLHMUS RD', 'STATE RTE 35 RAMP', 'N1-S280 CONNECTOR',\n",
       "       'SAN JOSE AVE POC', 'N280-S1 CONNECTOR', 'N101-SIERRA PT OFF',\n",
       "       'N101-BAYSHORE OFF', 'SCHOOL STREET', 'N880-HESPERIAN BL',\n",
       "       'N880-E238 CONNECTR', 'RAMP/CONNECTOR 880', 'W580-N238 CONNECTR',\n",
       "       'N880-WASHINGTON AV', 'ONRAMP/CONN N680', 'DAVID S KARP',\n",
       "       'INTERSTATE RTE 238', 'N238-W580 CONNECTO', 'W80-S13 CONNECTOR',\n",
       "       'INTERSTATE 580 WB', '52ND ST-W24 ON-RMP', 'INTERSTATE 580 EB',\n",
       "       'INTERSTATE 580 NB', 'INDUSTRL PK OC', 'RAMP/CONNECTOR 580',\n",
       "       'INTERSTATE 580 SB', 'MORAGA AVENUE', 'S680-E580,W580-S68',\n",
       "       'N680-W580E580-N680', 'CLAWITER ROAD', 'S880-W84 CONNECTOR',\n",
       "       'NONE', 'N238-W580 CONNECTR', 'STATE ROUTE 24', 'SR 24',\n",
       "       'STATE ROUTE 61', 'FONTAINE ST', 'N13-E24 CONNECTOR',\n",
       "       'HACIENDA DR', 'ROUTE 1', 'S280-JUNIPERO SERR',\n",
       "       'ST CHARLES AVENUE', '34TH ST OC', 'INTERSTATE 205',\n",
       "       'RTE I 280 N ONRAMP', 'SAN JOSE, MUNIRAIL', 'ROUTE 112',\n",
       "       '20TH STREET', 'ST RTE 101 (5TH ST', 'HARKNESS AVE POC',\n",
       "       'ROUTE 101', 'ROUTE 580', 'ROUTE I 280', 'NORTH FLYNN ROAD',\n",
       "       'STATE ROUTE 13', 'SR 123 (SAN PABLO)', 'BADEN STREET',\n",
       "       'OCEAN AV, MUNIRAIL', 'I280S OFF-MONTEREY', 'I 280',\n",
       "       'RTE I 280N OFFRAMP', 'NB & SB ROUTE 280', 'MONTEREY-I 280N ON',\n",
       "       'PAULDING/JUDSON ST', 'MONTEREY BL WB ON', 'SANJOSE-I280 RAMPS',\n",
       "       'SB ROUTE 101 ONRMP', 'S101-S280 CONNECTO', 'ALEMANY BLVD SB',\n",
       "       'MONTEREY BLV EB ON', 'JUSTIN DRIVE', 'ROUTE 580 WB',\n",
       "       'ONRAMP TO WB I 580', 'SR 4 WB', '18TH STREET POC',\n",
       "       'N101 CEASER OFFRMP', '23RD STREET', 'CESAR CHVZ OFFRAMP',\n",
       "       'W80-FREMONT OFFRMP', 'E580-S238 CONNECTR', 'RAMP/CONNECTOR 1',\n",
       "       '18TH STREET', 'S880-N77 CONNECTOR', '25TH ST POC',\n",
       "       'NB AND SB RTE 280', 'FAITH ST POC', 'HIGH ST-N880 ON RP',\n",
       "       'CLOROX', 'THERESA ST POC', 'E84-KILKARE ROAD', 'SAN LEANDRO BLVD',\n",
       "       'PORTOLA AVE', 'TRNSBY TRNST TRMNL', 'S13-E580 CONNECTOR',\n",
       "       'SR 13 NB', 'PASEO PADRE PKWY', '38TH AVE', 'W80-FREMONT ST OFF',\n",
       "       'BUS TERMINAL RAMP', 'TERMINAL BUILDING', '35TH AVE',\n",
       "       'INTERSTATE 80 EB', 'STATE ROUTE 260 SB', 'STATE ROUTE 260 NB',\n",
       "       'BOSTON AVE', 'SHEFFIELD AVE', 'S238-E580 CONNECTR',\n",
       "       'BRUCE ST-S580 ON R', 'N580-BRUCE ST OFF', 'N880-E980 CONNECTR',\n",
       "       'S980-JACKSON ST OF', '13TH AVENUE', 'I 580 WB ON & OFF',\n",
       "       'S980-S880 CONNECTO', 'MISSION STREET', 'BRUSH ST-W980 ON R',\n",
       "       '12TH ST-E980 ON-RP', 'CASTRO VALLEY BLVD', 'INTERSTATE 980',\n",
       "       'ROUTE 980', 'RAMP/CONNECTOR 980', 'CENTER STREET',\n",
       "       'S580-OAKLAND AV OF', '27TH ST-E980 ON RP', 'W580-E&W80 CONNCTR',\n",
       "       'W580 ON-RAMP', 'HARRISON&OAKLAND-N', 'CHETWOOD ST',\n",
       "       'DIABLO RD-S680 ON', 'S580-WEBSTER&BROAD', 'E580-WEBSTER&BROAD',\n",
       "       'LA SALLE AVE', 'N CONN 580/E024', 'WEST ST-S580 ON RA',\n",
       "       'N580-WEST ST OFF-R', 'S CONN 580/W980', 'E980-580 CONNECTOR',\n",
       "       'W24-E&W580 CONNCTR', 'WB INTERSTATE 580', 'ELDRIDGE AVE POC',\n",
       "       'SUNNYSLOPE AVENUE', 'LEONA HGTS PK POC', 'ROUTE 24', 'PALM AVE',\n",
       "       'OFF-RAMP RTE 24-E', '52ND-W24 ON RAMP', 'STATE ROUTE 24 WB',\n",
       "       'E24-52ND ST OFF-RP', 'RAMP/CONNECTOR 24', 'AUTO MALL PARKWAY',\n",
       "       'ROUTE 35', 'S13-BROADWAY TERR', 'N13-W80 CONNECTOR',\n",
       "       'W24-PATTON ST OFF', 'E&W80-E580 CONNCTR', 'W980-27TH ST OFFRP',\n",
       "       'RTE 242', 'W PORTAL BLDG BRID', 'SR 160 SB', 'E80-WILLOW OFF&ON',\n",
       "       'SR 4', 'UP RR & BNSF RY', 'W4-W80 CONNECTOR', 'STATE ROUTE 24 EB',\n",
       "       'PARK BLVD', 'STATE ROUTE 4', 'PACHECO BL, ARTHUR',\n",
       "       'OLYMPIC-SB680 ON', 'STATE ROUTE 242 SB', 'INTERSTATE RTE 680',\n",
       "       'S580-CANAL BL OFF', 'INTERSTATE RTE 80', 'E24-S680 CONNECTOR',\n",
       "       'GREENBRAE PED. OC', 'EL CURTOLA BLVD', 'I 580', 'ERLANDSON ST',\n",
       "       'CANAL BL-W580 ONRP', 'I 80 EB OFF-RAMP', 'STATE ROUTE 37',\n",
       "       'SIR FRAN DRAKE BLV', 'STATE RTE 242 NB', 'U. S. HIGHWAY 101',\n",
       "       'COLEMAN SCHOOL POC', '0', 'GATEWAY BOULEVARD',\n",
       "       'RAMP/CONNECTOR 101', 'MILANO WAY OC', 'SR 4 EB',\n",
       "       'STATE ROUTE 242', 'ORINDA WAY POC', 'N242-W4 CONNECTOR',\n",
       "       'ROUTE 4', 'STATE ROUTE 4 EB', 'OLIVERA RD-S242 ON',\n",
       "       'SR 4/242 SEP', 'PINE STREET', 'E4-S242 CONNECTOR', 'SR 160 NB',\n",
       "       'E4-PORT CHICAGO', 'N680-PACHECO OFFRP', 'S242-S680 CONNECTR',\n",
       "       'W37-N101 CONNECTOR', 'STATE ROUTE 4 WB', 'G ST', 'OAKLEY ROAD',\n",
       "       'RAMP/CONNECTOR 4', 'ROUTE 4 EB', 'E4-E80 CONN SEP', 'UPRR SPUR',\n",
       "       'S101-E580 CONNECTR', 'CALIFORNIA STREET', 'SR 12',\n",
       "       'INTERSTATE 780 WB', 'INTERSTATE 780 EB', 'E780-N680 CONNECTR',\n",
       "       'PACHECO CREEK', 'HOME ACRES POC', 'S NOVATO BLVD OC',\n",
       "       'ROWLAND BOULEVARD', 'W37-S101, N101', 'STATE ROUTE 12',\n",
       "       'WALNUT ST', 'FREITAS PKWY', 'STATE ROUTE 128', 'ROUTE 80 RAMP',\n",
       "       'REDWOOD ST OC', 'ROUTE 101 SB', 'ROUTE 101 NB',\n",
       "       'COLUMBUS-W80 ON RP', 'RTE 37', 'STATE RTE 37', 'STATE ROUTE 160',\n",
       "       'E37-E80 CONNECTOR', 'E80-N113 CONNECTOR', 'SR 29 SB',\n",
       "       'DIXON GRANT ROAD', 'LAKE HERMAN ROAD', 'STATE ROUTE 113',\n",
       "       'U.S. ROUTE 101 NB', 'STATE ROUTE 121', 'SR 29 NB',\n",
       "       'INTERSTATE 505', 'N680-W80&W80-S680', 'SUISUN VALLEY ROAD',\n",
       "       'ABERNATHY ROAD', 'U.S. ROUTE 101 SB', 'RAMP/CONNECTOR 80',\n",
       "       'LIMERICK LANE', 'E WASHINGTON ST', 'COLUMBUS-W37 ON RP',\n",
       "       'RAMP/CONNECTOR 12', 'W12-W80 CONNECTOR', 'STATE ROUTE 29',\n",
       "       'US 101 SB', 'U.S. ROUTE 101', 'KENLWORTH SCH. POC',\n",
       "       'PENA ADOBE RD', 'DENMAN RD', 'ROUTE 29', 'E80-N505 CONNECTOR',\n",
       "       'SUPERCEDED ALIGNMT', 'SR 1', 'S580-E80 CONNECTOR',\n",
       "       'MERIDIAN ROAD', 'STATE ROUTE 116', 'AMERICAN CANYN RD',\n",
       "       'E80-W37 CONNECTOR', 'SR 12 EB', 'E12-N101 CONNECTOR', 'SR 12 WB',\n",
       "       'SONOMA AVENUE POC', 'S101-W12 CONNECTOR', 'E12-N&S101 CONNCTR',\n",
       "       'EARLE STREET POC', 'STATE ROUTE 12 EB', 'W80-S113, N113-W80',\n",
       "       'W80-N113 CONNECTOR', 'FULTON ROAD', 'LONE REDWOOD ROAD',\n",
       "       'N. TEXAS ST', 'SR 113', 'S113-E80 CONNECTOR', 'INTERSTATE 505 NB',\n",
       "       'RICHARDS BLVD', 'SR 128', 'US HIGHWAY 101 NB', 'US 101 NB',\n",
       "       'US HIGHWAY 101 SB', 'STATE ROUTE 20', 'S101-E&W12 CONNCTR'],\n",
       "      dtype=object)"
      ]
     },
     "metadata": {},
     "execution_count": 123
    }
   ],
   "source": [
    "bridges.loc[~bridges['Bridge_Number'].isin(bridge_linkid_df['bridge_no'].unique()), 'Facility_Carried'].unique()"
   ]
  },
  {
   "cell_type": "code",
   "execution_count": null,
   "metadata": {},
   "outputs": [],
   "source": []
  }
 ]
}