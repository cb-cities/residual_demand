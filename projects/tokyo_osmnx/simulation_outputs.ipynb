{
 "metadata": {
  "language_info": {
   "codemirror_mode": {
    "name": "ipython",
    "version": 3
   },
   "file_extension": ".py",
   "mimetype": "text/x-python",
   "name": "python",
   "nbconvert_exporter": "python",
   "pygments_lexer": "ipython3",
   "version": "3.7.3-final"
  },
  "orig_nbformat": 2,
  "kernelspec": {
   "name": "python3",
   "display_name": "Python 3"
  }
 },
 "nbformat": 4,
 "nbformat_minor": 2,
 "cells": [
  {
   "cell_type": "code",
   "execution_count": 1,
   "metadata": {},
   "outputs": [],
   "source": [
    "import pandas as pd "
   ]
  },
  {
   "cell_type": "code",
   "execution_count": 4,
   "metadata": {},
   "outputs": [
    {
     "output_type": "display_data",
     "data": {
      "text/plain": "   start_node_id  end_node_id  vol_true   flow    t_avg\n0         509408       794943      31.0  124.0  1332.76",
      "text/html": "<div>\n<style scoped>\n    .dataframe tbody tr th:only-of-type {\n        vertical-align: middle;\n    }\n\n    .dataframe tbody tr th {\n        vertical-align: top;\n    }\n\n    .dataframe thead th {\n        text-align: right;\n    }\n</style>\n<table border=\"1\" class=\"dataframe\">\n  <thead>\n    <tr style=\"text-align: right;\">\n      <th></th>\n      <th>start_node_id</th>\n      <th>end_node_id</th>\n      <th>vol_true</th>\n      <th>flow</th>\n      <th>t_avg</th>\n    </tr>\n  </thead>\n  <tbody>\n    <tr>\n      <th>0</th>\n      <td>509408</td>\n      <td>794943</td>\n      <td>31.0</td>\n      <td>124.0</td>\n      <td>1332.76</td>\n    </tr>\n  </tbody>\n</table>\n</div>"
     },
     "metadata": {}
    },
    {
     "output_type": "display_data",
     "data": {
      "text/plain": "            u           v      highway  length  lanes  maxspeed  \\\n0  4395630592  1780011919  residential  39.627    1.0      40.0   \n\n                                            geometry  start_node_id  \\\n0  LINESTRING (139.7138052 36.2960693, 139.713601...              0   \n\n   end_node_id  signal         type  capacity      fft  \n0       456975     0.5  residential     900.0  3.56643  ",
      "text/html": "<div>\n<style scoped>\n    .dataframe tbody tr th:only-of-type {\n        vertical-align: middle;\n    }\n\n    .dataframe tbody tr th {\n        vertical-align: top;\n    }\n\n    .dataframe thead th {\n        text-align: right;\n    }\n</style>\n<table border=\"1\" class=\"dataframe\">\n  <thead>\n    <tr style=\"text-align: right;\">\n      <th></th>\n      <th>u</th>\n      <th>v</th>\n      <th>highway</th>\n      <th>length</th>\n      <th>lanes</th>\n      <th>maxspeed</th>\n      <th>geometry</th>\n      <th>start_node_id</th>\n      <th>end_node_id</th>\n      <th>signal</th>\n      <th>type</th>\n      <th>capacity</th>\n      <th>fft</th>\n    </tr>\n  </thead>\n  <tbody>\n    <tr>\n      <th>0</th>\n      <td>4395630592</td>\n      <td>1780011919</td>\n      <td>residential</td>\n      <td>39.627</td>\n      <td>1.0</td>\n      <td>40.0</td>\n      <td>LINESTRING (139.7138052 36.2960693, 139.713601...</td>\n      <td>0</td>\n      <td>456975</td>\n      <td>0.5</td>\n      <td>residential</td>\n      <td>900.0</td>\n      <td>3.56643</td>\n    </tr>\n  </tbody>\n</table>\n</div>"
     },
     "metadata": {}
    }
   ],
   "source": [
    "edge_vol = pd.read_csv('simulation_outputs/edge_vol/edge_vol_hr7_qt0_.csv')\n",
    "edges = pd.read_csv('network_inputs/tokyo_edges.csv')\n",
    "display(edge_vol.head(1))\n",
    "display(edges.head(1))"
   ]
  },
  {
   "cell_type": "code",
   "execution_count": 5,
   "metadata": {},
   "outputs": [],
   "source": [
    "edge_vol_geom = pd.merge(edge_vol, edges[['start_node_id', 'end_node_id', 'geometry']], how='left', on=['start_node_id', 'end_node_id'])\n",
    "edge_vol_geom.to_csv('simulation_outputs/edge_vol_geom_hr7_qt0_.csv', index=False)"
   ]
  },
  {
   "cell_type": "code",
   "execution_count": null,
   "metadata": {},
   "outputs": [],
   "source": []
  }
 ]
}