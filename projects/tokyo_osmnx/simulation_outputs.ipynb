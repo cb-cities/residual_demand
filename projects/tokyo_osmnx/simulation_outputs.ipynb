{
 "metadata": {
  "language_info": {
   "codemirror_mode": {
    "name": "ipython",
    "version": 3
   },
   "file_extension": ".py",
   "mimetype": "text/x-python",
   "name": "python",
   "nbconvert_exporter": "python",
   "pygments_lexer": "ipython3",
   "version": "3.8.5-final"
  },
  "orig_nbformat": 2,
  "kernelspec": {
   "name": "python3",
   "display_name": "Python 3",
   "language": "python"
  }
 },
 "nbformat": 4,
 "nbformat_minor": 2,
 "cells": [
  {
   "cell_type": "code",
   "execution_count": 1,
   "metadata": {},
   "outputs": [],
   "source": [
    "import pandas as pd \n",
    "import geopandas as gpd\n",
    "import contextily as ctx\n",
    "from shapely.wkt import loads\n",
    "import matplotlib.pyplot as plt\n",
    "from mpl_toolkits.axes_grid1 import make_axes_locatable"
   ]
  },
  {
   "cell_type": "code",
   "execution_count": 12,
   "metadata": {},
   "outputs": [
    {
     "output_type": "display_data",
     "data": {
      "text/plain": "   start_nid  end_nid  veh_current  vol_true  vol_tot  flow   t_avg\n0    1213424  1213426            0         1        1   4.0  782.36",
      "text/html": "<div>\n<style scoped>\n    .dataframe tbody tr th:only-of-type {\n        vertical-align: middle;\n    }\n\n    .dataframe tbody tr th {\n        vertical-align: top;\n    }\n\n    .dataframe thead th {\n        text-align: right;\n    }\n</style>\n<table border=\"1\" class=\"dataframe\">\n  <thead>\n    <tr style=\"text-align: right;\">\n      <th></th>\n      <th>start_nid</th>\n      <th>end_nid</th>\n      <th>veh_current</th>\n      <th>vol_true</th>\n      <th>vol_tot</th>\n      <th>flow</th>\n      <th>t_avg</th>\n    </tr>\n  </thead>\n  <tbody>\n    <tr>\n      <th>0</th>\n      <td>1213424</td>\n      <td>1213426</td>\n      <td>0</td>\n      <td>1</td>\n      <td>1</td>\n      <td>4.0</td>\n      <td>782.36</td>\n    </tr>\n  </tbody>\n</table>\n</div>"
     },
     "metadata": {}
    },
    {
     "output_type": "display_data",
     "data": {
      "text/plain": "           u           v   highway  length  lanes  maxspeed  \\\n0  131938557  6266083707  tertiary    51.5    1.0      40.0   \n\n                                            geometry  start_nid  end_nid  \\\n0  LINESTRING (139.851108 35.0268381, 139.8510964...          0    14135   \n\n   signal      type  capacity    fft  \n0     0.5  tertiary     900.0  4.635  ",
      "text/html": "<div>\n<style scoped>\n    .dataframe tbody tr th:only-of-type {\n        vertical-align: middle;\n    }\n\n    .dataframe tbody tr th {\n        vertical-align: top;\n    }\n\n    .dataframe thead th {\n        text-align: right;\n    }\n</style>\n<table border=\"1\" class=\"dataframe\">\n  <thead>\n    <tr style=\"text-align: right;\">\n      <th></th>\n      <th>u</th>\n      <th>v</th>\n      <th>highway</th>\n      <th>length</th>\n      <th>lanes</th>\n      <th>maxspeed</th>\n      <th>geometry</th>\n      <th>start_nid</th>\n      <th>end_nid</th>\n      <th>signal</th>\n      <th>type</th>\n      <th>capacity</th>\n      <th>fft</th>\n    </tr>\n  </thead>\n  <tbody>\n    <tr>\n      <th>0</th>\n      <td>131938557</td>\n      <td>6266083707</td>\n      <td>tertiary</td>\n      <td>51.5</td>\n      <td>1.0</td>\n      <td>40.0</td>\n      <td>LINESTRING (139.851108 35.0268381, 139.8510964...</td>\n      <td>0</td>\n      <td>14135</td>\n      <td>0.5</td>\n      <td>tertiary</td>\n      <td>900.0</td>\n      <td>4.635</td>\n    </tr>\n  </tbody>\n</table>\n</div>"
     },
     "metadata": {}
    }
   ],
   "source": [
    "edge_vol = pd.read_csv('simulation_outputs/edge_vol/edge_vol_hr5_qt0_2016.csv')\n",
    "edges = pd.read_csv('network_inputs/tokyo_edges.csv')\n",
    "display(edge_vol.head(1))\n",
    "display(edges.head(1))"
   ]
  },
  {
   "cell_type": "code",
   "execution_count": 14,
   "metadata": {},
   "outputs": [
    {
     "output_type": "stream",
     "name": "stdout",
     "text": [
      "    start_nid  end_nid  total_volume  \\\n20          6     3723        3009.0   \n25          7     3536        2559.0   \n26          8     7484        4500.0   \n27          8       46        8959.0   \n29          9    15597       10341.0   \n\n                                             geometry  \n20  LINESTRING (139.8341576 35.1102233, 139.833821...  \n25  LINESTRING (139.8481517 35.0964721, 139.848101...  \n26  LINESTRING (139.8322405 35.1640835, 139.832556...  \n27  LINESTRING (139.8322405 35.1640835, 139.831932...  \n29  LINESTRING (139.8307849 35.1735173, 139.830882...  \n"
     ]
    }
   ],
   "source": [
    "scen_nm = '2016'\n",
    "edges_output = edges.copy()\n",
    "edges_output['total_volume'] = 0\n",
    "for (hour, quarter) in [(6,2), (6,3), (7,0), (7,1), (7,2), (7,3), (8,0), (8,1)]:\n",
    "    edge_vol = pd.read_csv('simulation_outputs/edge_vol/edge_vol_hr{}_qt{}_{}.csv'.format(hour, quarter, scen_nm))\n",
    "    edges_output = pd.merge(edges_output[['start_nid', 'end_nid', 'total_volume', 'geometry']], edge_vol[['start_nid', 'end_nid', 'vol_true']], how='left', on=['start_nid', 'end_nid'])\n",
    "    edges_output['total_volume'] += edges_output['vol_true']\n",
    "    edges_output = edges_output[['start_nid', 'end_nid', 'total_volume', 'geometry']]\n",
    "    # edge_vol_geom.to_csv('visualization_outputs/edge_vol_geom/edge_vol_geom_hr{}_qt{}_{}.csv'.format(hour, quarter, scen_nm), index=False)\n",
    "edges_output[edges_output['total_volume']>2000].to_csv('visualization_outputs/edge_vol_geom/edge_vol200_geom_hr{}_qt{}_{}.csv'.format(hour, quarter, scen_nm), index=False)\n",
    "print(edges_output[edges_output['total_volume']>2000].head())\n",
    "\n",
    "        ### plot\n",
    "    #     fig, ax = plt.subplots(1, 1, figsize=(20,20))\n",
    "    #     divider = make_axes_locatable(ax)\n",
    "    #     cax = divider.append_axes('right', size='5%', pad=0.1)\n",
    "    #     edge_vol_geom = gpd.GeoDataFrame(edge_vol_geom, crs='epsg:4326', geometry=edge_vol_geom['geometry'].map(loads))\n",
    "    #     edge_vol_geom[edge_vol_geom['volume_capacity_ratio']>0.1].to_crs(epsg=3857).plot(column='volume_capacity_ratio', lw=0.5, ax=ax, cax=cax, cmap='magma_r', legend=True, vmin=0, vmax=1)\n",
    "    #     ctx.add_basemap(ax, source=ctx.providers.Stamen.TonerLite, alpha=0.2)\n",
    "    #     fig.patch.set_facecolor('white')\n",
    "    #     fig.patch.set_alpha(0.7)\n",
    "    #     ax.set_title('Traffic flow (veh/hr) at {:02d}:{:02d}'.format(hour, quarter*15), font={'size': 30})\n",
    "    #     plt.savefig('visualization_outputs/edge_vol_geom_plot/edge_vol_geom_hr{}_qt{}_{}.png'.format(hour, quarter, scen_nm), transparent=False)\n",
    "    #     break\n",
    "    # break"
   ]
  },
  {
   "cell_type": "code",
   "execution_count": null,
   "metadata": {},
   "outputs": [],
   "source": []
  }
 ]
}