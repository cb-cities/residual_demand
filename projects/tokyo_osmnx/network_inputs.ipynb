{
 "cells": [
  {
   "cell_type": "code",
   "execution_count": null,
   "metadata": {},
   "outputs": [],
   "source": [
    "!which python"
   ]
  },
  {
   "cell_type": "code",
   "execution_count": null,
   "metadata": {},
   "outputs": [],
   "source": [
    "import numpy as np \n",
    "import pandas as pd \n",
    "import osmnx as ox \n",
    "from shapely.wkt import loads \n",
    "import geopandas as gpd \n",
    "import matplotlib.pyplot as plt "
   ]
  },
  {
   "cell_type": "code",
   "execution_count": null,
   "metadata": {},
   "outputs": [],
   "source": [
    "survey_area = gpd.read_file('demand_inputs/S05-a-10_SYUTO_GML/S05-a-10_SYUTO-g_Occurred_ConcentratedTrafficVolumeOfPersonTrip.shp')\n",
    "survey_area = survey_area.set_crs(4326)\n",
    "print(survey_area.to_crs(3857).unary_union.area)\n",
    "survey_area_boundary = gpd.GeoSeries(survey_area.unary_union.convex_hull)\n",
    "survey_area_boundary.plot()\n",
    "plt.show()"
   ]
  },
  {
   "cell_type": "code",
   "execution_count": null,
   "metadata": {},
   "outputs": [],
   "source": [
    "### need to revise the \"drivable\" custom filter as part of highway 1 is labled as 'motor_vehicle = no'\n",
    "custom_filter=(f'[\"highway\"][\"area\"!~\"yes\"]'\n",
    "        f'[\"highway\"!~\"abandoned|bridleway|construction|corridor|cycleway|elevator|'\n",
    "        f\"escalator|footway|path|pedestrian|planned|platform|proposed|raceway|service|\"\n",
    "        f'steps|track\"]'\n",
    "        # f'[\"motor_vehicle\"!~\"no\"][\"motorcar\"!~\"no\"]'\n",
    "        f'[\"service\"!~\"alley|driveway|emergency_access|parking|parking_aisle|private\"]')\n",
    "tokyo_graph_large = ox.graph_from_polygon(survey_area_boundary.iloc[0], network_type='all', custom_filter=custom_filter)\n",
    "tokyo_nodes_large, tokyo_edges_large = ox.graph_to_gdfs(tokyo_graph_large)\n",
    "tokyo_graph_component = ox.utils_graph.get_largest_component(tokyo_graph_large, strongly=True)\n",
    "tokyo_nodes_component, tokyo_edges_component = ox.graph_to_gdfs(tokyo_graph_component)"
   ]
  },
  {
   "cell_type": "code",
   "execution_count": 4,
   "metadata": {},
   "outputs": [
    {
     "output_type": "stream",
     "name": "stdout",
     "text": [
      "(1246321, 6) (3469474, 20)\n"
     ]
    }
   ],
   "source": [
    "tokyo_nodes, tokyo_edges = ox.graph_to_gdfs(tokyo_graph_component)\n",
    "print(tokyo_nodes.shape, tokyo_edges.shape)"
   ]
  },
  {
   "cell_type": "code",
   "execution_count": 7,
   "metadata": {},
   "outputs": [],
   "source": [
    "tokyo_nodes.to_csv('network_inputs/tokyo_nodes_osmnx_raw.csv', index=False)\n",
    "tokyo_edges.to_csv('network_inputs/tokyo_edges_osmnx_raw.csv', index=False)"
   ]
  },
  {
   "cell_type": "code",
   "execution_count": 8,
   "metadata": {},
   "outputs": [
    {
     "output_type": "display_data",
     "data": {
      "text/plain": "           y           x      osmid          highway  ref  \\\n0  35.026838  139.851108  131938557  traffic_signals  NaN   \n1  34.985095  139.849577  131939305              NaN  NaN   \n2  34.984350  139.841655  131939336  traffic_signals  NaN   \n\n                         geometry  \n0   POINT (139.851108 35.0268381)  \n1  POINT (139.8495767 34.9850952)  \n2  POINT (139.8416552 34.9843497)  ",
      "text/html": "<div>\n<style scoped>\n    .dataframe tbody tr th:only-of-type {\n        vertical-align: middle;\n    }\n\n    .dataframe tbody tr th {\n        vertical-align: top;\n    }\n\n    .dataframe thead th {\n        text-align: right;\n    }\n</style>\n<table border=\"1\" class=\"dataframe\">\n  <thead>\n    <tr style=\"text-align: right;\">\n      <th></th>\n      <th>y</th>\n      <th>x</th>\n      <th>osmid</th>\n      <th>highway</th>\n      <th>ref</th>\n      <th>geometry</th>\n    </tr>\n  </thead>\n  <tbody>\n    <tr>\n      <th>0</th>\n      <td>35.026838</td>\n      <td>139.851108</td>\n      <td>131938557</td>\n      <td>traffic_signals</td>\n      <td>NaN</td>\n      <td>POINT (139.851108 35.0268381)</td>\n    </tr>\n    <tr>\n      <th>1</th>\n      <td>34.985095</td>\n      <td>139.849577</td>\n      <td>131939305</td>\n      <td>NaN</td>\n      <td>NaN</td>\n      <td>POINT (139.8495767 34.9850952)</td>\n    </tr>\n    <tr>\n      <th>2</th>\n      <td>34.984350</td>\n      <td>139.841655</td>\n      <td>131939336</td>\n      <td>traffic_signals</td>\n      <td>NaN</td>\n      <td>POINT (139.8416552 34.9843497)</td>\n    </tr>\n  </tbody>\n</table>\n</div>"
     },
     "metadata": {}
    },
    {
     "output_type": "display_data",
     "data": {
      "text/plain": "       osmid    highway oneway   length  \\\n0   13945297   tertiary  False   51.500   \n1  407006520  secondary  False   45.162   \n2  407006520  secondary  False  184.183   \n\n                                            geometry lanes  ref   name bridge  \\\n0  LINESTRING (139.851108 35.0268381, 139.8510964...   NaN  NaN    NaN    NaN   \n1  LINESTRING (139.851108 35.0268381, 139.8512008...     2  302  館山富浦線    NaN   \n2  LINESTRING (139.851108 35.0268381, 139.8510121...     2  302  館山富浦線    NaN   \n\n  maxspeed tunnel width access junction area service est_width          u  \\\n0      NaN    NaN   NaN    NaN      NaN  NaN     NaN       NaN  131938557   \n1      NaN    NaN   NaN    NaN      NaN  NaN     NaN       NaN  131938557   \n2      NaN    NaN   NaN    NaN      NaN  NaN     NaN       NaN  131938557   \n\n            v  key  \n0  6266083707    0  \n1   305418247    0  \n2  2466347437    0  ",
      "text/html": "<div>\n<style scoped>\n    .dataframe tbody tr th:only-of-type {\n        vertical-align: middle;\n    }\n\n    .dataframe tbody tr th {\n        vertical-align: top;\n    }\n\n    .dataframe thead th {\n        text-align: right;\n    }\n</style>\n<table border=\"1\" class=\"dataframe\">\n  <thead>\n    <tr style=\"text-align: right;\">\n      <th></th>\n      <th>osmid</th>\n      <th>highway</th>\n      <th>oneway</th>\n      <th>length</th>\n      <th>geometry</th>\n      <th>lanes</th>\n      <th>ref</th>\n      <th>name</th>\n      <th>bridge</th>\n      <th>maxspeed</th>\n      <th>tunnel</th>\n      <th>width</th>\n      <th>access</th>\n      <th>junction</th>\n      <th>area</th>\n      <th>service</th>\n      <th>est_width</th>\n      <th>u</th>\n      <th>v</th>\n      <th>key</th>\n    </tr>\n  </thead>\n  <tbody>\n    <tr>\n      <th>0</th>\n      <td>13945297</td>\n      <td>tertiary</td>\n      <td>False</td>\n      <td>51.500</td>\n      <td>LINESTRING (139.851108 35.0268381, 139.8510964...</td>\n      <td>NaN</td>\n      <td>NaN</td>\n      <td>NaN</td>\n      <td>NaN</td>\n      <td>NaN</td>\n      <td>NaN</td>\n      <td>NaN</td>\n      <td>NaN</td>\n      <td>NaN</td>\n      <td>NaN</td>\n      <td>NaN</td>\n      <td>NaN</td>\n      <td>131938557</td>\n      <td>6266083707</td>\n      <td>0</td>\n    </tr>\n    <tr>\n      <th>1</th>\n      <td>407006520</td>\n      <td>secondary</td>\n      <td>False</td>\n      <td>45.162</td>\n      <td>LINESTRING (139.851108 35.0268381, 139.8512008...</td>\n      <td>2</td>\n      <td>302</td>\n      <td>館山富浦線</td>\n      <td>NaN</td>\n      <td>NaN</td>\n      <td>NaN</td>\n      <td>NaN</td>\n      <td>NaN</td>\n      <td>NaN</td>\n      <td>NaN</td>\n      <td>NaN</td>\n      <td>NaN</td>\n      <td>131938557</td>\n      <td>305418247</td>\n      <td>0</td>\n    </tr>\n    <tr>\n      <th>2</th>\n      <td>407006520</td>\n      <td>secondary</td>\n      <td>False</td>\n      <td>184.183</td>\n      <td>LINESTRING (139.851108 35.0268381, 139.8510121...</td>\n      <td>2</td>\n      <td>302</td>\n      <td>館山富浦線</td>\n      <td>NaN</td>\n      <td>NaN</td>\n      <td>NaN</td>\n      <td>NaN</td>\n      <td>NaN</td>\n      <td>NaN</td>\n      <td>NaN</td>\n      <td>NaN</td>\n      <td>NaN</td>\n      <td>131938557</td>\n      <td>2466347437</td>\n      <td>0</td>\n    </tr>\n  </tbody>\n</table>\n</div>"
     },
     "metadata": {}
    }
   ],
   "source": [
    "tokyo_nodes_raw = pd.read_csv('network_inputs/tokyo_nodes_osmnx_raw.csv')\n",
    "tokyo_edges_raw = pd.read_csv('network_inputs/tokyo_edges_osmnx_raw.csv')\n",
    "display(tokyo_nodes_raw.head(3))\n",
    "display(tokyo_edges_raw.head(3))"
   ]
  },
  {
   "cell_type": "code",
   "execution_count": 9,
   "metadata": {},
   "outputs": [
    {
     "output_type": "stream",
     "name": "stdout",
     "text": [
      "126581 3244589 (3469474, 20)\n3366303\n157359311.89150003\n"
     ]
    }
   ],
   "source": [
    "np.sum(tokyo_edges_raw['length'])\n",
    "print(np.sum(tokyo_edges_raw['oneway']==True), np.sum(tokyo_edges_raw['oneway']==False), tokyo_edges_raw.shape)\n",
    "print(np.sum(tokyo_edges_raw.loc[tokyo_edges_raw['oneway']==True, 'length'])+np.sum(tokyo_edges_raw.loc[tokyo_edges_raw['oneway']==False, 'length'])/2)"
   ]
  },
  {
   "cell_type": "code",
   "execution_count": 10,
   "metadata": {},
   "outputs": [
    {
     "output_type": "display_data",
     "data": {
      "text/plain": "   node_id      osmid         lon        lat\n0        0  131938557  139.851108  35.026838\n1        1  131939305  139.849577  34.985095\n2        2  131939336  139.841655  34.984350",
      "text/html": "<div>\n<style scoped>\n    .dataframe tbody tr th:only-of-type {\n        vertical-align: middle;\n    }\n\n    .dataframe tbody tr th {\n        vertical-align: top;\n    }\n\n    .dataframe thead th {\n        text-align: right;\n    }\n</style>\n<table border=\"1\" class=\"dataframe\">\n  <thead>\n    <tr style=\"text-align: right;\">\n      <th></th>\n      <th>node_id</th>\n      <th>osmid</th>\n      <th>lon</th>\n      <th>lat</th>\n    </tr>\n  </thead>\n  <tbody>\n    <tr>\n      <th>0</th>\n      <td>0</td>\n      <td>131938557</td>\n      <td>139.851108</td>\n      <td>35.026838</td>\n    </tr>\n    <tr>\n      <th>1</th>\n      <td>1</td>\n      <td>131939305</td>\n      <td>139.849577</td>\n      <td>34.985095</td>\n    </tr>\n    <tr>\n      <th>2</th>\n      <td>2</td>\n      <td>131939336</td>\n      <td>139.841655</td>\n      <td>34.984350</td>\n    </tr>\n  </tbody>\n</table>\n</div>"
     },
     "metadata": {}
    }
   ],
   "source": [
    "# reformat the columns\n",
    "tokyo_nodes = tokyo_nodes_raw.copy()\n",
    "tokyo_nodes['lon'] = tokyo_nodes['x']\n",
    "tokyo_nodes['lat'] = tokyo_nodes['y']\n",
    "tokyo_nodes['node_id'] = np.arange(tokyo_nodes.shape[0])\n",
    "tokyo_nodes = tokyo_nodes[['node_id', 'osmid', 'lon', 'lat']].reset_index(drop=True)\n",
    "node_osmid_id_dict = {getattr(n, 'osmid'): getattr(n,'node_id') for n in tokyo_nodes.itertuples()}\n",
    "display(tokyo_nodes.head(3))"
   ]
  },
  {
   "cell_type": "code",
   "execution_count": 13,
   "metadata": {},
   "outputs": [
    {
     "output_type": "display_data",
     "data": {
      "text/plain": "           u           v    highway   length  lanes  maxspeed  \\\n0  131938557  6266083707   tertiary   51.500    1.0      40.0   \n1  131938557   305418247  secondary   45.162    1.0      60.0   \n2  131938557  2466347437  secondary  184.183    1.0      60.0   \n\n                                            geometry  start_nid  end_nid  \\\n0  LINESTRING (139.851108 35.0268381, 139.8510964...          0    14135   \n1  LINESTRING (139.851108 35.0268381, 139.8512008...          0      184   \n2  LINESTRING (139.851108 35.0268381, 139.8510121...          0     8093   \n\n   signal       type  capacity       fft  \n0     0.5   tertiary     900.0   4.63500  \n1     0.5  secondary     900.0   2.70972  \n2     0.5  secondary     900.0  11.05098  ",
      "text/html": "<div>\n<style scoped>\n    .dataframe tbody tr th:only-of-type {\n        vertical-align: middle;\n    }\n\n    .dataframe tbody tr th {\n        vertical-align: top;\n    }\n\n    .dataframe thead th {\n        text-align: right;\n    }\n</style>\n<table border=\"1\" class=\"dataframe\">\n  <thead>\n    <tr style=\"text-align: right;\">\n      <th></th>\n      <th>u</th>\n      <th>v</th>\n      <th>highway</th>\n      <th>length</th>\n      <th>lanes</th>\n      <th>maxspeed</th>\n      <th>geometry</th>\n      <th>start_nid</th>\n      <th>end_nid</th>\n      <th>signal</th>\n      <th>type</th>\n      <th>capacity</th>\n      <th>fft</th>\n    </tr>\n  </thead>\n  <tbody>\n    <tr>\n      <th>0</th>\n      <td>131938557</td>\n      <td>6266083707</td>\n      <td>tertiary</td>\n      <td>51.500</td>\n      <td>1.0</td>\n      <td>40.0</td>\n      <td>LINESTRING (139.851108 35.0268381, 139.8510964...</td>\n      <td>0</td>\n      <td>14135</td>\n      <td>0.5</td>\n      <td>tertiary</td>\n      <td>900.0</td>\n      <td>4.63500</td>\n    </tr>\n    <tr>\n      <th>1</th>\n      <td>131938557</td>\n      <td>305418247</td>\n      <td>secondary</td>\n      <td>45.162</td>\n      <td>1.0</td>\n      <td>60.0</td>\n      <td>LINESTRING (139.851108 35.0268381, 139.8512008...</td>\n      <td>0</td>\n      <td>184</td>\n      <td>0.5</td>\n      <td>secondary</td>\n      <td>900.0</td>\n      <td>2.70972</td>\n    </tr>\n    <tr>\n      <th>2</th>\n      <td>131938557</td>\n      <td>2466347437</td>\n      <td>secondary</td>\n      <td>184.183</td>\n      <td>1.0</td>\n      <td>60.0</td>\n      <td>LINESTRING (139.851108 35.0268381, 139.8510121...</td>\n      <td>0</td>\n      <td>8093</td>\n      <td>0.5</td>\n      <td>secondary</td>\n      <td>900.0</td>\n      <td>11.05098</td>\n    </tr>\n  </tbody>\n</table>\n</div>"
     },
     "metadata": {}
    },
    {
     "output_type": "display_data",
     "data": {
      "text/plain": "lanes\n1.000000    3312852\n1.333333          2\n1.500000         97\n2.000000     156523\ndtype: int64"
     },
     "metadata": {}
    },
    {
     "output_type": "display_data",
     "data": {
      "text/plain": "maxspeed\n40.000000     3218639\n46.666667           8\n50.000000         207\n60.000000      194953\n70.000000          23\n80.000000          14\n100.000000      55630\ndtype: int64"
     },
     "metadata": {}
    },
    {
     "output_type": "display_data",
     "data": {
      "text/plain": "signal\n0.5    3413807\n1.0      55667\ndtype: int64"
     },
     "metadata": {}
    },
    {
     "output_type": "display_data",
     "data": {
      "text/plain": "type\nbus_guideway             2\nbus_stop                 2\ncrossing                24\nescape                   2\nliving_street        17207\nmotorway              1971\nmotorway_link         2668\nmultiple             17218\npassing_place            2\nprimary              98893\nprimary_link          1989\nresidential        1537943\nrest_area               26\nroad                   928\nroute                    2\nsecondary            93400\nsecondary_link         649\ntertiary            397768\ntertiary_link         1665\ntraffic_signals          4\ntrail                    4\ntrunk                48425\ntrunk_link            2518\nunclassified       1246124\nyes                     40\ndtype: int64"
     },
     "metadata": {}
    }
   ],
   "source": [
    "tokyo_edges = tokyo_edges_raw[['u', 'v', 'highway', 'length', 'lanes', 'maxspeed', 'geometry']].copy()\n",
    "tokyo_edges['start_nid'] = tokyo_edges['u'].map(node_osmid_id_dict)\n",
    "tokyo_edges['end_nid'] = tokyo_edges['v'].map(node_osmid_id_dict)\n",
    "\n",
    "lanes_dict = {'motorway': 2, 'motorway_link': 2, 'trunk': 2, 'trunk_link': 2, 'primary': 2, 'primary_link': 2}\n",
    "def fill_lanes(value):\n",
    "    lanes = []\n",
    "    if '[' in value: \n",
    "        value = value[1:-1].replace(\"'\", \"\").replace(' ', '').split(',')\n",
    "    else: value=[value]\n",
    "    for v in value:\n",
    "        if v in lanes_dict: lanes.append(lanes_dict[v])\n",
    "        else: lanes.append(1)\n",
    "    return(np.mean(lanes))\n",
    "\n",
    "maxspeed_dict = {'motorway': 100, 'motorway_link': 100, 'trunk': 100, 'trunk_link': 100, 'primary': 60, 'primary_link': 60, 'secondary': 60, 'secondary_link': 60}\n",
    "def fill_maxspeed(value):\n",
    "    maxspeed = []\n",
    "    if '[' in value: \n",
    "        value = value[1:-1].replace(\"'\", \"\").replace(' ', '').split(',')\n",
    "    else: value=[value]\n",
    "    for v in value:\n",
    "        if v in maxspeed_dict: maxspeed.append(maxspeed_dict[v])\n",
    "        else: maxspeed.append(40)\n",
    "    return(np.mean(maxspeed))\n",
    "\n",
    "signal_dict = {'motorway': 1, 'motorway_link': 1, 'trunk': 1, 'trunk_link': 1}\n",
    "def fill_signal(value):\n",
    "    signal = []\n",
    "    if '[' in value: \n",
    "        value = value[1:-1].replace(\"'\", \"\").replace(' ', '').split(',')\n",
    "    else: value=[value]\n",
    "    for v in value:\n",
    "        if v in signal_dict: signal.append(signal_dict[v])\n",
    "        else: signal.append(0.5)\n",
    "    return(np.max(signal))\n",
    "\n",
    "def fill_type(value):\n",
    "    if '[' in value: return 'multiple'\n",
    "    else: return value\n",
    "\n",
    "tokyo_edges['lanes'] = tokyo_edges['highway'].apply(fill_lanes)\n",
    "tokyo_edges['maxspeed'] = tokyo_edges['highway'].apply(fill_maxspeed)\n",
    "tokyo_edges['signal'] = tokyo_edges['highway'].apply(fill_signal)\n",
    "tokyo_edges['type'] = tokyo_edges['highway'].apply(fill_type)\n",
    "tokyo_edges['capacity'] = tokyo_edges['lanes']*1800*tokyo_edges['signal']\n",
    "tokyo_edges['fft'] = tokyo_edges['length']/tokyo_edges['maxspeed']*3.6\n",
    "\n",
    "display(tokyo_edges.head(3))\n",
    "display(tokyo_edges.groupby('lanes').size())\n",
    "display(tokyo_edges.groupby('maxspeed').size())\n",
    "display(tokyo_edges.groupby('signal').size())\n",
    "display(tokyo_edges.groupby('type').size())"
   ]
  },
  {
   "cell_type": "code",
   "execution_count": 14,
   "metadata": {},
   "outputs": [],
   "source": [
    "tokyo_nodes.to_csv('network_inputs/tokyo_nodes.csv', index=False)\n",
    "tokyo_edges.to_csv('network_inputs/tokyo_edges.csv', index=False)"
   ]
  },
  {
   "cell_type": "code",
   "execution_count": null,
   "metadata": {},
   "outputs": [],
   "source": [
    "# check highways\n",
    "tokyo_edges = pd.read_csv('network_inputs/tokyo_edges.csv')\n",
    "highway = pd.read_csv('network_inputs/highway_edges.csv')\n",
    "tokyo_edges_raw = pd.read_csv('network_inputs/tokyo_edges_osmnx_raw.csv')"
   ]
  },
  {
   "cell_type": "code",
   "execution_count": null,
   "metadata": {},
   "outputs": [],
   "source": []
  }
 ],
 "metadata": {
  "kernelspec": {
   "name": "python3",
   "display_name": "Python 3.8.6 64-bit ('ox': conda)",
   "metadata": {
    "interpreter": {
     "hash": "8553ce7a21d9cd73fda0040cb18a3fd1aae8d84a6ce804dde569d60f01353f96"
    }
   }
  },
  "language_info": {
   "codemirror_mode": {
    "name": "ipython",
    "version": 3
   },
   "file_extension": ".py",
   "mimetype": "text/x-python",
   "name": "python",
   "nbconvert_exporter": "python",
   "pygments_lexer": "ipython3",
   "version": "3.8.6-final"
  }
 },
 "nbformat": 4,
 "nbformat_minor": 2
}