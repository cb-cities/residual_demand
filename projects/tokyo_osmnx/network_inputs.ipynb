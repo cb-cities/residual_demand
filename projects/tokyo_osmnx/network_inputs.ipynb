{
 "cells": [
  {
   "cell_type": "code",
   "execution_count": 1,
   "metadata": {},
   "outputs": [
    {
     "name": "stdout",
     "output_type": "stream",
     "text": [
      "/home/bingyu/anaconda3/envs/ox/bin/python\r\n"
     ]
    }
   ],
   "source": [
    "!which python"
   ]
  },
  {
   "cell_type": "code",
   "execution_count": 2,
   "metadata": {},
   "outputs": [],
   "source": [
    "import numpy as np \n",
    "import pandas as pd \n",
    "import osmnx as ox \n",
    "from shapely.wkt import loads \n",
    "import geopandas as gpd \n",
    "import matplotlib.pyplot as plt "
   ]
  },
  {
   "cell_type": "code",
   "execution_count": 17,
   "metadata": {},
   "outputs": [
    {
     "name": "stdout",
     "output_type": "stream",
     "text": [
      "23898818422.729603\n"
     ]
    },
    {
     "data": {
      "image/png": "[encoded data removed]",
      "text/plain": [
       "<Figure size 432x288 with 1 Axes>"
      ]
     },
     "metadata": {
      "needs_background": "light"
     },
     "output_type": "display_data"
    }
   ],
   "source": [
    "survey_area = gpd.read_file('demand_inputs/S05-a-10_SYUTO_GML/S05-a-10_SYUTO-g_Occurred_ConcentratedTrafficVolumeOfPersonTrip.shp')\n",
    "survey_area = survey_area.set_crs(4326)\n",
    "print(survey_area.to_crs(3857).unary_union.area)\n",
    "survey_area_boundary = gpd.GeoSeries(survey_area.unary_union.convex_hull)\n",
    "survey_area_boundary.plot()\n",
    "plt.show()"
   ]
  },
  {
   "cell_type": "code",
   "execution_count": 13,
   "metadata": {},
   "outputs": [
    {
     "data": {
      "image/svg+xml": [
       "<svg xmlns=\"http://www.w3.org/2000/svg\" xmlns:xlink=\"http://www.w3.org/1999/xlink\" width=\"100.0\" height=\"100.0\" viewBox=\"138.62486083079997 34.8126553208 2.3346486684000354 1.5960262984000053\" preserveAspectRatio=\"xMinYMin meet\"><g transform=\"matrix(1,0,0,-1,0,71.22133694)\"><path fill-rule=\"evenodd\" fill=\"#66cc99\" stroke=\"#555555\" stroke-width=\"0.046692973368000705\" opacity=\"0.6\" d=\"M 139.88750577,34.89912379 L 139.83593877,34.90256893 L 139.8359147,34.90257344 L 139.02939026,35.15000745 L 139.02881752,35.15058098 L 138.98780428,35.20122067 L 138.98607061,35.20522638 L 138.72884498,35.90932138 L 138.7113293,35.97159996 L 138.71230745,35.98520308 L 138.71600125,35.99181884 L 138.71658733,35.99276869 L 138.75438704,36.03414077 L 139.1296105,36.28352875 L 140.17099515,36.32174938 L 140.20232321,36.32221315 L 140.20254429,36.32220993 L 140.20275269,36.32219397 L 140.35645343,36.27161769 L 140.38441703,36.25627413 L 140.39027353,36.25202725 L 140.6109857,36.08294908 L 140.87167919,35.73978977 L 140.87304103,35.73256435 L 140.87303971,35.73246296 L 140.86983572,35.70804373 L 140.865907,35.69253054 L 140.86589569,35.69251081 L 140.38430184,35.1874333 L 140.38426536,35.18739742 L 140.38423109,35.18736603 L 140.37718379,35.18104363 L 140.32684367,35.13935917 L 140.32682714,35.13934755 L 139.92815058,34.90933993 L 139.92153191,34.90616371 L 139.9215133,34.90615922 L 139.88750577,34.89912379 z\" /></g></svg>"
      ],
      "text/plain": [
       "<shapely.geometry.polygon.Polygon at 0x7f47c3936c50>"
      ]
     },
     "execution_count": 13,
     "metadata": {},
     "output_type": "execute_result"
    }
   ],
   "source": [
    "survey_area_boundary.iloc[0]"
   ]
  },
  {
   "cell_type": "code",
   "execution_count": 14,
   "metadata": {},
   "outputs": [
    {
     "ename": "NameError",
     "evalue": "name 'tokyo_node' is not defined",
     "output_type": "error",
     "traceback": [
      "\u001b[0;31m---------------------------------------------------------------------------\u001b[0m",
      "\u001b[0;31mNameError\u001b[0m                                 Traceback (most recent call last)",
      "\u001b[0;32m<ipython-input-14-1f5c8eb29830>\u001b[0m in \u001b[0;36m<module>\u001b[0;34m\u001b[0m\n\u001b[1;32m      2\u001b[0m \u001b[0mtokyo_graph\u001b[0m \u001b[0;34m=\u001b[0m \u001b[0mox\u001b[0m\u001b[0;34m.\u001b[0m\u001b[0mutils_graph\u001b[0m\u001b[0;34m.\u001b[0m\u001b[0mget_largest_component\u001b[0m\u001b[0;34m(\u001b[0m\u001b[0mtokyo_graph\u001b[0m\u001b[0;34m,\u001b[0m \u001b[0mstrongly\u001b[0m\u001b[0;34m=\u001b[0m\u001b[0;32mTrue\u001b[0m\u001b[0;34m)\u001b[0m\u001b[0;34m\u001b[0m\u001b[0;34m\u001b[0m\u001b[0m\n\u001b[1;32m      3\u001b[0m \u001b[0mtokyo_nodes\u001b[0m\u001b[0;34m,\u001b[0m \u001b[0mtokyo_edges\u001b[0m \u001b[0;34m=\u001b[0m \u001b[0mox\u001b[0m\u001b[0;34m.\u001b[0m\u001b[0mgraph_to_gdfs\u001b[0m\u001b[0;34m(\u001b[0m\u001b[0mtokyo_graph\u001b[0m\u001b[0;34m)\u001b[0m\u001b[0;34m\u001b[0m\u001b[0;34m\u001b[0m\u001b[0m\n\u001b[0;32m----> 4\u001b[0;31m \u001b[0mprint\u001b[0m\u001b[0;34m(\u001b[0m\u001b[0mtokyo_node\u001b[0m\u001b[0;34m.\u001b[0m\u001b[0mshape\u001b[0m\u001b[0;34m,\u001b[0m \u001b[0mtokyo_edges\u001b[0m\u001b[0;34m.\u001b[0m\u001b[0mshape\u001b[0m\u001b[0;34m)\u001b[0m\u001b[0;34m\u001b[0m\u001b[0;34m\u001b[0m\u001b[0m\n\u001b[0m",
      "\u001b[0;31mNameError\u001b[0m: name 'tokyo_node' is not defined"
     ]
    }
   ],
   "source": [
    "tokyo_graph = ox.graph_from_polygon(survey_area_boundary.iloc[0], network_type='drive')\n",
    "tokyo_graph = ox.utils_graph.get_largest_component(tokyo_graph, strongly=True)\n",
    "tokyo_nodes, tokyo_edges = ox.graph_to_gdfs(tokyo_graph)"
   ]
  },
  {
   "cell_type": "code",
   "execution_count": 69,
   "metadata": {},
   "outputs": [
    {
     "name": "stdout",
     "output_type": "stream",
     "text": [
      "(1244036, 6) (3464607, 20)\n"
     ]
    }
   ],
   "source": [
    "tokyo_nodes, tokyo_edges = ox.graph_to_gdfs(tokyo_graph)\n",
    "print(tokyo_nodes.shape, tokyo_edges.shape)"
   ]
  },
  {
   "cell_type": "code",
   "execution_count": 70,
   "metadata": {},
   "outputs": [],
   "source": [
    "tokyo_nodes.to_csv('network_inputs/tokyo_nodes_osmnx_raw.csv', index=False)\n",
    "tokyo_edges.to_csv('network_inputs/tokyo_edges_osmnx_raw.csv', index=False)"
   ]
  },
  {
   "cell_type": "code",
   "execution_count": 3,
   "metadata": {},
   "outputs": [
    {
     "name": "stderr",
     "output_type": "stream",
     "text": [
      "/home/bingyu/anaconda3/envs/geo/lib/python3.7/site-packages/IPython/core/interactiveshell.py:3146: DtypeWarning: Columns (2,8,9,13,14,15,16) have mixed types.Specify dtype option on import or set low_memory=False.\n",
      "  interactivity=interactivity, compiler=compiler, result=result)\n"
     ]
    },
    {
     "data": {
      "text/html": [
       "<div>\n",
       "<style scoped>\n",
       "    .dataframe tbody tr th:only-of-type {\n",
       "        vertical-align: middle;\n",
       "    }\n",
       "\n",
       "    .dataframe tbody tr th {\n",
       "        vertical-align: top;\n",
       "    }\n",
       "\n",
       "    .dataframe thead th {\n",
       "        text-align: right;\n",
       "    }\n",
       "</style>\n",
       "<table border=\"1\" class=\"dataframe\">\n",
       "  <thead>\n",
       "    <tr style=\"text-align: right;\">\n",
       "      <th></th>\n",
       "      <th>y</th>\n",
       "      <th>x</th>\n",
       "      <th>osmid</th>\n",
       "      <th>highway</th>\n",
       "      <th>ref</th>\n",
       "      <th>geometry</th>\n",
       "    </tr>\n",
       "  </thead>\n",
       "  <tbody>\n",
       "    <tr>\n",
       "      <th>0</th>\n",
       "      <td>36.296069</td>\n",
       "      <td>139.713805</td>\n",
       "      <td>4395630592</td>\n",
       "      <td>NaN</td>\n",
       "      <td>NaN</td>\n",
       "      <td>POINT (139.7138052 36.2960693)</td>\n",
       "    </tr>\n",
       "    <tr>\n",
       "      <th>1</th>\n",
       "      <td>36.286796</td>\n",
       "      <td>139.711021</td>\n",
       "      <td>4395630603</td>\n",
       "      <td>NaN</td>\n",
       "      <td>NaN</td>\n",
       "      <td>POINT (139.7110211 36.2867956)</td>\n",
       "    </tr>\n",
       "    <tr>\n",
       "      <th>2</th>\n",
       "      <td>36.297458</td>\n",
       "      <td>139.714450</td>\n",
       "      <td>4395630616</td>\n",
       "      <td>NaN</td>\n",
       "      <td>NaN</td>\n",
       "      <td>POINT (139.7144501 36.2974579)</td>\n",
       "    </tr>\n",
       "  </tbody>\n",
       "</table>\n",
       "</div>"
      ],
      "text/plain": [
       "           y           x       osmid highway  ref  \\\n",
       "0  36.296069  139.713805  4395630592     NaN  NaN   \n",
       "1  36.286796  139.711021  4395630603     NaN  NaN   \n",
       "2  36.297458  139.714450  4395630616     NaN  NaN   \n",
       "\n",
       "                         geometry  \n",
       "0  POINT (139.7138052 36.2960693)  \n",
       "1  POINT (139.7110211 36.2867956)  \n",
       "2  POINT (139.7144501 36.2974579)  "
      ]
     },
     "metadata": {},
     "output_type": "display_data"
    },
    {
     "data": {
      "text/html": [
       "<div>\n",
       "<style scoped>\n",
       "    .dataframe tbody tr th:only-of-type {\n",
       "        vertical-align: middle;\n",
       "    }\n",
       "\n",
       "    .dataframe tbody tr th {\n",
       "        vertical-align: top;\n",
       "    }\n",
       "\n",
       "    .dataframe thead th {\n",
       "        text-align: right;\n",
       "    }\n",
       "</style>\n",
       "<table border=\"1\" class=\"dataframe\">\n",
       "  <thead>\n",
       "    <tr style=\"text-align: right;\">\n",
       "      <th></th>\n",
       "      <th>osmid</th>\n",
       "      <th>highway</th>\n",
       "      <th>oneway</th>\n",
       "      <th>length</th>\n",
       "      <th>geometry</th>\n",
       "      <th>lanes</th>\n",
       "      <th>ref</th>\n",
       "      <th>name</th>\n",
       "      <th>width</th>\n",
       "      <th>maxspeed</th>\n",
       "      <th>bridge</th>\n",
       "      <th>tunnel</th>\n",
       "      <th>est_width</th>\n",
       "      <th>service</th>\n",
       "      <th>access</th>\n",
       "      <th>junction</th>\n",
       "      <th>area</th>\n",
       "      <th>u</th>\n",
       "      <th>v</th>\n",
       "      <th>key</th>\n",
       "    </tr>\n",
       "  </thead>\n",
       "  <tbody>\n",
       "    <tr>\n",
       "      <th>0</th>\n",
       "      <td>441867543</td>\n",
       "      <td>residential</td>\n",
       "      <td>False</td>\n",
       "      <td>39.627</td>\n",
       "      <td>LINESTRING (139.7138052 36.2960693, 139.713601...</td>\n",
       "      <td>NaN</td>\n",
       "      <td>NaN</td>\n",
       "      <td>NaN</td>\n",
       "      <td>NaN</td>\n",
       "      <td>NaN</td>\n",
       "      <td>NaN</td>\n",
       "      <td>NaN</td>\n",
       "      <td>NaN</td>\n",
       "      <td>NaN</td>\n",
       "      <td>NaN</td>\n",
       "      <td>NaN</td>\n",
       "      <td>NaN</td>\n",
       "      <td>4395630592</td>\n",
       "      <td>1780011919</td>\n",
       "      <td>0</td>\n",
       "    </tr>\n",
       "    <tr>\n",
       "      <th>1</th>\n",
       "      <td>166552472</td>\n",
       "      <td>unclassified</td>\n",
       "      <td>False</td>\n",
       "      <td>42.152</td>\n",
       "      <td>LINESTRING (139.7110211 36.2867956, 139.710924...</td>\n",
       "      <td>NaN</td>\n",
       "      <td>NaN</td>\n",
       "      <td>NaN</td>\n",
       "      <td>NaN</td>\n",
       "      <td>NaN</td>\n",
       "      <td>NaN</td>\n",
       "      <td>NaN</td>\n",
       "      <td>NaN</td>\n",
       "      <td>NaN</td>\n",
       "      <td>NaN</td>\n",
       "      <td>NaN</td>\n",
       "      <td>NaN</td>\n",
       "      <td>4395630603</td>\n",
       "      <td>4395623880</td>\n",
       "      <td>0</td>\n",
       "    </tr>\n",
       "    <tr>\n",
       "      <th>2</th>\n",
       "      <td>166552472</td>\n",
       "      <td>unclassified</td>\n",
       "      <td>False</td>\n",
       "      <td>139.320</td>\n",
       "      <td>LINESTRING (139.7110211 36.2867956, 139.711073...</td>\n",
       "      <td>NaN</td>\n",
       "      <td>NaN</td>\n",
       "      <td>NaN</td>\n",
       "      <td>NaN</td>\n",
       "      <td>NaN</td>\n",
       "      <td>NaN</td>\n",
       "      <td>NaN</td>\n",
       "      <td>NaN</td>\n",
       "      <td>NaN</td>\n",
       "      <td>NaN</td>\n",
       "      <td>NaN</td>\n",
       "      <td>NaN</td>\n",
       "      <td>4395630603</td>\n",
       "      <td>1780011985</td>\n",
       "      <td>0</td>\n",
       "    </tr>\n",
       "  </tbody>\n",
       "</table>\n",
       "</div>"
      ],
      "text/plain": [
       "       osmid       highway oneway   length  \\\n",
       "0  441867543   residential  False   39.627   \n",
       "1  166552472  unclassified  False   42.152   \n",
       "2  166552472  unclassified  False  139.320   \n",
       "\n",
       "                                            geometry lanes  ref name width  \\\n",
       "0  LINESTRING (139.7138052 36.2960693, 139.713601...   NaN  NaN  NaN   NaN   \n",
       "1  LINESTRING (139.7110211 36.2867956, 139.710924...   NaN  NaN  NaN   NaN   \n",
       "2  LINESTRING (139.7110211 36.2867956, 139.711073...   NaN  NaN  NaN   NaN   \n",
       "\n",
       "  maxspeed bridge tunnel est_width service access junction area           u  \\\n",
       "0      NaN    NaN    NaN       NaN     NaN    NaN      NaN  NaN  4395630592   \n",
       "1      NaN    NaN    NaN       NaN     NaN    NaN      NaN  NaN  4395630603   \n",
       "2      NaN    NaN    NaN       NaN     NaN    NaN      NaN  NaN  4395630603   \n",
       "\n",
       "            v  key  \n",
       "0  1780011919    0  \n",
       "1  4395623880    0  \n",
       "2  1780011985    0  "
      ]
     },
     "metadata": {},
     "output_type": "display_data"
    }
   ],
   "source": [
    "tokyo_nodes_raw = pd.read_csv('network_inputs/tokyo_nodes_osmnx_raw.csv')\n",
    "tokyo_edges_raw = pd.read_csv('network_inputs/tokyo_edges_osmnx_raw.csv')\n",
    "display(tokyo_nodes_raw.head(3))\n",
    "display(tokyo_edges_raw.head(3))"
   ]
  },
  {
   "cell_type": "code",
   "execution_count": 14,
   "metadata": {},
   "outputs": [
    {
     "name": "stdout",
     "output_type": "stream",
     "text": [
      "127514 3238789 (3464607, 20)\n",
      "3366303\n",
      "156694927.99050006\n"
     ]
    }
   ],
   "source": [
    "np.sum(tokyo_edges_raw['length'])\n",
    "print(np.sum(tokyo_edges_raw['oneway']==True),\n",
    "np.sum(tokyo_edges_raw['oneway']==False), tokyo_edges_raw.shape)\n",
    "print(127514+3238789)\n",
    "print(np.sum(tokyo_edges_raw.loc[tokyo_edges_raw['oneway']==True, 'length'])+np.sum(tokyo_edges_raw.loc[tokyo_edges_raw['oneway']==False, 'length'])/2)"
   ]
  },
  {
   "cell_type": "code",
   "execution_count": 72,
   "metadata": {},
   "outputs": [
    {
     "data": {
      "text/html": [
       "<div>\n",
       "<style scoped>\n",
       "    .dataframe tbody tr th:only-of-type {\n",
       "        vertical-align: middle;\n",
       "    }\n",
       "\n",
       "    .dataframe tbody tr th {\n",
       "        vertical-align: top;\n",
       "    }\n",
       "\n",
       "    .dataframe thead th {\n",
       "        text-align: right;\n",
       "    }\n",
       "</style>\n",
       "<table border=\"1\" class=\"dataframe\">\n",
       "  <thead>\n",
       "    <tr style=\"text-align: right;\">\n",
       "      <th></th>\n",
       "      <th>node_id</th>\n",
       "      <th>osmid</th>\n",
       "      <th>lon</th>\n",
       "      <th>lat</th>\n",
       "    </tr>\n",
       "  </thead>\n",
       "  <tbody>\n",
       "    <tr>\n",
       "      <th>0</th>\n",
       "      <td>0</td>\n",
       "      <td>4395630592</td>\n",
       "      <td>139.713805</td>\n",
       "      <td>36.296069</td>\n",
       "    </tr>\n",
       "    <tr>\n",
       "      <th>1</th>\n",
       "      <td>1</td>\n",
       "      <td>4395630603</td>\n",
       "      <td>139.711021</td>\n",
       "      <td>36.286796</td>\n",
       "    </tr>\n",
       "    <tr>\n",
       "      <th>2</th>\n",
       "      <td>2</td>\n",
       "      <td>4395630616</td>\n",
       "      <td>139.714450</td>\n",
       "      <td>36.297458</td>\n",
       "    </tr>\n",
       "  </tbody>\n",
       "</table>\n",
       "</div>"
      ],
      "text/plain": [
       "   node_id       osmid         lon        lat\n",
       "0        0  4395630592  139.713805  36.296069\n",
       "1        1  4395630603  139.711021  36.286796\n",
       "2        2  4395630616  139.714450  36.297458"
      ]
     },
     "metadata": {},
     "output_type": "display_data"
    }
   ],
   "source": [
    "# reformat the columns\n",
    "tokyo_nodes = tokyo_nodes_raw.copy()\n",
    "tokyo_nodes['lon'] = tokyo_nodes['x']\n",
    "tokyo_nodes['lat'] = tokyo_nodes['y']\n",
    "tokyo_nodes['node_id'] = np.arange(tokyo_nodes.shape[0])\n",
    "tokyo_nodes = tokyo_nodes[['node_id', 'osmid', 'lon', 'lat']].reset_index(drop=True)\n",
    "node_osmid_id_dict = {getattr(n, 'osmid'): getattr(n,'node_id') for n in tokyo_nodes.itertuples()}\n",
    "display(tokyo_nodes.head(3))"
   ]
  },
  {
   "cell_type": "code",
   "execution_count": 87,
   "metadata": {},
   "outputs": [
    {
     "data": {
      "text/html": [
       "<div>\n",
       "<style scoped>\n",
       "    .dataframe tbody tr th:only-of-type {\n",
       "        vertical-align: middle;\n",
       "    }\n",
       "\n",
       "    .dataframe tbody tr th {\n",
       "        vertical-align: top;\n",
       "    }\n",
       "\n",
       "    .dataframe thead th {\n",
       "        text-align: right;\n",
       "    }\n",
       "</style>\n",
       "<table border=\"1\" class=\"dataframe\">\n",
       "  <thead>\n",
       "    <tr style=\"text-align: right;\">\n",
       "      <th></th>\n",
       "      <th>u</th>\n",
       "      <th>v</th>\n",
       "      <th>highway</th>\n",
       "      <th>length</th>\n",
       "      <th>lanes</th>\n",
       "      <th>maxspeed</th>\n",
       "      <th>geometry</th>\n",
       "      <th>start_node_id</th>\n",
       "      <th>end_node_id</th>\n",
       "      <th>signal</th>\n",
       "      <th>type</th>\n",
       "      <th>capacity</th>\n",
       "      <th>fft</th>\n",
       "    </tr>\n",
       "  </thead>\n",
       "  <tbody>\n",
       "    <tr>\n",
       "      <th>0</th>\n",
       "      <td>4395630592</td>\n",
       "      <td>1780011919</td>\n",
       "      <td>residential</td>\n",
       "      <td>39.627</td>\n",
       "      <td>1.0</td>\n",
       "      <td>40.0</td>\n",
       "      <td>LINESTRING (139.7138052 36.2960693, 139.713601...</td>\n",
       "      <td>0</td>\n",
       "      <td>456975</td>\n",
       "      <td>0.5</td>\n",
       "      <td>residential</td>\n",
       "      <td>900.0</td>\n",
       "      <td>3.56643</td>\n",
       "    </tr>\n",
       "    <tr>\n",
       "      <th>1</th>\n",
       "      <td>4395630603</td>\n",
       "      <td>4395623880</td>\n",
       "      <td>unclassified</td>\n",
       "      <td>42.152</td>\n",
       "      <td>1.0</td>\n",
       "      <td>40.0</td>\n",
       "      <td>LINESTRING (139.7110211 36.2867956, 139.710924...</td>\n",
       "      <td>1</td>\n",
       "      <td>1242479</td>\n",
       "      <td>0.5</td>\n",
       "      <td>unclassified</td>\n",
       "      <td>900.0</td>\n",
       "      <td>3.79368</td>\n",
       "    </tr>\n",
       "    <tr>\n",
       "      <th>2</th>\n",
       "      <td>4395630603</td>\n",
       "      <td>1780011985</td>\n",
       "      <td>unclassified</td>\n",
       "      <td>139.320</td>\n",
       "      <td>1.0</td>\n",
       "      <td>40.0</td>\n",
       "      <td>LINESTRING (139.7110211 36.2867956, 139.711073...</td>\n",
       "      <td>1</td>\n",
       "      <td>457019</td>\n",
       "      <td>0.5</td>\n",
       "      <td>unclassified</td>\n",
       "      <td>900.0</td>\n",
       "      <td>12.53880</td>\n",
       "    </tr>\n",
       "  </tbody>\n",
       "</table>\n",
       "</div>"
      ],
      "text/plain": [
       "            u           v       highway   length  lanes  maxspeed  \\\n",
       "0  4395630592  1780011919   residential   39.627    1.0      40.0   \n",
       "1  4395630603  4395623880  unclassified   42.152    1.0      40.0   \n",
       "2  4395630603  1780011985  unclassified  139.320    1.0      40.0   \n",
       "\n",
       "                                            geometry  start_node_id  \\\n",
       "0  LINESTRING (139.7138052 36.2960693, 139.713601...              0   \n",
       "1  LINESTRING (139.7110211 36.2867956, 139.710924...              1   \n",
       "2  LINESTRING (139.7110211 36.2867956, 139.711073...              1   \n",
       "\n",
       "   end_node_id  signal          type  capacity       fft  \n",
       "0       456975     0.5   residential     900.0   3.56643  \n",
       "1      1242479     0.5  unclassified     900.0   3.79368  \n",
       "2       457019     0.5  unclassified     900.0  12.53880  "
      ]
     },
     "metadata": {},
     "output_type": "display_data"
    },
    {
     "data": {
      "text/plain": [
       "lanes\n",
       "1.000000    3307908\n",
       "1.333333          2\n",
       "1.500000         97\n",
       "2.000000     156600\n",
       "dtype: int64"
      ]
     },
     "metadata": {},
     "output_type": "display_data"
    },
    {
     "data": {
      "text/plain": [
       "maxspeed\n",
       "40.000000     3213635\n",
       "46.666667          10\n",
       "50.000000         210\n",
       "60.000000      195006\n",
       "70.000000          25\n",
       "80.000000          12\n",
       "100.000000      55709\n",
       "dtype: int64"
      ]
     },
     "metadata": {},
     "output_type": "display_data"
    },
    {
     "data": {
      "text/plain": [
       "signal\n",
       "0.5    3408861\n",
       "1.0      55746\n",
       "dtype: int64"
      ]
     },
     "metadata": {},
     "output_type": "display_data"
    },
    {
     "data": {
      "text/plain": [
       "type\n",
       "bus_guideway             2\n",
       "bus_stop                 2\n",
       "crossing                24\n",
       "living_street        17398\n",
       "motorway              1958\n",
       "motorway_link         2637\n",
       "multiple             17219\n",
       "passing_place            4\n",
       "planned                 12\n",
       "primary              98881\n",
       "primary_link          1999\n",
       "residential        1534377\n",
       "rest_area                2\n",
       "road                   942\n",
       "route                    2\n",
       "secondary            93473\n",
       "secondary_link         633\n",
       "tertiary            396847\n",
       "tertiary_link         1615\n",
       "traffic_signals          4\n",
       "trail                    4\n",
       "trunk                48595\n",
       "trunk_link            2470\n",
       "unclassified       1245467\n",
       "yes                     40\n",
       "dtype: int64"
      ]
     },
     "metadata": {},
     "output_type": "display_data"
    }
   ],
   "source": [
    "tokyo_edges = tokyo_edges_raw[['u', 'v', 'highway', 'length', 'lanes', 'maxspeed', 'geometry']].copy()\n",
    "tokyo_edges['start_node_id'] = tokyo_edges['u'].map(node_osmid_id_dict)\n",
    "tokyo_edges['end_node_id'] = tokyo_edges['v'].map(node_osmid_id_dict)\n",
    "\n",
    "lanes_dict = {'motorway': 2, 'motorway_link': 2, 'trunk': 2, 'trunk_link': 2, 'primary': 2, 'primary_link': 2}\n",
    "def fill_lanes(value):\n",
    "    lanes = []\n",
    "    if '[' in value: \n",
    "        value = value[1:-1].replace(\"'\", \"\").replace(' ', '').split(',')\n",
    "    else: value=[value]\n",
    "    for v in value:\n",
    "        if v in lanes_dict: lanes.append(lanes_dict[v])\n",
    "        else: lanes.append(1)\n",
    "    return(np.mean(lanes))\n",
    "\n",
    "maxspeed_dict = {'motorway': 100, 'motorway_link': 100, 'trunk': 100, 'trunk_link': 100, 'primary': 60, 'primary_link': 60, 'secondary': 60, 'secondary_link': 60}\n",
    "def fill_maxspeed(value):\n",
    "    maxspeed = []\n",
    "    if '[' in value: \n",
    "        value = value[1:-1].replace(\"'\", \"\").replace(' ', '').split(',')\n",
    "    else: value=[value]\n",
    "    for v in value:\n",
    "        if v in maxspeed_dict: maxspeed.append(maxspeed_dict[v])\n",
    "        else: maxspeed.append(40)\n",
    "    return(np.mean(maxspeed))\n",
    "\n",
    "signal_dict = {'motorway': 1, 'motorway_link': 1, 'trunk': 1, 'trunk_link': 1}\n",
    "def fill_signal(value):\n",
    "    signal = []\n",
    "    if '[' in value: \n",
    "        value = value[1:-1].replace(\"'\", \"\").replace(' ', '').split(',')\n",
    "    else: value=[value]\n",
    "    for v in value:\n",
    "        if v in signal_dict: signal.append(signal_dict[v])\n",
    "        else: signal.append(0.5)\n",
    "    return(np.max(signal))\n",
    "\n",
    "def fill_type(value):\n",
    "    if '[' in value: return 'multiple'\n",
    "    else: return value\n",
    "\n",
    "tokyo_edges['lanes'] = tokyo_edges['highway'].apply(fill_lanes)\n",
    "tokyo_edges['maxspeed'] = tokyo_edges['highway'].apply(fill_maxspeed)\n",
    "tokyo_edges['signal'] = tokyo_edges['highway'].apply(fill_signal)\n",
    "tokyo_edges['type'] = tokyo_edges['highway'].apply(fill_type)\n",
    "tokyo_edges['capacity'] = tokyo_edges['lanes']*1800*tokyo_edges['signal']\n",
    "tokyo_edges['fft'] = tokyo_edges['length']/tokyo_edges['maxspeed']*3.6\n",
    "\n",
    "display(tokyo_edges.head(3))\n",
    "display(tokyo_edges.groupby('lanes').size())\n",
    "display(tokyo_edges.groupby('maxspeed').size())\n",
    "display(tokyo_edges.groupby('signal').size())\n",
    "display(tokyo_edges.groupby('type').size())"
   ]
  },
  {
   "cell_type": "code",
   "execution_count": 88,
   "metadata": {},
   "outputs": [],
   "source": [
    "tokyo_nodes.to_csv('network_inputs/tokyo_nodes.csv', index=False)\n",
    "tokyo_edges.to_csv('network_inputs/tokyo_edges.csv', index=False)"
   ]
  },
  {
   "cell_type": "code",
   "execution_count": null,
   "metadata": {},
   "outputs": [],
   "source": []
  }
 ],
 "metadata": {
  "kernelspec": {
   "display_name": "Python (geo)",
   "language": "python",
   "name": "geo"
  },
  "language_info": {
   "codemirror_mode": {
    "name": "ipython",
    "version": 3
   },
   "file_extension": ".py",
   "mimetype": "text/x-python",
   "name": "python",
   "nbconvert_exporter": "python",
   "pygments_lexer": "ipython3",
   "version": "3.7.8"
  }
 },
 "nbformat": 4,
 "nbformat_minor": 2
}
