{
 "metadata": {
  "language_info": {
   "codemirror_mode": {
    "name": "ipython",
    "version": 3
   },
   "file_extension": ".py",
   "mimetype": "text/x-python",
   "name": "python",
   "nbconvert_exporter": "python",
   "pygments_lexer": "ipython3",
   "version": "3.8.5-final"
  },
  "orig_nbformat": 2,
  "kernelspec": {
   "name": "Python 3.8.5 64-bit ('py38': conda)",
   "display_name": "Python 3.8.5 64-bit ('py38': conda)",
   "metadata": {
    "interpreter": {
     "hash": "d074cdcfa7a954f62bc437ba0c41519fba2b48612aa5ee5da3d3dd7dfcdb1ce7"
    }
   }
  }
 },
 "nbformat": 4,
 "nbformat_minor": 2,
 "cells": [
  {
   "cell_type": "code",
   "execution_count": 1,
   "metadata": {},
   "outputs": [],
   "source": [
    "import numpy as np \n",
    "import pandas as pd \n",
    "import imageio\n",
    "import geopandas as gpd\n",
    "import contextily as ctx\n",
    "from shapely.wkt import loads\n",
    "import matplotlib.pyplot as plt \n",
    "from mpl_toolkits.axes_grid1 import make_axes_locatable"
   ]
  },
  {
   "cell_type": "code",
   "execution_count": 1,
   "metadata": {},
   "outputs": [],
   "source": [
    "import imageio\n",
    "images = []\n",
    "for hour in range(3,8):\n",
    "    for quarter in range(4):\n",
    "        try:\n",
    "            images.append(imageio.imread('flow_map_hr{}_qt{}_.png'.format(hour, quarter)))\n",
    "        except FileNotFoundError:\n",
    "            pass\n",
    "imageio.mimsave('tokyo_animation_flow.gif', images, duration=1)"
   ]
  },
  {
   "cell_type": "code",
   "execution_count": null,
   "metadata": {},
   "outputs": [],
   "source": []
  }
 ]
}