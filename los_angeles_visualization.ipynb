{
 "metadata": {
  "language_info": {
   "codemirror_mode": {
    "name": "ipython",
    "version": 3
   },
   "file_extension": ".py",
   "mimetype": "text/x-python",
   "name": "python",
   "nbconvert_exporter": "python",
   "pygments_lexer": "ipython3",
   "version": 3
  },
  "orig_nbformat": 2,
  "kernelspec": {
   "name": "python_defaultSpec_1595087127720",
   "display_name": "Python 3.7.7 64-bit ('geo': conda)"
  }
 },
 "nbformat": 4,
 "nbformat_minor": 2,
 "cells": [
  {
   "cell_type": "code",
   "execution_count": 1,
   "metadata": {},
   "outputs": [],
   "source": [
    "import numpy as np \n",
    "import pandas as pd \n"
   ]
  },
  {
   "cell_type": "code",
   "execution_count": 4,
   "metadata": {},
   "outputs": [
    {
     "output_type": "execute_result",
     "data": {
      "text/plain": "   edge_id_igraph      type  tot_vol  true_vol   t_avg\n0               0  motorway      9.0       0.0   38.37\n1               1  motorway      9.0       0.0  258.21\n2               6  motorway   2632.0      16.0  184.80\n3               7  motorway   2615.0      16.0   47.42\n4               8  motorway   2615.0      16.0   24.65",
      "text/html": "<div>\n<style scoped>\n    .dataframe tbody tr th:only-of-type {\n        vertical-align: middle;\n    }\n\n    .dataframe tbody tr th {\n        vertical-align: top;\n    }\n\n    .dataframe thead th {\n        text-align: right;\n    }\n</style>\n<table border=\"1\" class=\"dataframe\">\n  <thead>\n    <tr style=\"text-align: right;\">\n      <th></th>\n      <th>edge_id_igraph</th>\n      <th>type</th>\n      <th>tot_vol</th>\n      <th>true_vol</th>\n      <th>t_avg</th>\n    </tr>\n  </thead>\n  <tbody>\n    <tr>\n      <th>0</th>\n      <td>0</td>\n      <td>motorway</td>\n      <td>9.0</td>\n      <td>0.0</td>\n      <td>38.37</td>\n    </tr>\n    <tr>\n      <th>1</th>\n      <td>1</td>\n      <td>motorway</td>\n      <td>9.0</td>\n      <td>0.0</td>\n      <td>258.21</td>\n    </tr>\n    <tr>\n      <th>2</th>\n      <td>6</td>\n      <td>motorway</td>\n      <td>2632.0</td>\n      <td>16.0</td>\n      <td>184.80</td>\n    </tr>\n    <tr>\n      <th>3</th>\n      <td>7</td>\n      <td>motorway</td>\n      <td>2615.0</td>\n      <td>16.0</td>\n      <td>47.42</td>\n    </tr>\n    <tr>\n      <th>4</th>\n      <td>8</td>\n      <td>motorway</td>\n      <td>2615.0</td>\n      <td>16.0</td>\n      <td>24.65</td>\n    </tr>\n  </tbody>\n</table>\n</div>"
     },
     "metadata": {},
     "execution_count": 4
    }
   ],
   "source": [
    "edges_df0 = pd.read_csv('projects/los_angeles/network_inputs/osm_edges_scag.csv')\n",
    "\n",
    "day30 = pd.read_csv('projects/los_angeles/simulation_outputs/edges_df/edges_df_scenscag_5pct_bc30_r0_DYna_HR4_QT3.csv')\n",
    "\n",
    "day90 = pd.read_csv('projects/los_angeles/simulation_outputs/edges_df/edges_df_scenscag_5pct_bc90_r0_DYna_HR4_QT3.csv')\n",
    "\n",
    "day30.head()"
   ]
  },
  {
   "cell_type": "code",
   "execution_count": 5,
   "metadata": {},
   "outputs": [],
   "source": [
    "edges_df = pd.merge(edges_df0, day30[['edge_id_igraph', 'tot_vol']], how='left', on='edge_id_igraph')\n",
    "edges_df = pd.merge(edges_df, day90[['edge_id_igraph', 'tot_vol']], how='left', on='edge_id_igraph', suffixes=['_day30', '_day90'])\n"
   ]
  },
  {
   "cell_type": "code",
   "execution_count": 6,
   "metadata": {
    "tags": []
   },
   "outputs": [
    {
     "output_type": "stream",
     "name": "stdout",
     "text": "666.0 -340.0\n"
    }
   ],
   "source": [
    "edges_df = edges_df.fillna({'tot_vol_day30': 0, 'tot_vol_day90': 0})\n",
    "edges_df['tot_vol_90-30'] = edges_df['tot_vol_day90'] - edges_df['tot_vol_day30']\n",
    "print(np.max(edges_df['tot_vol_90-30']), np.min(edges_df['tot_vol_90-30']))"
   ]
  },
  {
   "cell_type": "code",
   "execution_count": 7,
   "metadata": {},
   "outputs": [],
   "source": [
    "edges_df.loc[edges_df['tot_vol_90-30']!=0, ['edge_id_igraph', 'tot_vol_day30', 'tot_vol_day90', 'tot_vol_90-30', 'geometry']].to_csv('projects/los_angeles/simulation_outputs/edge_vol_90-30.csv', index=False)"
   ]
  },
  {
   "cell_type": "code",
   "execution_count": 15,
   "metadata": {},
   "outputs": [],
   "source": [
    "### process bridge closure\n",
    "bc30 = pd.read_csv('projects/los_angeles/network_inputs/bridge_closure/bridge_closure_day30.csv')\n",
    "bc30_osmid = bc30['OSMWayID1'].values.tolist() + bc30.dropna(subset=['OSMWayID2'])['OSMWayID2'].values.tolist()\n",
    "bc30_df = edges_df.loc[edges_df['edge_osmid'].isin(bc30_osmid), ['edge_id_igraph', 'geometry']].to_csv('projects/los_angeles/simulation_outputs/30bc.csv', index=False)\n",
    "\n",
    "bc90 = pd.read_csv('projects/los_angeles/network_inputs/bridge_closure/bridge_closure_day90.csv')\n",
    "bc90_osmid = bc90['OSMWayID1'].values.tolist() + bc90.dropna(subset=['OSMWayID2'])['OSMWayID2'].values.tolist()\n",
    "\n",
    "bc90_df = edges_df.loc[edges_df['edge_osmid'].isin(bc90_osmid), ['edge_id_igraph', 'geometry']].to_csv('projects/los_angeles/simulation_outputs/90bc.csv', index=False)"
   ]
  },
  {
   "cell_type": "code",
   "execution_count": null,
   "metadata": {},
   "outputs": [],
   "source": []
  }
 ]
}